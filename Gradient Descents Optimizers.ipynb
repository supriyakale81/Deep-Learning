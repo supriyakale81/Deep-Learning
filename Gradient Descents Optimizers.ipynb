{
 "cells": [
  {
   "cell_type": "code",
   "execution_count": 1,
   "id": "0d79c8c1",
   "metadata": {},
   "outputs": [],
   "source": [
    "import numpy as np\n",
    "import pandas as pd"
   ]
  },
  {
   "cell_type": "code",
   "execution_count": 2,
   "id": "89922dea",
   "metadata": {},
   "outputs": [],
   "source": [
    "data=pd.read_csv(\"E:\\Datasets\\Social_Network_Ads (3).csv\")"
   ]
  },
  {
   "cell_type": "code",
   "execution_count": 3,
   "id": "a1c269fd",
   "metadata": {},
   "outputs": [
    {
     "data": {
      "text/html": [
       "<div>\n",
       "<style scoped>\n",
       "    .dataframe tbody tr th:only-of-type {\n",
       "        vertical-align: middle;\n",
       "    }\n",
       "\n",
       "    .dataframe tbody tr th {\n",
       "        vertical-align: top;\n",
       "    }\n",
       "\n",
       "    .dataframe thead th {\n",
       "        text-align: right;\n",
       "    }\n",
       "</style>\n",
       "<table border=\"1\" class=\"dataframe\">\n",
       "  <thead>\n",
       "    <tr style=\"text-align: right;\">\n",
       "      <th></th>\n",
       "      <th>Age</th>\n",
       "      <th>EstimatedSalary</th>\n",
       "      <th>Purchased</th>\n",
       "    </tr>\n",
       "  </thead>\n",
       "  <tbody>\n",
       "    <tr>\n",
       "      <th>0</th>\n",
       "      <td>19</td>\n",
       "      <td>19000</td>\n",
       "      <td>0</td>\n",
       "    </tr>\n",
       "    <tr>\n",
       "      <th>1</th>\n",
       "      <td>35</td>\n",
       "      <td>20000</td>\n",
       "      <td>0</td>\n",
       "    </tr>\n",
       "    <tr>\n",
       "      <th>2</th>\n",
       "      <td>26</td>\n",
       "      <td>43000</td>\n",
       "      <td>0</td>\n",
       "    </tr>\n",
       "    <tr>\n",
       "      <th>3</th>\n",
       "      <td>27</td>\n",
       "      <td>57000</td>\n",
       "      <td>0</td>\n",
       "    </tr>\n",
       "    <tr>\n",
       "      <th>4</th>\n",
       "      <td>19</td>\n",
       "      <td>76000</td>\n",
       "      <td>0</td>\n",
       "    </tr>\n",
       "  </tbody>\n",
       "</table>\n",
       "</div>"
      ],
      "text/plain": [
       "   Age  EstimatedSalary  Purchased\n",
       "0   19            19000          0\n",
       "1   35            20000          0\n",
       "2   26            43000          0\n",
       "3   27            57000          0\n",
       "4   19            76000          0"
      ]
     },
     "execution_count": 3,
     "metadata": {},
     "output_type": "execute_result"
    }
   ],
   "source": [
    "data.head()"
   ]
  },
  {
   "cell_type": "code",
   "execution_count": 4,
   "id": "89d69743",
   "metadata": {},
   "outputs": [
    {
     "data": {
      "text/plain": [
       "(400, 3)"
      ]
     },
     "execution_count": 4,
     "metadata": {},
     "output_type": "execute_result"
    }
   ],
   "source": [
    "data.shape"
   ]
  },
  {
   "cell_type": "code",
   "execution_count": 5,
   "id": "eb01b43a",
   "metadata": {},
   "outputs": [
    {
     "name": "stdout",
     "output_type": "stream",
     "text": [
      "<class 'pandas.core.frame.DataFrame'>\n",
      "RangeIndex: 400 entries, 0 to 399\n",
      "Data columns (total 3 columns):\n",
      " #   Column           Non-Null Count  Dtype\n",
      "---  ------           --------------  -----\n",
      " 0   Age              400 non-null    int64\n",
      " 1   EstimatedSalary  400 non-null    int64\n",
      " 2   Purchased        400 non-null    int64\n",
      "dtypes: int64(3)\n",
      "memory usage: 9.5 KB\n"
     ]
    }
   ],
   "source": [
    "data.info()"
   ]
  },
  {
   "cell_type": "code",
   "execution_count": 6,
   "id": "aa4e5aea",
   "metadata": {},
   "outputs": [
    {
     "data": {
      "text/plain": [
       "Age                0\n",
       "EstimatedSalary    0\n",
       "Purchased          0\n",
       "dtype: int64"
      ]
     },
     "execution_count": 6,
     "metadata": {},
     "output_type": "execute_result"
    }
   ],
   "source": [
    "data.isna().sum()"
   ]
  },
  {
   "cell_type": "code",
   "execution_count": 7,
   "id": "0572d297",
   "metadata": {},
   "outputs": [],
   "source": [
    "x=data.iloc[:,:-1]\n",
    "y=data.iloc[:,-1]"
   ]
  },
  {
   "cell_type": "code",
   "execution_count": 8,
   "id": "a908774f",
   "metadata": {},
   "outputs": [],
   "source": [
    "from sklearn.preprocessing import StandardScaler\n",
    "scaler = StandardScaler()\n",
    "\n",
    "x = scaler.fit_transform(x)"
   ]
  },
  {
   "cell_type": "code",
   "execution_count": null,
   "id": "55d3a3aa",
   "metadata": {},
   "outputs": [],
   "source": []
  },
  {
   "cell_type": "code",
   "execution_count": 9,
   "id": "a59f0336",
   "metadata": {},
   "outputs": [],
   "source": [
    "from sklearn.model_selection import train_test_split\n",
    "x_train,x_test,y_train,y_test=train_test_split(x,y,test_size=0.2,random_state=50)"
   ]
  },
  {
   "cell_type": "code",
   "execution_count": 10,
   "id": "155b0926",
   "metadata": {},
   "outputs": [],
   "source": [
    "import tensorflow as tf\n",
    "from tensorflow import keras\n",
    "from keras import Sequential\n",
    "from keras.layers import Dense"
   ]
  },
  {
   "cell_type": "markdown",
   "id": "d06aa62b",
   "metadata": {},
   "source": [
    "### Batch Gradient Descent"
   ]
  },
  {
   "cell_type": "code",
   "execution_count": 11,
   "id": "f9161ba8",
   "metadata": {},
   "outputs": [],
   "source": [
    "model = Sequential()    # define model\n",
    "\n",
    "model.add(Dense(10,activation='relu',input_dim=2))   #Input Layer\n",
    "model.add(Dense(10,activation='relu'))             # Hidden Layer\n",
    "model.add(Dense(1,activation='sigmoid'))          # Output layer"
   ]
  },
  {
   "cell_type": "code",
   "execution_count": 12,
   "id": "762e7332",
   "metadata": {},
   "outputs": [
    {
     "name": "stdout",
     "output_type": "stream",
     "text": [
      "Model: \"sequential\"\n",
      "_________________________________________________________________\n",
      " Layer (type)                Output Shape              Param #   \n",
      "=================================================================\n",
      " dense (Dense)               (None, 10)                30        \n",
      "                                                                 \n",
      " dense_1 (Dense)             (None, 10)                110       \n",
      "                                                                 \n",
      " dense_2 (Dense)             (None, 1)                 11        \n",
      "                                                                 \n",
      "=================================================================\n",
      "Total params: 151\n",
      "Trainable params: 151\n",
      "Non-trainable params: 0\n",
      "_________________________________________________________________\n"
     ]
    }
   ],
   "source": [
    "model.summary()"
   ]
  },
  {
   "cell_type": "code",
   "execution_count": 13,
   "id": "84c40eeb",
   "metadata": {},
   "outputs": [
    {
     "name": "stdout",
     "output_type": "stream",
     "text": [
      "Epoch 1/100\n",
      "1/1 [==============================] - 2s 2s/step - loss: 0.6945 - accuracy: 0.4570 - val_loss: 0.6919 - val_accuracy: 0.4688\n",
      "Epoch 2/100\n",
      "1/1 [==============================] - 0s 94ms/step - loss: 0.6885 - accuracy: 0.4688 - val_loss: 0.6874 - val_accuracy: 0.4688\n",
      "Epoch 3/100\n",
      "1/1 [==============================] - 0s 88ms/step - loss: 0.6837 - accuracy: 0.4961 - val_loss: 0.6834 - val_accuracy: 0.5156\n",
      "Epoch 4/100\n",
      "1/1 [==============================] - 0s 96ms/step - loss: 0.6797 - accuracy: 0.5312 - val_loss: 0.6798 - val_accuracy: 0.5156\n",
      "Epoch 5/100\n",
      "1/1 [==============================] - 0s 90ms/step - loss: 0.6761 - accuracy: 0.5742 - val_loss: 0.6765 - val_accuracy: 0.5156\n",
      "Epoch 6/100\n",
      "1/1 [==============================] - 0s 89ms/step - loss: 0.6730 - accuracy: 0.5898 - val_loss: 0.6734 - val_accuracy: 0.5312\n",
      "Epoch 7/100\n",
      "1/1 [==============================] - 0s 89ms/step - loss: 0.6701 - accuracy: 0.6055 - val_loss: 0.6704 - val_accuracy: 0.5938\n",
      "Epoch 8/100\n",
      "1/1 [==============================] - 0s 79ms/step - loss: 0.6674 - accuracy: 0.6211 - val_loss: 0.6676 - val_accuracy: 0.6250\n",
      "Epoch 9/100\n",
      "1/1 [==============================] - 0s 94ms/step - loss: 0.6648 - accuracy: 0.6406 - val_loss: 0.6648 - val_accuracy: 0.6250\n",
      "Epoch 10/100\n",
      "1/1 [==============================] - 0s 83ms/step - loss: 0.6623 - accuracy: 0.6602 - val_loss: 0.6619 - val_accuracy: 0.7031\n",
      "Epoch 11/100\n",
      "1/1 [==============================] - 0s 101ms/step - loss: 0.6598 - accuracy: 0.6836 - val_loss: 0.6593 - val_accuracy: 0.7656\n",
      "Epoch 12/100\n",
      "1/1 [==============================] - 0s 91ms/step - loss: 0.6574 - accuracy: 0.7148 - val_loss: 0.6565 - val_accuracy: 0.7812\n",
      "Epoch 13/100\n",
      "1/1 [==============================] - 0s 103ms/step - loss: 0.6551 - accuracy: 0.7344 - val_loss: 0.6539 - val_accuracy: 0.7812\n",
      "Epoch 14/100\n",
      "1/1 [==============================] - 0s 82ms/step - loss: 0.6528 - accuracy: 0.7383 - val_loss: 0.6513 - val_accuracy: 0.7812\n",
      "Epoch 15/100\n",
      "1/1 [==============================] - 0s 121ms/step - loss: 0.6505 - accuracy: 0.7422 - val_loss: 0.6487 - val_accuracy: 0.7969\n",
      "Epoch 16/100\n",
      "1/1 [==============================] - 0s 88ms/step - loss: 0.6483 - accuracy: 0.7461 - val_loss: 0.6462 - val_accuracy: 0.7969\n",
      "Epoch 17/100\n",
      "1/1 [==============================] - 0s 98ms/step - loss: 0.6462 - accuracy: 0.7461 - val_loss: 0.6438 - val_accuracy: 0.8125\n",
      "Epoch 18/100\n",
      "1/1 [==============================] - 0s 93ms/step - loss: 0.6440 - accuracy: 0.7500 - val_loss: 0.6413 - val_accuracy: 0.8281\n",
      "Epoch 19/100\n",
      "1/1 [==============================] - 0s 86ms/step - loss: 0.6419 - accuracy: 0.7500 - val_loss: 0.6389 - val_accuracy: 0.8281\n",
      "Epoch 20/100\n",
      "1/1 [==============================] - 0s 86ms/step - loss: 0.6398 - accuracy: 0.7539 - val_loss: 0.6364 - val_accuracy: 0.8281\n",
      "Epoch 21/100\n",
      "1/1 [==============================] - 0s 89ms/step - loss: 0.6377 - accuracy: 0.7539 - val_loss: 0.6340 - val_accuracy: 0.8281\n",
      "Epoch 22/100\n",
      "1/1 [==============================] - 0s 71ms/step - loss: 0.6357 - accuracy: 0.7539 - val_loss: 0.6315 - val_accuracy: 0.8281\n",
      "Epoch 23/100\n",
      "1/1 [==============================] - 0s 63ms/step - loss: 0.6337 - accuracy: 0.7734 - val_loss: 0.6291 - val_accuracy: 0.8438\n",
      "Epoch 24/100\n",
      "1/1 [==============================] - 0s 63ms/step - loss: 0.6317 - accuracy: 0.7734 - val_loss: 0.6267 - val_accuracy: 0.8438\n",
      "Epoch 25/100\n",
      "1/1 [==============================] - 0s 108ms/step - loss: 0.6297 - accuracy: 0.7734 - val_loss: 0.6243 - val_accuracy: 0.8438\n",
      "Epoch 26/100\n",
      "1/1 [==============================] - 0s 108ms/step - loss: 0.6277 - accuracy: 0.7734 - val_loss: 0.6219 - val_accuracy: 0.8438\n",
      "Epoch 27/100\n",
      "1/1 [==============================] - 0s 93ms/step - loss: 0.6257 - accuracy: 0.7734 - val_loss: 0.6196 - val_accuracy: 0.8438\n",
      "Epoch 28/100\n",
      "1/1 [==============================] - 0s 90ms/step - loss: 0.6238 - accuracy: 0.7734 - val_loss: 0.6173 - val_accuracy: 0.8438\n",
      "Epoch 29/100\n",
      "1/1 [==============================] - 0s 91ms/step - loss: 0.6218 - accuracy: 0.7734 - val_loss: 0.6150 - val_accuracy: 0.8438\n",
      "Epoch 30/100\n",
      "1/1 [==============================] - 0s 101ms/step - loss: 0.6199 - accuracy: 0.7734 - val_loss: 0.6128 - val_accuracy: 0.8438\n",
      "Epoch 31/100\n",
      "1/1 [==============================] - 0s 94ms/step - loss: 0.6179 - accuracy: 0.7734 - val_loss: 0.6105 - val_accuracy: 0.8438\n",
      "Epoch 32/100\n",
      "1/1 [==============================] - 0s 117ms/step - loss: 0.6160 - accuracy: 0.7734 - val_loss: 0.6083 - val_accuracy: 0.8438\n",
      "Epoch 33/100\n",
      "1/1 [==============================] - 0s 93ms/step - loss: 0.6141 - accuracy: 0.7734 - val_loss: 0.6060 - val_accuracy: 0.8438\n",
      "Epoch 34/100\n",
      "1/1 [==============================] - 0s 129ms/step - loss: 0.6122 - accuracy: 0.7734 - val_loss: 0.6039 - val_accuracy: 0.8438\n",
      "Epoch 35/100\n",
      "1/1 [==============================] - 0s 105ms/step - loss: 0.6103 - accuracy: 0.7734 - val_loss: 0.6016 - val_accuracy: 0.8438\n",
      "Epoch 36/100\n",
      "1/1 [==============================] - 0s 125ms/step - loss: 0.6084 - accuracy: 0.7734 - val_loss: 0.5995 - val_accuracy: 0.8438\n",
      "Epoch 37/100\n",
      "1/1 [==============================] - 0s 108ms/step - loss: 0.6066 - accuracy: 0.7734 - val_loss: 0.5972 - val_accuracy: 0.8438\n",
      "Epoch 38/100\n",
      "1/1 [==============================] - 0s 114ms/step - loss: 0.6047 - accuracy: 0.7734 - val_loss: 0.5952 - val_accuracy: 0.8438\n",
      "Epoch 39/100\n",
      "1/1 [==============================] - 0s 108ms/step - loss: 0.6029 - accuracy: 0.7734 - val_loss: 0.5929 - val_accuracy: 0.8438\n",
      "Epoch 40/100\n",
      "1/1 [==============================] - 0s 108ms/step - loss: 0.6010 - accuracy: 0.7734 - val_loss: 0.5910 - val_accuracy: 0.8438\n",
      "Epoch 41/100\n",
      "1/1 [==============================] - 0s 208ms/step - loss: 0.5992 - accuracy: 0.7773 - val_loss: 0.5887 - val_accuracy: 0.8438\n",
      "Epoch 42/100\n",
      "1/1 [==============================] - 0s 138ms/step - loss: 0.5974 - accuracy: 0.7773 - val_loss: 0.5867 - val_accuracy: 0.8438\n",
      "Epoch 43/100\n",
      "1/1 [==============================] - 0s 126ms/step - loss: 0.5956 - accuracy: 0.7773 - val_loss: 0.5845 - val_accuracy: 0.8438\n",
      "Epoch 44/100\n",
      "1/1 [==============================] - 0s 128ms/step - loss: 0.5938 - accuracy: 0.7773 - val_loss: 0.5824 - val_accuracy: 0.8438\n",
      "Epoch 45/100\n",
      "1/1 [==============================] - 0s 109ms/step - loss: 0.5920 - accuracy: 0.7812 - val_loss: 0.5802 - val_accuracy: 0.8438\n",
      "Epoch 46/100\n",
      "1/1 [==============================] - 0s 115ms/step - loss: 0.5902 - accuracy: 0.7852 - val_loss: 0.5783 - val_accuracy: 0.8438\n",
      "Epoch 47/100\n",
      "1/1 [==============================] - 0s 95ms/step - loss: 0.5884 - accuracy: 0.7969 - val_loss: 0.5759 - val_accuracy: 0.8594\n",
      "Epoch 48/100\n",
      "1/1 [==============================] - 0s 88ms/step - loss: 0.5866 - accuracy: 0.8008 - val_loss: 0.5738 - val_accuracy: 0.8594\n",
      "Epoch 49/100\n",
      "1/1 [==============================] - 0s 81ms/step - loss: 0.5848 - accuracy: 0.8008 - val_loss: 0.5715 - val_accuracy: 0.8594\n",
      "Epoch 50/100\n",
      "1/1 [==============================] - 0s 84ms/step - loss: 0.5829 - accuracy: 0.8008 - val_loss: 0.5695 - val_accuracy: 0.8594\n",
      "Epoch 51/100\n",
      "1/1 [==============================] - 0s 114ms/step - loss: 0.5811 - accuracy: 0.8008 - val_loss: 0.5672 - val_accuracy: 0.8594\n",
      "Epoch 52/100\n",
      "1/1 [==============================] - 0s 116ms/step - loss: 0.5792 - accuracy: 0.8008 - val_loss: 0.5650 - val_accuracy: 0.8750\n",
      "Epoch 53/100\n",
      "1/1 [==============================] - 0s 116ms/step - loss: 0.5774 - accuracy: 0.8164 - val_loss: 0.5627 - val_accuracy: 0.8750\n",
      "Epoch 54/100\n",
      "1/1 [==============================] - 0s 108ms/step - loss: 0.5756 - accuracy: 0.8164 - val_loss: 0.5607 - val_accuracy: 0.8750\n",
      "Epoch 55/100\n",
      "1/1 [==============================] - 0s 132ms/step - loss: 0.5738 - accuracy: 0.8203 - val_loss: 0.5584 - val_accuracy: 0.8750\n",
      "Epoch 56/100\n",
      "1/1 [==============================] - 0s 118ms/step - loss: 0.5720 - accuracy: 0.8203 - val_loss: 0.5562 - val_accuracy: 0.8750\n",
      "Epoch 57/100\n",
      "1/1 [==============================] - 0s 152ms/step - loss: 0.5702 - accuracy: 0.8203 - val_loss: 0.5540 - val_accuracy: 0.8750\n",
      "Epoch 58/100\n",
      "1/1 [==============================] - 0s 134ms/step - loss: 0.5684 - accuracy: 0.8203 - val_loss: 0.5518 - val_accuracy: 0.8750\n"
     ]
    },
    {
     "name": "stdout",
     "output_type": "stream",
     "text": [
      "Epoch 59/100\n",
      "1/1 [==============================] - 0s 135ms/step - loss: 0.5665 - accuracy: 0.8203 - val_loss: 0.5494 - val_accuracy: 0.8750\n",
      "Epoch 60/100\n",
      "1/1 [==============================] - 0s 104ms/step - loss: 0.5647 - accuracy: 0.8203 - val_loss: 0.5472 - val_accuracy: 0.8750\n",
      "Epoch 61/100\n",
      "1/1 [==============================] - 0s 95ms/step - loss: 0.5628 - accuracy: 0.8203 - val_loss: 0.5448 - val_accuracy: 0.8750\n",
      "Epoch 62/100\n",
      "1/1 [==============================] - 0s 126ms/step - loss: 0.5610 - accuracy: 0.8203 - val_loss: 0.5425 - val_accuracy: 0.8750\n",
      "Epoch 63/100\n",
      "1/1 [==============================] - 0s 118ms/step - loss: 0.5591 - accuracy: 0.8203 - val_loss: 0.5402 - val_accuracy: 0.8750\n",
      "Epoch 64/100\n",
      "1/1 [==============================] - 0s 128ms/step - loss: 0.5572 - accuracy: 0.8203 - val_loss: 0.5378 - val_accuracy: 0.8750\n",
      "Epoch 65/100\n",
      "1/1 [==============================] - 0s 89ms/step - loss: 0.5553 - accuracy: 0.8203 - val_loss: 0.5355 - val_accuracy: 0.8750\n",
      "Epoch 66/100\n",
      "1/1 [==============================] - 0s 91ms/step - loss: 0.5534 - accuracy: 0.8203 - val_loss: 0.5331 - val_accuracy: 0.8750\n",
      "Epoch 67/100\n",
      "1/1 [==============================] - 0s 98ms/step - loss: 0.5515 - accuracy: 0.8242 - val_loss: 0.5309 - val_accuracy: 0.8750\n",
      "Epoch 68/100\n",
      "1/1 [==============================] - 0s 100ms/step - loss: 0.5496 - accuracy: 0.8242 - val_loss: 0.5286 - val_accuracy: 0.8750\n",
      "Epoch 69/100\n",
      "1/1 [==============================] - 0s 108ms/step - loss: 0.5478 - accuracy: 0.8242 - val_loss: 0.5264 - val_accuracy: 0.8750\n",
      "Epoch 70/100\n",
      "1/1 [==============================] - 0s 102ms/step - loss: 0.5459 - accuracy: 0.8242 - val_loss: 0.5242 - val_accuracy: 0.8750\n",
      "Epoch 71/100\n",
      "1/1 [==============================] - 0s 99ms/step - loss: 0.5441 - accuracy: 0.8242 - val_loss: 0.5219 - val_accuracy: 0.8750\n",
      "Epoch 72/100\n",
      "1/1 [==============================] - 0s 109ms/step - loss: 0.5422 - accuracy: 0.8242 - val_loss: 0.5197 - val_accuracy: 0.8750\n",
      "Epoch 73/100\n",
      "1/1 [==============================] - 0s 143ms/step - loss: 0.5404 - accuracy: 0.8281 - val_loss: 0.5174 - val_accuracy: 0.8750\n",
      "Epoch 74/100\n",
      "1/1 [==============================] - 0s 140ms/step - loss: 0.5385 - accuracy: 0.8281 - val_loss: 0.5151 - val_accuracy: 0.8750\n",
      "Epoch 75/100\n",
      "1/1 [==============================] - 0s 116ms/step - loss: 0.5366 - accuracy: 0.8281 - val_loss: 0.5128 - val_accuracy: 0.8750\n",
      "Epoch 76/100\n",
      "1/1 [==============================] - 0s 106ms/step - loss: 0.5347 - accuracy: 0.8242 - val_loss: 0.5106 - val_accuracy: 0.8750\n",
      "Epoch 77/100\n",
      "1/1 [==============================] - 0s 112ms/step - loss: 0.5328 - accuracy: 0.8242 - val_loss: 0.5083 - val_accuracy: 0.8750\n",
      "Epoch 78/100\n",
      "1/1 [==============================] - 0s 110ms/step - loss: 0.5310 - accuracy: 0.8242 - val_loss: 0.5061 - val_accuracy: 0.8750\n",
      "Epoch 79/100\n",
      "1/1 [==============================] - 0s 152ms/step - loss: 0.5291 - accuracy: 0.8242 - val_loss: 0.5039 - val_accuracy: 0.8750\n",
      "Epoch 80/100\n",
      "1/1 [==============================] - 0s 153ms/step - loss: 0.5272 - accuracy: 0.8242 - val_loss: 0.5017 - val_accuracy: 0.8750\n",
      "Epoch 81/100\n",
      "1/1 [==============================] - 0s 105ms/step - loss: 0.5253 - accuracy: 0.8242 - val_loss: 0.4996 - val_accuracy: 0.8750\n",
      "Epoch 82/100\n",
      "1/1 [==============================] - 0s 69ms/step - loss: 0.5235 - accuracy: 0.8242 - val_loss: 0.4974 - val_accuracy: 0.8750\n",
      "Epoch 83/100\n",
      "1/1 [==============================] - 0s 121ms/step - loss: 0.5216 - accuracy: 0.8242 - val_loss: 0.4951 - val_accuracy: 0.8750\n",
      "Epoch 84/100\n",
      "1/1 [==============================] - 0s 114ms/step - loss: 0.5197 - accuracy: 0.8242 - val_loss: 0.4929 - val_accuracy: 0.8750\n",
      "Epoch 85/100\n",
      "1/1 [==============================] - 0s 128ms/step - loss: 0.5179 - accuracy: 0.8242 - val_loss: 0.4907 - val_accuracy: 0.8750\n",
      "Epoch 86/100\n",
      "1/1 [==============================] - 0s 100ms/step - loss: 0.5160 - accuracy: 0.8242 - val_loss: 0.4884 - val_accuracy: 0.8750\n",
      "Epoch 87/100\n",
      "1/1 [==============================] - 0s 117ms/step - loss: 0.5140 - accuracy: 0.8242 - val_loss: 0.4862 - val_accuracy: 0.8750\n",
      "Epoch 88/100\n",
      "1/1 [==============================] - 0s 119ms/step - loss: 0.5121 - accuracy: 0.8242 - val_loss: 0.4839 - val_accuracy: 0.8750\n",
      "Epoch 89/100\n",
      "1/1 [==============================] - 0s 107ms/step - loss: 0.5102 - accuracy: 0.8242 - val_loss: 0.4816 - val_accuracy: 0.8750\n",
      "Epoch 90/100\n",
      "1/1 [==============================] - 0s 120ms/step - loss: 0.5083 - accuracy: 0.8242 - val_loss: 0.4793 - val_accuracy: 0.8750\n",
      "Epoch 91/100\n",
      "1/1 [==============================] - 0s 117ms/step - loss: 0.5064 - accuracy: 0.8281 - val_loss: 0.4770 - val_accuracy: 0.8750\n",
      "Epoch 92/100\n",
      "1/1 [==============================] - 0s 110ms/step - loss: 0.5045 - accuracy: 0.8281 - val_loss: 0.4746 - val_accuracy: 0.8750\n",
      "Epoch 93/100\n",
      "1/1 [==============================] - 0s 123ms/step - loss: 0.5025 - accuracy: 0.8281 - val_loss: 0.4723 - val_accuracy: 0.8750\n",
      "Epoch 94/100\n",
      "1/1 [==============================] - 0s 126ms/step - loss: 0.5006 - accuracy: 0.8281 - val_loss: 0.4700 - val_accuracy: 0.8750\n",
      "Epoch 95/100\n",
      "1/1 [==============================] - 0s 145ms/step - loss: 0.4986 - accuracy: 0.8281 - val_loss: 0.4676 - val_accuracy: 0.8750\n",
      "Epoch 96/100\n",
      "1/1 [==============================] - 0s 110ms/step - loss: 0.4966 - accuracy: 0.8281 - val_loss: 0.4653 - val_accuracy: 0.8750\n",
      "Epoch 97/100\n",
      "1/1 [==============================] - 0s 123ms/step - loss: 0.4947 - accuracy: 0.8281 - val_loss: 0.4629 - val_accuracy: 0.8750\n",
      "Epoch 98/100\n",
      "1/1 [==============================] - 0s 141ms/step - loss: 0.4927 - accuracy: 0.8281 - val_loss: 0.4606 - val_accuracy: 0.8750\n",
      "Epoch 99/100\n",
      "1/1 [==============================] - 0s 122ms/step - loss: 0.4907 - accuracy: 0.8281 - val_loss: 0.4583 - val_accuracy: 0.8750\n",
      "Epoch 100/100\n",
      "1/1 [==============================] - 0s 119ms/step - loss: 0.4888 - accuracy: 0.8281 - val_loss: 0.4560 - val_accuracy: 0.8750\n"
     ]
    }
   ],
   "source": [
    "model.compile(loss='binary_crossentropy',metrics=['accuracy'])\n",
    "history = model.fit(x_train,y_train,epochs=100,batch_size=400,validation_split=0.2)"
   ]
  },
  {
   "cell_type": "code",
   "execution_count": 14,
   "id": "f01ccc1f",
   "metadata": {},
   "outputs": [
    {
     "data": {
      "text/plain": [
       "[<matplotlib.lines.Line2D at 0x20e5b750340>]"
      ]
     },
     "execution_count": 14,
     "metadata": {},
     "output_type": "execute_result"
    },
    {
     "data": {
      "image/png": "[encoded data removed]",
      "text/plain": [
       "<Figure size 640x480 with 1 Axes>"
      ]
     },
     "metadata": {},
     "output_type": "display_data"
    }
   ],
   "source": [
    "import matplotlib.pyplot as plt\n",
    "plt.plot(history.history['loss'])"
   ]
  },
  {
   "cell_type": "code",
   "execution_count": 15,
   "id": "1ec90463",
   "metadata": {},
   "outputs": [
    {
     "name": "stdout",
     "output_type": "stream",
     "text": [
      "3/3 [==============================] - 0s 10ms/step - loss: 0.4936 - accuracy: 0.8125\n"
     ]
    },
    {
     "data": {
      "text/plain": [
       "[0.4935975670814514, 0.8125]"
      ]
     },
     "execution_count": 15,
     "metadata": {},
     "output_type": "execute_result"
    }
   ],
   "source": [
    "model.evaluate(x_test,y_test)"
   ]
  },
  {
   "cell_type": "code",
   "execution_count": 16,
   "id": "25a154e8",
   "metadata": {},
   "outputs": [
    {
     "name": "stdout",
     "output_type": "stream",
     "text": [
      "3/3 [==============================] - 0s 12ms/step\n"
     ]
    }
   ],
   "source": [
    "y_pred=model.predict(x_test)"
   ]
  },
  {
   "cell_type": "code",
   "execution_count": 17,
   "id": "495528be",
   "metadata": {},
   "outputs": [
    {
     "data": {
      "text/plain": [
       "array([[0],\n",
       "       [1],\n",
       "       [0],\n",
       "       [1],\n",
       "       [0],\n",
       "       [1],\n",
       "       [1],\n",
       "       [0],\n",
       "       [1],\n",
       "       [0],\n",
       "       [0],\n",
       "       [0],\n",
       "       [0],\n",
       "       [0],\n",
       "       [0],\n",
       "       [0],\n",
       "       [0],\n",
       "       [1],\n",
       "       [1],\n",
       "       [0],\n",
       "       [0],\n",
       "       [1],\n",
       "       [0],\n",
       "       [0],\n",
       "       [0],\n",
       "       [0],\n",
       "       [0],\n",
       "       [0],\n",
       "       [0],\n",
       "       [0],\n",
       "       [1],\n",
       "       [0],\n",
       "       [1],\n",
       "       [1],\n",
       "       [0],\n",
       "       [0],\n",
       "       [0],\n",
       "       [1],\n",
       "       [0],\n",
       "       [0],\n",
       "       [0],\n",
       "       [0],\n",
       "       [0],\n",
       "       [0],\n",
       "       [0],\n",
       "       [0],\n",
       "       [0],\n",
       "       [0],\n",
       "       [1],\n",
       "       [0],\n",
       "       [1],\n",
       "       [1],\n",
       "       [1],\n",
       "       [0],\n",
       "       [0],\n",
       "       [0],\n",
       "       [0],\n",
       "       [0],\n",
       "       [0],\n",
       "       [0],\n",
       "       [0],\n",
       "       [0],\n",
       "       [0],\n",
       "       [0],\n",
       "       [1],\n",
       "       [1],\n",
       "       [0],\n",
       "       [0],\n",
       "       [0],\n",
       "       [1],\n",
       "       [0],\n",
       "       [1],\n",
       "       [0],\n",
       "       [0],\n",
       "       [0],\n",
       "       [0],\n",
       "       [0],\n",
       "       [1],\n",
       "       [0],\n",
       "       [0]])"
      ]
     },
     "execution_count": 17,
     "metadata": {},
     "output_type": "execute_result"
    }
   ],
   "source": [
    "y_pred=np.where(y_pred>0.5,1,0)\n",
    "y_pred\n"
   ]
  },
  {
   "cell_type": "code",
   "execution_count": 18,
   "id": "6f113f49",
   "metadata": {},
   "outputs": [
    {
     "data": {
      "text/plain": [
       "<tf.Tensor: shape=(2, 2), dtype=int32, numpy=\n",
       "array([[49,  5],\n",
       "       [10, 16]])>"
      ]
     },
     "execution_count": 18,
     "metadata": {},
     "output_type": "execute_result"
    }
   ],
   "source": [
    "cm=tf.math.confusion_matrix(labels=y_test,predictions=y_pred)\n",
    "cm"
   ]
  },
  {
   "cell_type": "code",
   "execution_count": 19,
   "id": "f0d35f74",
   "metadata": {},
   "outputs": [
    {
     "data": {
      "text/plain": [
       "Text(95.72222222222221, 0.5, 'Truth')"
      ]
     },
     "execution_count": 19,
     "metadata": {},
     "output_type": "execute_result"
    },
    {
     "data": {
      "image/png": "[encoded data removed]",
      "text/plain": [
       "<Figure size 1000x700 with 2 Axes>"
      ]
     },
     "metadata": {},
     "output_type": "display_data"
    }
   ],
   "source": [
    "import seaborn as sns\n",
    "plt.figure(figsize = (10,7))\n",
    "sns.heatmap(cm, annot=True, fmt='d')\n",
    "plt.xlabel('Predicted')\n",
    "plt.ylabel('Truth')"
   ]
  },
  {
   "cell_type": "markdown",
   "id": "63fbf933",
   "metadata": {},
   "source": [
    "### Stochastic Gradient Descent"
   ]
  },
  {
   "cell_type": "code",
   "execution_count": 20,
   "id": "7fb25e2a",
   "metadata": {},
   "outputs": [],
   "source": [
    "sg = Sequential()    # define model\n",
    "\n",
    "sg.add(Dense(10,activation='relu',input_dim=2))   #Input Layer\n",
    "sg.add(Dense(10,activation='relu'))             # Hidden Layer\n",
    "sg.add(Dense(1,activation='sigmoid'))          # Output layer"
   ]
  },
  {
   "cell_type": "code",
   "execution_count": 21,
   "id": "e72aa655",
   "metadata": {},
   "outputs": [
    {
     "name": "stdout",
     "output_type": "stream",
     "text": [
      "Model: \"sequential_1\"\n",
      "_________________________________________________________________\n",
      " Layer (type)                Output Shape              Param #   \n",
      "=================================================================\n",
      " dense_3 (Dense)             (None, 10)                30        \n",
      "                                                                 \n",
      " dense_4 (Dense)             (None, 10)                110       \n",
      "                                                                 \n",
      " dense_5 (Dense)             (None, 1)                 11        \n",
      "                                                                 \n",
      "=================================================================\n",
      "Total params: 151\n",
      "Trainable params: 151\n",
      "Non-trainable params: 0\n",
      "_________________________________________________________________\n"
     ]
    }
   ],
   "source": [
    "sg.summary()"
   ]
  },
  {
   "cell_type": "code",
   "execution_count": 22,
   "id": "97f33159",
   "metadata": {},
   "outputs": [
    {
     "name": "stdout",
     "output_type": "stream",
     "text": [
      "Epoch 1/100\n",
      "256/256 [==============================] - 3s 6ms/step - loss: 0.6244 - accuracy: 0.8242 - val_loss: 0.5449 - val_accuracy: 0.9219\n",
      "Epoch 2/100\n",
      "256/256 [==============================] - 1s 5ms/step - loss: 0.4965 - accuracy: 0.8750 - val_loss: 0.4082 - val_accuracy: 0.9219\n",
      "Epoch 3/100\n",
      "256/256 [==============================] - 1s 5ms/step - loss: 0.3959 - accuracy: 0.8555 - val_loss: 0.3204 - val_accuracy: 0.9375\n",
      "Epoch 4/100\n",
      "256/256 [==============================] - 2s 7ms/step - loss: 0.3433 - accuracy: 0.8594 - val_loss: 0.2767 - val_accuracy: 0.9375\n",
      "Epoch 5/100\n",
      "256/256 [==============================] - 2s 7ms/step - loss: 0.3144 - accuracy: 0.8633 - val_loss: 0.2501 - val_accuracy: 0.9375\n",
      "Epoch 6/100\n",
      "256/256 [==============================] - 2s 7ms/step - loss: 0.2999 - accuracy: 0.8555 - val_loss: 0.2375 - val_accuracy: 0.9375\n",
      "Epoch 7/100\n",
      "256/256 [==============================] - 1s 6ms/step - loss: 0.2944 - accuracy: 0.8711 - val_loss: 0.2233 - val_accuracy: 0.9375\n",
      "Epoch 8/100\n",
      "256/256 [==============================] - 2s 7ms/step - loss: 0.2847 - accuracy: 0.8750 - val_loss: 0.2155 - val_accuracy: 0.9375\n",
      "Epoch 9/100\n",
      "256/256 [==============================] - 2s 7ms/step - loss: 0.2796 - accuracy: 0.8789 - val_loss: 0.2130 - val_accuracy: 0.9375\n",
      "Epoch 10/100\n",
      "256/256 [==============================] - 2s 7ms/step - loss: 0.2783 - accuracy: 0.8828 - val_loss: 0.2105 - val_accuracy: 0.9375\n",
      "Epoch 11/100\n",
      "256/256 [==============================] - 2s 6ms/step - loss: 0.2771 - accuracy: 0.8867 - val_loss: 0.2090 - val_accuracy: 0.9219\n",
      "Epoch 12/100\n",
      "256/256 [==============================] - 2s 6ms/step - loss: 0.2722 - accuracy: 0.9023 - val_loss: 0.2063 - val_accuracy: 0.9219\n",
      "Epoch 13/100\n",
      "256/256 [==============================] - 2s 7ms/step - loss: 0.2747 - accuracy: 0.9023 - val_loss: 0.2056 - val_accuracy: 0.9219\n",
      "Epoch 14/100\n",
      "256/256 [==============================] - 2s 8ms/step - loss: 0.2726 - accuracy: 0.8984 - val_loss: 0.2076 - val_accuracy: 0.9219\n",
      "Epoch 15/100\n",
      "256/256 [==============================] - 2s 6ms/step - loss: 0.2713 - accuracy: 0.9023 - val_loss: 0.2052 - val_accuracy: 0.9219\n",
      "Epoch 16/100\n",
      "256/256 [==============================] - 2s 7ms/step - loss: 0.2690 - accuracy: 0.9023 - val_loss: 0.2053 - val_accuracy: 0.9219\n",
      "Epoch 17/100\n",
      "256/256 [==============================] - 2s 7ms/step - loss: 0.2663 - accuracy: 0.8984 - val_loss: 0.2045 - val_accuracy: 0.9219\n",
      "Epoch 18/100\n",
      "256/256 [==============================] - 2s 6ms/step - loss: 0.2731 - accuracy: 0.8984 - val_loss: 0.2062 - val_accuracy: 0.9062\n",
      "Epoch 19/100\n",
      "256/256 [==============================] - 2s 7ms/step - loss: 0.2717 - accuracy: 0.9023 - val_loss: 0.2064 - val_accuracy: 0.9062\n",
      "Epoch 20/100\n",
      "256/256 [==============================] - 2s 7ms/step - loss: 0.2714 - accuracy: 0.8984 - val_loss: 0.2047 - val_accuracy: 0.8906\n",
      "Epoch 21/100\n",
      "256/256 [==============================] - 2s 6ms/step - loss: 0.2684 - accuracy: 0.9023 - val_loss: 0.2033 - val_accuracy: 0.9062\n",
      "Epoch 22/100\n",
      "256/256 [==============================] - 2s 7ms/step - loss: 0.2683 - accuracy: 0.8984 - val_loss: 0.2063 - val_accuracy: 0.8906\n",
      "Epoch 23/100\n",
      "256/256 [==============================] - 2s 7ms/step - loss: 0.2687 - accuracy: 0.9023 - val_loss: 0.2044 - val_accuracy: 0.8906\n",
      "Epoch 24/100\n",
      "256/256 [==============================] - 2s 7ms/step - loss: 0.2675 - accuracy: 0.9062 - val_loss: 0.2048 - val_accuracy: 0.8906\n",
      "Epoch 25/100\n",
      "256/256 [==============================] - 1s 6ms/step - loss: 0.2708 - accuracy: 0.9023 - val_loss: 0.2043 - val_accuracy: 0.8906\n",
      "Epoch 26/100\n",
      "256/256 [==============================] - 2s 8ms/step - loss: 0.2698 - accuracy: 0.9062 - val_loss: 0.2054 - val_accuracy: 0.8906\n",
      "Epoch 27/100\n",
      "256/256 [==============================] - 2s 7ms/step - loss: 0.2665 - accuracy: 0.8984 - val_loss: 0.2088 - val_accuracy: 0.8906\n",
      "Epoch 28/100\n",
      "256/256 [==============================] - 2s 7ms/step - loss: 0.2673 - accuracy: 0.9023 - val_loss: 0.2087 - val_accuracy: 0.8906\n",
      "Epoch 29/100\n",
      "256/256 [==============================] - 2s 7ms/step - loss: 0.2727 - accuracy: 0.9023 - val_loss: 0.2075 - val_accuracy: 0.8906\n",
      "Epoch 30/100\n",
      "256/256 [==============================] - 2s 6ms/step - loss: 0.2738 - accuracy: 0.9062 - val_loss: 0.2063 - val_accuracy: 0.8906\n",
      "Epoch 31/100\n",
      "256/256 [==============================] - 2s 7ms/step - loss: 0.2764 - accuracy: 0.9023 - val_loss: 0.2092 - val_accuracy: 0.8906\n",
      "Epoch 32/100\n",
      "256/256 [==============================] - 2s 8ms/step - loss: 0.2762 - accuracy: 0.9023 - val_loss: 0.2075 - val_accuracy: 0.8906\n",
      "Epoch 33/100\n",
      "256/256 [==============================] - 2s 7ms/step - loss: 0.2741 - accuracy: 0.9023 - val_loss: 0.2062 - val_accuracy: 0.8906\n",
      "Epoch 34/100\n",
      "256/256 [==============================] - 2s 6ms/step - loss: 0.2728 - accuracy: 0.9023 - val_loss: 0.2055 - val_accuracy: 0.8906\n",
      "Epoch 35/100\n",
      "256/256 [==============================] - 2s 7ms/step - loss: 0.2775 - accuracy: 0.9023 - val_loss: 0.2086 - val_accuracy: 0.8906\n",
      "Epoch 36/100\n",
      "256/256 [==============================] - 2s 7ms/step - loss: 0.2760 - accuracy: 0.9102 - val_loss: 0.2085 - val_accuracy: 0.8906\n",
      "Epoch 37/100\n",
      "256/256 [==============================] - 1s 6ms/step - loss: 0.2786 - accuracy: 0.9023 - val_loss: 0.2088 - val_accuracy: 0.8906\n",
      "Epoch 38/100\n",
      "256/256 [==============================] - 2s 6ms/step - loss: 0.2732 - accuracy: 0.9062 - val_loss: 0.2141 - val_accuracy: 0.8906\n",
      "Epoch 39/100\n",
      "256/256 [==============================] - 2s 7ms/step - loss: 0.2809 - accuracy: 0.9062 - val_loss: 0.2121 - val_accuracy: 0.8906\n",
      "Epoch 40/100\n",
      "256/256 [==============================] - 1s 6ms/step - loss: 0.2815 - accuracy: 0.9023 - val_loss: 0.2107 - val_accuracy: 0.8906\n",
      "Epoch 41/100\n",
      "256/256 [==============================] - 1s 6ms/step - loss: 0.2772 - accuracy: 0.9023 - val_loss: 0.2114 - val_accuracy: 0.8906\n",
      "Epoch 42/100\n",
      "256/256 [==============================] - 2s 8ms/step - loss: 0.2814 - accuracy: 0.9062 - val_loss: 0.2127 - val_accuracy: 0.8906\n",
      "Epoch 43/100\n",
      "256/256 [==============================] - 2s 8ms/step - loss: 0.2837 - accuracy: 0.9062 - val_loss: 0.2120 - val_accuracy: 0.8906\n",
      "Epoch 44/100\n",
      "256/256 [==============================] - 2s 7ms/step - loss: 0.2770 - accuracy: 0.9062 - val_loss: 0.2115 - val_accuracy: 0.8906\n",
      "Epoch 45/100\n",
      "256/256 [==============================] - 2s 6ms/step - loss: 0.2800 - accuracy: 0.9062 - val_loss: 0.2117 - val_accuracy: 0.8906\n",
      "Epoch 46/100\n",
      "256/256 [==============================] - 2s 8ms/step - loss: 0.2840 - accuracy: 0.9062 - val_loss: 0.2123 - val_accuracy: 0.8906\n",
      "Epoch 47/100\n",
      "256/256 [==============================] - 2s 7ms/step - loss: 0.2800 - accuracy: 0.9062 - val_loss: 0.2096 - val_accuracy: 0.8906\n",
      "Epoch 48/100\n",
      "256/256 [==============================] - 2s 8ms/step - loss: 0.2760 - accuracy: 0.9102 - val_loss: 0.2120 - val_accuracy: 0.8906\n",
      "Epoch 49/100\n",
      "256/256 [==============================] - 1s 6ms/step - loss: 0.2778 - accuracy: 0.9102 - val_loss: 0.2123 - val_accuracy: 0.8906\n",
      "Epoch 50/100\n",
      "256/256 [==============================] - 1s 6ms/step - loss: 0.2789 - accuracy: 0.9062 - val_loss: 0.2119 - val_accuracy: 0.8906\n",
      "Epoch 51/100\n",
      "256/256 [==============================] - 2s 8ms/step - loss: 0.2818 - accuracy: 0.9141 - val_loss: 0.2191 - val_accuracy: 0.8906\n",
      "Epoch 52/100\n",
      "256/256 [==============================] - 2s 6ms/step - loss: 0.2896 - accuracy: 0.9102 - val_loss: 0.2195 - val_accuracy: 0.8906\n",
      "Epoch 53/100\n",
      "256/256 [==============================] - 2s 6ms/step - loss: 0.2830 - accuracy: 0.9141 - val_loss: 0.2222 - val_accuracy: 0.8906\n",
      "Epoch 54/100\n",
      "256/256 [==============================] - 2s 7ms/step - loss: 0.2865 - accuracy: 0.9102 - val_loss: 0.2183 - val_accuracy: 0.8906\n",
      "Epoch 55/100\n",
      "256/256 [==============================] - 1s 6ms/step - loss: 0.2785 - accuracy: 0.9102 - val_loss: 0.2177 - val_accuracy: 0.8906\n",
      "Epoch 56/100\n",
      "256/256 [==============================] - 2s 7ms/step - loss: 0.2802 - accuracy: 0.9102 - val_loss: 0.2176 - val_accuracy: 0.8906\n",
      "Epoch 57/100\n",
      "256/256 [==============================] - 2s 6ms/step - loss: 0.2811 - accuracy: 0.9102 - val_loss: 0.2174 - val_accuracy: 0.8906\n"
     ]
    },
    {
     "name": "stdout",
     "output_type": "stream",
     "text": [
      "Epoch 58/100\n",
      "256/256 [==============================] - 2s 6ms/step - loss: 0.2805 - accuracy: 0.9102 - val_loss: 0.2189 - val_accuracy: 0.8906\n",
      "Epoch 59/100\n",
      "256/256 [==============================] - 2s 6ms/step - loss: 0.2810 - accuracy: 0.9141 - val_loss: 0.2199 - val_accuracy: 0.9062\n",
      "Epoch 60/100\n",
      "256/256 [==============================] - 2s 6ms/step - loss: 0.2733 - accuracy: 0.9102 - val_loss: 0.2176 - val_accuracy: 0.8906\n",
      "Epoch 61/100\n",
      "256/256 [==============================] - 2s 6ms/step - loss: 0.2801 - accuracy: 0.9102 - val_loss: 0.2118 - val_accuracy: 0.8906\n",
      "Epoch 62/100\n",
      "256/256 [==============================] - 2s 6ms/step - loss: 0.2753 - accuracy: 0.9141 - val_loss: 0.2138 - val_accuracy: 0.8906\n",
      "Epoch 63/100\n",
      "256/256 [==============================] - 2s 6ms/step - loss: 0.2850 - accuracy: 0.9180 - val_loss: 0.2196 - val_accuracy: 0.8906\n",
      "Epoch 64/100\n",
      "256/256 [==============================] - 2s 7ms/step - loss: 0.2845 - accuracy: 0.9141 - val_loss: 0.2174 - val_accuracy: 0.8906\n",
      "Epoch 65/100\n",
      "256/256 [==============================] - 1s 6ms/step - loss: 0.2843 - accuracy: 0.9141 - val_loss: 0.2146 - val_accuracy: 0.8906\n",
      "Epoch 66/100\n",
      "256/256 [==============================] - 1s 6ms/step - loss: 0.2817 - accuracy: 0.9141 - val_loss: 0.2127 - val_accuracy: 0.9062\n",
      "Epoch 67/100\n",
      "256/256 [==============================] - 2s 7ms/step - loss: 0.2797 - accuracy: 0.9141 - val_loss: 0.2158 - val_accuracy: 0.9062\n",
      "Epoch 68/100\n",
      "256/256 [==============================] - 2s 7ms/step - loss: 0.2798 - accuracy: 0.9141 - val_loss: 0.2190 - val_accuracy: 0.8906\n",
      "Epoch 69/100\n",
      "256/256 [==============================] - 2s 10ms/step - loss: 0.2822 - accuracy: 0.9141 - val_loss: 0.2162 - val_accuracy: 0.9062\n",
      "Epoch 70/100\n",
      "256/256 [==============================] - 2s 7ms/step - loss: 0.2769 - accuracy: 0.9180 - val_loss: 0.2210 - val_accuracy: 0.8906\n",
      "Epoch 71/100\n",
      "256/256 [==============================] - 1s 6ms/step - loss: 0.2831 - accuracy: 0.9141 - val_loss: 0.2198 - val_accuracy: 0.8906\n",
      "Epoch 72/100\n",
      "256/256 [==============================] - 2s 6ms/step - loss: 0.2844 - accuracy: 0.9141 - val_loss: 0.2197 - val_accuracy: 0.9062\n",
      "Epoch 73/100\n",
      "256/256 [==============================] - 2s 6ms/step - loss: 0.2768 - accuracy: 0.9180 - val_loss: 0.2271 - val_accuracy: 0.8906\n",
      "Epoch 74/100\n",
      "256/256 [==============================] - 1s 6ms/step - loss: 0.2797 - accuracy: 0.9141 - val_loss: 0.2267 - val_accuracy: 0.8906\n",
      "Epoch 75/100\n",
      "256/256 [==============================] - 2s 6ms/step - loss: 0.2816 - accuracy: 0.9141 - val_loss: 0.2285 - val_accuracy: 0.8906\n",
      "Epoch 76/100\n",
      "256/256 [==============================] - 2s 6ms/step - loss: 0.2957 - accuracy: 0.9141 - val_loss: 0.2297 - val_accuracy: 0.8906\n",
      "Epoch 77/100\n",
      "256/256 [==============================] - 2s 7ms/step - loss: 0.3005 - accuracy: 0.9141 - val_loss: 0.2267 - val_accuracy: 0.8906\n",
      "Epoch 78/100\n",
      "256/256 [==============================] - 1s 6ms/step - loss: 0.2939 - accuracy: 0.9141 - val_loss: 0.2254 - val_accuracy: 0.8906\n",
      "Epoch 79/100\n",
      "256/256 [==============================] - 1s 6ms/step - loss: 0.2902 - accuracy: 0.9141 - val_loss: 0.2234 - val_accuracy: 0.8906\n",
      "Epoch 80/100\n",
      "256/256 [==============================] - 2s 8ms/step - loss: 0.2821 - accuracy: 0.9141 - val_loss: 0.2180 - val_accuracy: 0.8906\n",
      "Epoch 81/100\n",
      "256/256 [==============================] - 2s 9ms/step - loss: 0.2810 - accuracy: 0.9141 - val_loss: 0.2145 - val_accuracy: 0.9062\n",
      "Epoch 82/100\n",
      "256/256 [==============================] - 3s 13ms/step - loss: 0.2825 - accuracy: 0.9141 - val_loss: 0.2132 - val_accuracy: 0.8906\n",
      "Epoch 83/100\n",
      "256/256 [==============================] - 2s 7ms/step - loss: 0.2785 - accuracy: 0.9180 - val_loss: 0.2146 - val_accuracy: 0.8906\n",
      "Epoch 84/100\n",
      "256/256 [==============================] - 3s 11ms/step - loss: 0.2793 - accuracy: 0.9141 - val_loss: 0.2120 - val_accuracy: 0.9062\n",
      "Epoch 85/100\n",
      "256/256 [==============================] - 2s 7ms/step - loss: 0.2752 - accuracy: 0.9180 - val_loss: 0.2092 - val_accuracy: 0.9062\n",
      "Epoch 86/100\n",
      "256/256 [==============================] - 2s 7ms/step - loss: 0.2745 - accuracy: 0.9219 - val_loss: 0.2120 - val_accuracy: 0.9062\n",
      "Epoch 87/100\n",
      "256/256 [==============================] - 2s 6ms/step - loss: 0.2723 - accuracy: 0.9141 - val_loss: 0.2079 - val_accuracy: 0.9062\n",
      "Epoch 88/100\n",
      "256/256 [==============================] - 2s 6ms/step - loss: 0.2785 - accuracy: 0.9141 - val_loss: 0.2104 - val_accuracy: 0.9062\n",
      "Epoch 89/100\n",
      "256/256 [==============================] - 2s 6ms/step - loss: 0.2770 - accuracy: 0.9180 - val_loss: 0.2112 - val_accuracy: 0.9062\n",
      "Epoch 90/100\n",
      "256/256 [==============================] - 2s 7ms/step - loss: 0.2727 - accuracy: 0.9180 - val_loss: 0.2143 - val_accuracy: 0.9062\n",
      "Epoch 91/100\n",
      "256/256 [==============================] - 2s 7ms/step - loss: 0.2774 - accuracy: 0.9141 - val_loss: 0.2075 - val_accuracy: 0.9062\n",
      "Epoch 92/100\n",
      "256/256 [==============================] - 1s 6ms/step - loss: 0.2807 - accuracy: 0.9180 - val_loss: 0.2091 - val_accuracy: 0.9062\n",
      "Epoch 93/100\n",
      "256/256 [==============================] - 2s 7ms/step - loss: 0.2797 - accuracy: 0.9141 - val_loss: 0.2134 - val_accuracy: 0.9062\n",
      "Epoch 94/100\n",
      "256/256 [==============================] - 2s 6ms/step - loss: 0.2835 - accuracy: 0.9180 - val_loss: 0.2138 - val_accuracy: 0.9062\n",
      "Epoch 95/100\n",
      "256/256 [==============================] - 2s 6ms/step - loss: 0.2802 - accuracy: 0.9180 - val_loss: 0.2134 - val_accuracy: 0.9062\n",
      "Epoch 96/100\n",
      "256/256 [==============================] - 2s 8ms/step - loss: 0.2842 - accuracy: 0.9180 - val_loss: 0.2118 - val_accuracy: 0.9062\n",
      "Epoch 97/100\n",
      "256/256 [==============================] - 2s 6ms/step - loss: 0.2772 - accuracy: 0.9141 - val_loss: 0.2038 - val_accuracy: 0.9062\n",
      "Epoch 98/100\n",
      "256/256 [==============================] - 1s 6ms/step - loss: 0.2794 - accuracy: 0.9180 - val_loss: 0.2079 - val_accuracy: 0.9062\n",
      "Epoch 99/100\n",
      "256/256 [==============================] - 2s 9ms/step - loss: 0.2916 - accuracy: 0.9219 - val_loss: 0.2119 - val_accuracy: 0.9062\n",
      "Epoch 100/100\n",
      "256/256 [==============================] - 2s 8ms/step - loss: 0.2870 - accuracy: 0.9180 - val_loss: 0.2128 - val_accuracy: 0.9062\n"
     ]
    }
   ],
   "source": [
    "sg.compile(loss='binary_crossentropy',metrics=['accuracy'])\n",
    "history = sg.fit(x_train,y_train,epochs=100,batch_size=1,validation_split=0.2)"
   ]
  },
  {
   "cell_type": "code",
   "execution_count": 23,
   "id": "cb91d386",
   "metadata": {},
   "outputs": [
    {
     "data": {
      "text/plain": [
       "[<matplotlib.lines.Line2D at 0x20e5bcacaf0>]"
      ]
     },
     "execution_count": 23,
     "metadata": {},
     "output_type": "execute_result"
    },
    {
     "data": {
      "image/png": "[encoded data removed]",
      "text/plain": [
       "<Figure size 640x480 with 1 Axes>"
      ]
     },
     "metadata": {},
     "output_type": "display_data"
    }
   ],
   "source": [
    "import matplotlib.pyplot as plt\n",
    "plt.plot(history.history['loss'])"
   ]
  },
  {
   "cell_type": "code",
   "execution_count": 24,
   "id": "4f43a2fe",
   "metadata": {},
   "outputs": [
    {
     "name": "stdout",
     "output_type": "stream",
     "text": [
      "3/3 [==============================] - 0s 9ms/step - loss: 0.3511 - accuracy: 0.9250\n"
     ]
    },
    {
     "data": {
      "text/plain": [
       "[0.35113075375556946, 0.925000011920929]"
      ]
     },
     "execution_count": 24,
     "metadata": {},
     "output_type": "execute_result"
    }
   ],
   "source": [
    "sg.evaluate(x_test,y_test)"
   ]
  },
  {
   "cell_type": "code",
   "execution_count": 25,
   "id": "67474529",
   "metadata": {},
   "outputs": [
    {
     "name": "stdout",
     "output_type": "stream",
     "text": [
      "3/3 [==============================] - 0s 7ms/step\n"
     ]
    }
   ],
   "source": [
    "y_pred=sg.predict(x_test)\n",
    "y_pred=np.where(y_pred>0.5,1,0)\n"
   ]
  },
  {
   "cell_type": "code",
   "execution_count": 26,
   "id": "b9d4e975",
   "metadata": {},
   "outputs": [
    {
     "data": {
      "text/plain": [
       "<tf.Tensor: shape=(2, 2), dtype=int32, numpy=\n",
       "array([[52,  2],\n",
       "       [ 4, 22]])>"
      ]
     },
     "execution_count": 26,
     "metadata": {},
     "output_type": "execute_result"
    }
   ],
   "source": [
    "cm=tf.math.confusion_matrix(labels=y_test,predictions=y_pred)\n",
    "cm"
   ]
  },
  {
   "cell_type": "code",
   "execution_count": 27,
   "id": "9fb7a0af",
   "metadata": {},
   "outputs": [
    {
     "data": {
      "text/plain": [
       "Text(95.72222222222221, 0.5, 'Truth')"
      ]
     },
     "execution_count": 27,
     "metadata": {},
     "output_type": "execute_result"
    },
    {
     "data": {
      "image/png": "[encoded data removed]",
      "text/plain": [
       "<Figure size 1000x700 with 2 Axes>"
      ]
     },
     "metadata": {},
     "output_type": "display_data"
    }
   ],
   "source": [
    "import seaborn as sns\n",
    "plt.figure(figsize = (10,7))\n",
    "sns.heatmap(cm, annot=True, fmt='d')\n",
    "plt.xlabel('Predicted')\n",
    "plt.ylabel('Truth')"
   ]
  },
  {
   "cell_type": "code",
   "execution_count": 28,
   "id": "87f684d8",
   "metadata": {},
   "outputs": [],
   "source": [
    "sg1=Sequential()\n",
    "sg1.add(Dense(units=10,activation='relu',input_dim=2))  #Input layers\n",
    "sg1.add(Dense(10,activation='relu'))  #Input layers\n",
    "sg1.add(Dense(units=1,activation='sigmoid'))  # Output layer"
   ]
  },
  {
   "cell_type": "code",
   "execution_count": 29,
   "id": "4ed1ca89",
   "metadata": {},
   "outputs": [
    {
     "name": "stdout",
     "output_type": "stream",
     "text": [
      "Model: \"sequential_2\"\n",
      "_________________________________________________________________\n",
      " Layer (type)                Output Shape              Param #   \n",
      "=================================================================\n",
      " dense_6 (Dense)             (None, 10)                30        \n",
      "                                                                 \n",
      " dense_7 (Dense)             (None, 10)                110       \n",
      "                                                                 \n",
      " dense_8 (Dense)             (None, 1)                 11        \n",
      "                                                                 \n",
      "=================================================================\n",
      "Total params: 151\n",
      "Trainable params: 151\n",
      "Non-trainable params: 0\n",
      "_________________________________________________________________\n"
     ]
    }
   ],
   "source": [
    "sg1.summary()"
   ]
  },
  {
   "cell_type": "code",
   "execution_count": 30,
   "id": "eebfc7e3",
   "metadata": {},
   "outputs": [
    {
     "name": "stdout",
     "output_type": "stream",
     "text": [
      "Epoch 1/100\n",
      "8/8 [==============================] - 1s 64ms/step - loss: 0.7055 - accuracy: 0.3672 - val_loss: 0.7061 - val_accuracy: 0.2812\n",
      "Epoch 2/100\n",
      "8/8 [==============================] - 0s 12ms/step - loss: 0.6945 - accuracy: 0.4727 - val_loss: 0.6904 - val_accuracy: 0.5781\n",
      "Epoch 3/100\n",
      "8/8 [==============================] - 0s 12ms/step - loss: 0.6853 - accuracy: 0.6641 - val_loss: 0.6771 - val_accuracy: 0.7812\n",
      "Epoch 4/100\n",
      "8/8 [==============================] - 0s 11ms/step - loss: 0.6775 - accuracy: 0.7695 - val_loss: 0.6658 - val_accuracy: 0.8281\n",
      "Epoch 5/100\n",
      "8/8 [==============================] - 0s 13ms/step - loss: 0.6705 - accuracy: 0.7695 - val_loss: 0.6555 - val_accuracy: 0.8438\n",
      "Epoch 6/100\n",
      "8/8 [==============================] - 0s 16ms/step - loss: 0.6640 - accuracy: 0.7695 - val_loss: 0.6458 - val_accuracy: 0.8438\n",
      "Epoch 7/100\n",
      "8/8 [==============================] - 0s 16ms/step - loss: 0.6576 - accuracy: 0.7500 - val_loss: 0.6366 - val_accuracy: 0.8438\n",
      "Epoch 8/100\n",
      "8/8 [==============================] - 0s 16ms/step - loss: 0.6516 - accuracy: 0.7383 - val_loss: 0.6278 - val_accuracy: 0.8438\n",
      "Epoch 9/100\n",
      "8/8 [==============================] - 0s 16ms/step - loss: 0.6457 - accuracy: 0.7344 - val_loss: 0.6193 - val_accuracy: 0.8438\n",
      "Epoch 10/100\n",
      "8/8 [==============================] - 0s 16ms/step - loss: 0.6400 - accuracy: 0.7344 - val_loss: 0.6112 - val_accuracy: 0.8281\n",
      "Epoch 11/100\n",
      "8/8 [==============================] - 0s 19ms/step - loss: 0.6345 - accuracy: 0.7227 - val_loss: 0.6033 - val_accuracy: 0.8281\n",
      "Epoch 12/100\n",
      "8/8 [==============================] - 0s 16ms/step - loss: 0.6290 - accuracy: 0.7148 - val_loss: 0.5957 - val_accuracy: 0.8281\n",
      "Epoch 13/100\n",
      "8/8 [==============================] - 0s 14ms/step - loss: 0.6237 - accuracy: 0.7148 - val_loss: 0.5882 - val_accuracy: 0.8281\n",
      "Epoch 14/100\n",
      "8/8 [==============================] - 0s 12ms/step - loss: 0.6184 - accuracy: 0.7070 - val_loss: 0.5810 - val_accuracy: 0.8281\n",
      "Epoch 15/100\n",
      "8/8 [==============================] - 0s 15ms/step - loss: 0.6133 - accuracy: 0.7031 - val_loss: 0.5739 - val_accuracy: 0.8125\n",
      "Epoch 16/100\n",
      "8/8 [==============================] - 0s 14ms/step - loss: 0.6080 - accuracy: 0.7070 - val_loss: 0.5670 - val_accuracy: 0.8125\n",
      "Epoch 17/100\n",
      "8/8 [==============================] - 0s 16ms/step - loss: 0.6031 - accuracy: 0.7070 - val_loss: 0.5602 - val_accuracy: 0.8125\n",
      "Epoch 18/100\n",
      "8/8 [==============================] - 0s 16ms/step - loss: 0.5980 - accuracy: 0.6992 - val_loss: 0.5535 - val_accuracy: 0.8125\n",
      "Epoch 19/100\n",
      "8/8 [==============================] - 0s 14ms/step - loss: 0.5931 - accuracy: 0.6992 - val_loss: 0.5470 - val_accuracy: 0.8125\n",
      "Epoch 20/100\n",
      "8/8 [==============================] - 0s 15ms/step - loss: 0.5883 - accuracy: 0.6992 - val_loss: 0.5406 - val_accuracy: 0.8125\n",
      "Epoch 21/100\n",
      "8/8 [==============================] - 0s 14ms/step - loss: 0.5836 - accuracy: 0.7031 - val_loss: 0.5342 - val_accuracy: 0.8125\n",
      "Epoch 22/100\n",
      "8/8 [==============================] - 0s 16ms/step - loss: 0.5789 - accuracy: 0.6992 - val_loss: 0.5279 - val_accuracy: 0.8125\n",
      "Epoch 23/100\n",
      "8/8 [==============================] - 0s 16ms/step - loss: 0.5742 - accuracy: 0.6992 - val_loss: 0.5219 - val_accuracy: 0.8125\n",
      "Epoch 24/100\n",
      "8/8 [==============================] - 0s 14ms/step - loss: 0.5696 - accuracy: 0.7031 - val_loss: 0.5159 - val_accuracy: 0.8125\n",
      "Epoch 25/100\n",
      "8/8 [==============================] - 0s 16ms/step - loss: 0.5651 - accuracy: 0.7031 - val_loss: 0.5100 - val_accuracy: 0.8125\n",
      "Epoch 26/100\n",
      "8/8 [==============================] - 0s 13ms/step - loss: 0.5605 - accuracy: 0.7188 - val_loss: 0.5042 - val_accuracy: 0.8281\n",
      "Epoch 27/100\n",
      "8/8 [==============================] - 0s 17ms/step - loss: 0.5561 - accuracy: 0.7305 - val_loss: 0.4985 - val_accuracy: 0.8281\n",
      "Epoch 28/100\n",
      "8/8 [==============================] - 0s 14ms/step - loss: 0.5516 - accuracy: 0.7305 - val_loss: 0.4929 - val_accuracy: 0.8281\n",
      "Epoch 29/100\n",
      "8/8 [==============================] - 0s 22ms/step - loss: 0.5473 - accuracy: 0.7344 - val_loss: 0.4875 - val_accuracy: 0.8281\n",
      "Epoch 30/100\n",
      "8/8 [==============================] - 0s 17ms/step - loss: 0.5429 - accuracy: 0.7383 - val_loss: 0.4823 - val_accuracy: 0.8281\n",
      "Epoch 31/100\n",
      "8/8 [==============================] - 0s 16ms/step - loss: 0.5388 - accuracy: 0.7422 - val_loss: 0.4771 - val_accuracy: 0.8281\n",
      "Epoch 32/100\n",
      "8/8 [==============================] - 0s 14ms/step - loss: 0.5346 - accuracy: 0.7500 - val_loss: 0.4721 - val_accuracy: 0.8281\n",
      "Epoch 33/100\n",
      "8/8 [==============================] - 0s 17ms/step - loss: 0.5305 - accuracy: 0.7578 - val_loss: 0.4672 - val_accuracy: 0.8438\n",
      "Epoch 34/100\n",
      "8/8 [==============================] - 0s 14ms/step - loss: 0.5264 - accuracy: 0.7578 - val_loss: 0.4625 - val_accuracy: 0.8750\n",
      "Epoch 35/100\n",
      "8/8 [==============================] - 0s 16ms/step - loss: 0.5224 - accuracy: 0.7578 - val_loss: 0.4578 - val_accuracy: 0.8594\n",
      "Epoch 36/100\n",
      "8/8 [==============================] - 0s 15ms/step - loss: 0.5184 - accuracy: 0.7578 - val_loss: 0.4532 - val_accuracy: 0.8750\n",
      "Epoch 37/100\n",
      "8/8 [==============================] - 0s 16ms/step - loss: 0.5145 - accuracy: 0.7578 - val_loss: 0.4487 - val_accuracy: 0.8750\n",
      "Epoch 38/100\n",
      "8/8 [==============================] - 0s 15ms/step - loss: 0.5104 - accuracy: 0.7500 - val_loss: 0.4443 - val_accuracy: 0.8750\n",
      "Epoch 39/100\n",
      "8/8 [==============================] - 0s 17ms/step - loss: 0.5066 - accuracy: 0.7500 - val_loss: 0.4400 - val_accuracy: 0.8750\n",
      "Epoch 40/100\n",
      "8/8 [==============================] - 0s 17ms/step - loss: 0.5027 - accuracy: 0.7500 - val_loss: 0.4358 - val_accuracy: 0.8750\n",
      "Epoch 41/100\n",
      "8/8 [==============================] - 0s 16ms/step - loss: 0.4989 - accuracy: 0.7617 - val_loss: 0.4317 - val_accuracy: 0.8750\n",
      "Epoch 42/100\n",
      "8/8 [==============================] - 0s 16ms/step - loss: 0.4950 - accuracy: 0.7734 - val_loss: 0.4276 - val_accuracy: 0.8750\n",
      "Epoch 43/100\n",
      "8/8 [==============================] - 0s 17ms/step - loss: 0.4914 - accuracy: 0.7812 - val_loss: 0.4236 - val_accuracy: 0.8750\n",
      "Epoch 44/100\n",
      "8/8 [==============================] - 0s 17ms/step - loss: 0.4875 - accuracy: 0.7852 - val_loss: 0.4196 - val_accuracy: 0.8750\n",
      "Epoch 45/100\n",
      "8/8 [==============================] - 0s 17ms/step - loss: 0.4839 - accuracy: 0.7969 - val_loss: 0.4158 - val_accuracy: 0.8750\n",
      "Epoch 46/100\n",
      "8/8 [==============================] - 0s 14ms/step - loss: 0.4802 - accuracy: 0.8125 - val_loss: 0.4120 - val_accuracy: 0.8594\n",
      "Epoch 47/100\n",
      "8/8 [==============================] - 0s 17ms/step - loss: 0.4765 - accuracy: 0.8164 - val_loss: 0.4083 - val_accuracy: 0.8594\n",
      "Epoch 48/100\n",
      "8/8 [==============================] - 0s 16ms/step - loss: 0.4729 - accuracy: 0.8242 - val_loss: 0.4047 - val_accuracy: 0.8750\n",
      "Epoch 49/100\n",
      "8/8 [==============================] - 0s 17ms/step - loss: 0.4694 - accuracy: 0.8281 - val_loss: 0.4011 - val_accuracy: 0.8750\n",
      "Epoch 50/100\n",
      "8/8 [==============================] - 0s 17ms/step - loss: 0.4658 - accuracy: 0.8281 - val_loss: 0.3976 - val_accuracy: 0.8906\n",
      "Epoch 51/100\n",
      "8/8 [==============================] - 0s 17ms/step - loss: 0.4623 - accuracy: 0.8398 - val_loss: 0.3941 - val_accuracy: 0.9062\n",
      "Epoch 52/100\n",
      "8/8 [==============================] - 0s 14ms/step - loss: 0.4589 - accuracy: 0.8359 - val_loss: 0.3907 - val_accuracy: 0.9062\n",
      "Epoch 53/100\n",
      "8/8 [==============================] - 0s 17ms/step - loss: 0.4554 - accuracy: 0.8359 - val_loss: 0.3874 - val_accuracy: 0.9062\n",
      "Epoch 54/100\n",
      "8/8 [==============================] - 0s 18ms/step - loss: 0.4520 - accuracy: 0.8359 - val_loss: 0.3841 - val_accuracy: 0.9219\n",
      "Epoch 55/100\n",
      "8/8 [==============================] - 0s 12ms/step - loss: 0.4486 - accuracy: 0.8359 - val_loss: 0.3809 - val_accuracy: 0.9219\n",
      "Epoch 56/100\n",
      "8/8 [==============================] - 0s 15ms/step - loss: 0.4453 - accuracy: 0.8438 - val_loss: 0.3778 - val_accuracy: 0.9219\n",
      "Epoch 57/100\n",
      "8/8 [==============================] - 0s 15ms/step - loss: 0.4420 - accuracy: 0.8516 - val_loss: 0.3747 - val_accuracy: 0.9219\n",
      "Epoch 58/100\n",
      "8/8 [==============================] - 0s 16ms/step - loss: 0.4388 - accuracy: 0.8516 - val_loss: 0.3715 - val_accuracy: 0.9219\n",
      "Epoch 59/100\n"
     ]
    },
    {
     "name": "stdout",
     "output_type": "stream",
     "text": [
      "8/8 [==============================] - 0s 14ms/step - loss: 0.4354 - accuracy: 0.8516 - val_loss: 0.3685 - val_accuracy: 0.9219\n",
      "Epoch 60/100\n",
      "8/8 [==============================] - 0s 16ms/step - loss: 0.4323 - accuracy: 0.8516 - val_loss: 0.3655 - val_accuracy: 0.9219\n",
      "Epoch 61/100\n",
      "8/8 [==============================] - 0s 16ms/step - loss: 0.4291 - accuracy: 0.8555 - val_loss: 0.3626 - val_accuracy: 0.9219\n",
      "Epoch 62/100\n",
      "8/8 [==============================] - 0s 14ms/step - loss: 0.4261 - accuracy: 0.8516 - val_loss: 0.3598 - val_accuracy: 0.9219\n",
      "Epoch 63/100\n",
      "8/8 [==============================] - 0s 18ms/step - loss: 0.4230 - accuracy: 0.8555 - val_loss: 0.3570 - val_accuracy: 0.9375\n",
      "Epoch 64/100\n",
      "8/8 [==============================] - 0s 19ms/step - loss: 0.4201 - accuracy: 0.8516 - val_loss: 0.3542 - val_accuracy: 0.9375\n",
      "Epoch 65/100\n",
      "8/8 [==============================] - 0s 16ms/step - loss: 0.4171 - accuracy: 0.8516 - val_loss: 0.3516 - val_accuracy: 0.9375\n",
      "Epoch 66/100\n",
      "8/8 [==============================] - 0s 15ms/step - loss: 0.4141 - accuracy: 0.8516 - val_loss: 0.3489 - val_accuracy: 0.9375\n",
      "Epoch 67/100\n",
      "8/8 [==============================] - 0s 16ms/step - loss: 0.4115 - accuracy: 0.8555 - val_loss: 0.3463 - val_accuracy: 0.9375\n",
      "Epoch 68/100\n",
      "8/8 [==============================] - 0s 14ms/step - loss: 0.4087 - accuracy: 0.8516 - val_loss: 0.3438 - val_accuracy: 0.9375\n",
      "Epoch 69/100\n",
      "8/8 [==============================] - 0s 14ms/step - loss: 0.4058 - accuracy: 0.8516 - val_loss: 0.3413 - val_accuracy: 0.9375\n",
      "Epoch 70/100\n",
      "8/8 [==============================] - 0s 12ms/step - loss: 0.4030 - accuracy: 0.8516 - val_loss: 0.3389 - val_accuracy: 0.9375\n",
      "Epoch 71/100\n",
      "8/8 [==============================] - 0s 20ms/step - loss: 0.4004 - accuracy: 0.8516 - val_loss: 0.3365 - val_accuracy: 0.9375\n",
      "Epoch 72/100\n",
      "8/8 [==============================] - 0s 14ms/step - loss: 0.3977 - accuracy: 0.8516 - val_loss: 0.3342 - val_accuracy: 0.9375\n",
      "Epoch 73/100\n",
      "8/8 [==============================] - 0s 12ms/step - loss: 0.3951 - accuracy: 0.8516 - val_loss: 0.3319 - val_accuracy: 0.9375\n",
      "Epoch 74/100\n",
      "8/8 [==============================] - 0s 13ms/step - loss: 0.3926 - accuracy: 0.8516 - val_loss: 0.3296 - val_accuracy: 0.9375\n",
      "Epoch 75/100\n",
      "8/8 [==============================] - 0s 16ms/step - loss: 0.3900 - accuracy: 0.8516 - val_loss: 0.3274 - val_accuracy: 0.9375\n",
      "Epoch 76/100\n",
      "8/8 [==============================] - 0s 19ms/step - loss: 0.3875 - accuracy: 0.8555 - val_loss: 0.3252 - val_accuracy: 0.9375\n",
      "Epoch 77/100\n",
      "8/8 [==============================] - 0s 19ms/step - loss: 0.3851 - accuracy: 0.8594 - val_loss: 0.3230 - val_accuracy: 0.9375\n",
      "Epoch 78/100\n",
      "8/8 [==============================] - 0s 13ms/step - loss: 0.3826 - accuracy: 0.8555 - val_loss: 0.3209 - val_accuracy: 0.9375\n",
      "Epoch 79/100\n",
      "8/8 [==============================] - 0s 12ms/step - loss: 0.3803 - accuracy: 0.8633 - val_loss: 0.3188 - val_accuracy: 0.9375\n",
      "Epoch 80/100\n",
      "8/8 [==============================] - 0s 13ms/step - loss: 0.3782 - accuracy: 0.8594 - val_loss: 0.3168 - val_accuracy: 0.9375\n",
      "Epoch 81/100\n",
      "8/8 [==============================] - 0s 14ms/step - loss: 0.3756 - accuracy: 0.8672 - val_loss: 0.3148 - val_accuracy: 0.9375\n",
      "Epoch 82/100\n",
      "8/8 [==============================] - 0s 12ms/step - loss: 0.3734 - accuracy: 0.8672 - val_loss: 0.3129 - val_accuracy: 0.9375\n",
      "Epoch 83/100\n",
      "8/8 [==============================] - 0s 13ms/step - loss: 0.3712 - accuracy: 0.8672 - val_loss: 0.3110 - val_accuracy: 0.9375\n",
      "Epoch 84/100\n",
      "8/8 [==============================] - 0s 14ms/step - loss: 0.3690 - accuracy: 0.8711 - val_loss: 0.3091 - val_accuracy: 0.9375\n",
      "Epoch 85/100\n",
      "8/8 [==============================] - 0s 13ms/step - loss: 0.3672 - accuracy: 0.8711 - val_loss: 0.3073 - val_accuracy: 0.9375\n",
      "Epoch 86/100\n",
      "8/8 [==============================] - 0s 13ms/step - loss: 0.3648 - accuracy: 0.8711 - val_loss: 0.3055 - val_accuracy: 0.9375\n",
      "Epoch 87/100\n",
      "8/8 [==============================] - 0s 14ms/step - loss: 0.3629 - accuracy: 0.8711 - val_loss: 0.3038 - val_accuracy: 0.9375\n",
      "Epoch 88/100\n",
      "8/8 [==============================] - 0s 14ms/step - loss: 0.3609 - accuracy: 0.8711 - val_loss: 0.3021 - val_accuracy: 0.9375\n",
      "Epoch 89/100\n",
      "8/8 [==============================] - 0s 14ms/step - loss: 0.3591 - accuracy: 0.8711 - val_loss: 0.3004 - val_accuracy: 0.9375\n",
      "Epoch 90/100\n",
      "8/8 [==============================] - 0s 24ms/step - loss: 0.3572 - accuracy: 0.8711 - val_loss: 0.2988 - val_accuracy: 0.9375\n",
      "Epoch 91/100\n",
      "8/8 [==============================] - 0s 14ms/step - loss: 0.3554 - accuracy: 0.8711 - val_loss: 0.2973 - val_accuracy: 0.9375\n",
      "Epoch 92/100\n",
      "8/8 [==============================] - 0s 12ms/step - loss: 0.3538 - accuracy: 0.8711 - val_loss: 0.2957 - val_accuracy: 0.9375\n",
      "Epoch 93/100\n",
      "8/8 [==============================] - 0s 12ms/step - loss: 0.3520 - accuracy: 0.8711 - val_loss: 0.2942 - val_accuracy: 0.9375\n",
      "Epoch 94/100\n",
      "8/8 [==============================] - 0s 13ms/step - loss: 0.3503 - accuracy: 0.8711 - val_loss: 0.2928 - val_accuracy: 0.9375\n",
      "Epoch 95/100\n",
      "8/8 [==============================] - 0s 16ms/step - loss: 0.3487 - accuracy: 0.8711 - val_loss: 0.2913 - val_accuracy: 0.9375\n",
      "Epoch 96/100\n",
      "8/8 [==============================] - 0s 15ms/step - loss: 0.3473 - accuracy: 0.8711 - val_loss: 0.2899 - val_accuracy: 0.9375\n",
      "Epoch 97/100\n",
      "8/8 [==============================] - 0s 31ms/step - loss: 0.3457 - accuracy: 0.8711 - val_loss: 0.2885 - val_accuracy: 0.9375\n",
      "Epoch 98/100\n",
      "8/8 [==============================] - 0s 35ms/step - loss: 0.3442 - accuracy: 0.8672 - val_loss: 0.2872 - val_accuracy: 0.9375\n",
      "Epoch 99/100\n",
      "8/8 [==============================] - 0s 24ms/step - loss: 0.3428 - accuracy: 0.8711 - val_loss: 0.2858 - val_accuracy: 0.9375\n",
      "Epoch 100/100\n",
      "8/8 [==============================] - 0s 21ms/step - loss: 0.3413 - accuracy: 0.8789 - val_loss: 0.2846 - val_accuracy: 0.9375\n"
     ]
    }
   ],
   "source": [
    "sg1.compile(optimizer='sgd',loss='binary_crossentropy',metrics=['accuracy'])\n",
    "history=sg1.fit(x_train,y_train,epochs=100,validation_split=0.2)"
   ]
  },
  {
   "cell_type": "code",
   "execution_count": 31,
   "id": "951f8a0b",
   "metadata": {},
   "outputs": [
    {
     "data": {
      "text/plain": [
       "[<matplotlib.lines.Line2D at 0x20e5e1fc580>]"
      ]
     },
     "execution_count": 31,
     "metadata": {},
     "output_type": "execute_result"
    },
    {
     "data": {
      "image/png": "[encoded data removed]",
      "text/plain": [
       "<Figure size 640x480 with 1 Axes>"
      ]
     },
     "metadata": {},
     "output_type": "display_data"
    }
   ],
   "source": [
    "import matplotlib.pyplot as plt\n",
    "plt.plot(history.history['loss'])"
   ]
  },
  {
   "cell_type": "code",
   "execution_count": 33,
   "id": "6d72fde3",
   "metadata": {},
   "outputs": [
    {
     "name": "stdout",
     "output_type": "stream",
     "text": [
      "3/3 [==============================] - 0s 5ms/step - loss: 0.3307 - accuracy: 0.8750\n"
     ]
    },
    {
     "data": {
      "text/plain": [
       "[0.3306819200515747, 0.875]"
      ]
     },
     "execution_count": 33,
     "metadata": {},
     "output_type": "execute_result"
    }
   ],
   "source": [
    "sg1.evaluate(x_test,y_test)"
   ]
  },
  {
   "cell_type": "code",
   "execution_count": 34,
   "id": "6206377a",
   "metadata": {},
   "outputs": [
    {
     "name": "stdout",
     "output_type": "stream",
     "text": [
      "3/3 [==============================] - 0s 10ms/step\n"
     ]
    }
   ],
   "source": [
    "y_pred=sg1.predict(x_test)\n",
    "y_pred=np.where(y_pred>0.5,1,0)\n"
   ]
  },
  {
   "cell_type": "code",
   "execution_count": 35,
   "id": "f14624d3",
   "metadata": {},
   "outputs": [
    {
     "data": {
      "text/plain": [
       "<tf.Tensor: shape=(2, 2), dtype=int32, numpy=\n",
       "array([[51,  3],\n",
       "       [ 7, 19]])>"
      ]
     },
     "execution_count": 35,
     "metadata": {},
     "output_type": "execute_result"
    }
   ],
   "source": [
    "cm=tf.math.confusion_matrix(labels=y_test,predictions=y_pred)\n",
    "cm"
   ]
  },
  {
   "cell_type": "code",
   "execution_count": 36,
   "id": "db7013e6",
   "metadata": {},
   "outputs": [
    {
     "data": {
      "text/plain": [
       "Text(95.72222222222221, 0.5, 'Truth')"
      ]
     },
     "execution_count": 36,
     "metadata": {},
     "output_type": "execute_result"
    },
    {
     "data": {
      "image/png": "[encoded data removed]",
      "text/plain": [
       "<Figure size 1000x700 with 2 Axes>"
      ]
     },
     "metadata": {},
     "output_type": "display_data"
    }
   ],
   "source": [
    "import seaborn as sns\n",
    "plt.figure(figsize = (10,7))\n",
    "sns.heatmap(cm, annot=True, fmt='d')\n",
    "plt.xlabel('Predicted')\n",
    "plt.ylabel('Truth')"
   ]
  },
  {
   "cell_type": "markdown",
   "id": "03b0dd43",
   "metadata": {},
   "source": [
    "### Mini-Batch Gradient Descent"
   ]
  },
  {
   "cell_type": "code",
   "execution_count": 37,
   "id": "07176358",
   "metadata": {},
   "outputs": [],
   "source": [
    "mb = Sequential()    # define model\n",
    "\n",
    "mb.add(Dense(10,activation='relu',input_dim=2))   #Input Layer\n",
    "mb.add(Dense(10,activation='relu'))             # Hidden Layer\n",
    "mb.add(Dense(1,activation='sigmoid'))          # Output layer"
   ]
  },
  {
   "cell_type": "code",
   "execution_count": 38,
   "id": "72d68188",
   "metadata": {},
   "outputs": [
    {
     "name": "stdout",
     "output_type": "stream",
     "text": [
      "Model: \"sequential_3\"\n",
      "_________________________________________________________________\n",
      " Layer (type)                Output Shape              Param #   \n",
      "=================================================================\n",
      " dense_9 (Dense)             (None, 10)                30        \n",
      "                                                                 \n",
      " dense_10 (Dense)            (None, 10)                110       \n",
      "                                                                 \n",
      " dense_11 (Dense)            (None, 1)                 11        \n",
      "                                                                 \n",
      "=================================================================\n",
      "Total params: 151\n",
      "Trainable params: 151\n",
      "Non-trainable params: 0\n",
      "_________________________________________________________________\n"
     ]
    }
   ],
   "source": [
    "mb.summary()"
   ]
  },
  {
   "cell_type": "code",
   "execution_count": 41,
   "id": "f3b5abd5",
   "metadata": {},
   "outputs": [
    {
     "name": "stdout",
     "output_type": "stream",
     "text": [
      "Epoch 1/100\n",
      "2/2 [==============================] - 2s 471ms/step - loss: 0.5156 - accuracy: 0.8633 - val_loss: 0.5189 - val_accuracy: 0.8906\n",
      "Epoch 2/100\n",
      "2/2 [==============================] - 0s 96ms/step - loss: 0.5099 - accuracy: 0.8633 - val_loss: 0.5134 - val_accuracy: 0.8906\n",
      "Epoch 3/100\n",
      "2/2 [==============================] - 0s 123ms/step - loss: 0.5059 - accuracy: 0.8633 - val_loss: 0.5090 - val_accuracy: 0.8906\n",
      "Epoch 4/100\n",
      "2/2 [==============================] - 0s 116ms/step - loss: 0.5024 - accuracy: 0.8633 - val_loss: 0.5050 - val_accuracy: 0.9062\n",
      "Epoch 5/100\n",
      "2/2 [==============================] - 0s 108ms/step - loss: 0.4992 - accuracy: 0.8633 - val_loss: 0.5009 - val_accuracy: 0.9219\n",
      "Epoch 6/100\n",
      "2/2 [==============================] - 0s 99ms/step - loss: 0.4963 - accuracy: 0.8672 - val_loss: 0.4973 - val_accuracy: 0.9375\n",
      "Epoch 7/100\n",
      "2/2 [==============================] - 0s 124ms/step - loss: 0.4936 - accuracy: 0.8672 - val_loss: 0.4937 - val_accuracy: 0.9375\n",
      "Epoch 8/100\n",
      "2/2 [==============================] - 0s 120ms/step - loss: 0.4909 - accuracy: 0.8672 - val_loss: 0.4905 - val_accuracy: 0.9375\n",
      "Epoch 9/100\n",
      "2/2 [==============================] - 0s 116ms/step - loss: 0.4884 - accuracy: 0.8672 - val_loss: 0.4873 - val_accuracy: 0.9375\n",
      "Epoch 10/100\n",
      "2/2 [==============================] - 0s 127ms/step - loss: 0.4858 - accuracy: 0.8711 - val_loss: 0.4842 - val_accuracy: 0.9375\n",
      "Epoch 11/100\n",
      "2/2 [==============================] - 0s 132ms/step - loss: 0.4833 - accuracy: 0.8711 - val_loss: 0.4812 - val_accuracy: 0.9375\n",
      "Epoch 12/100\n",
      "2/2 [==============================] - 0s 125ms/step - loss: 0.4809 - accuracy: 0.8672 - val_loss: 0.4781 - val_accuracy: 0.9375\n",
      "Epoch 13/100\n",
      "2/2 [==============================] - 0s 124ms/step - loss: 0.4784 - accuracy: 0.8711 - val_loss: 0.4753 - val_accuracy: 0.9375\n",
      "Epoch 14/100\n",
      "2/2 [==============================] - 0s 100ms/step - loss: 0.4762 - accuracy: 0.8789 - val_loss: 0.4722 - val_accuracy: 0.9375\n",
      "Epoch 15/100\n",
      "2/2 [==============================] - 0s 103ms/step - loss: 0.4737 - accuracy: 0.8789 - val_loss: 0.4693 - val_accuracy: 0.9375\n",
      "Epoch 16/100\n",
      "2/2 [==============================] - 0s 94ms/step - loss: 0.4713 - accuracy: 0.8789 - val_loss: 0.4662 - val_accuracy: 0.9375\n",
      "Epoch 17/100\n",
      "2/2 [==============================] - 0s 93ms/step - loss: 0.4690 - accuracy: 0.8750 - val_loss: 0.4633 - val_accuracy: 0.9375\n",
      "Epoch 18/100\n",
      "2/2 [==============================] - 0s 105ms/step - loss: 0.4666 - accuracy: 0.8789 - val_loss: 0.4604 - val_accuracy: 0.9375\n",
      "Epoch 19/100\n",
      "2/2 [==============================] - 0s 108ms/step - loss: 0.4644 - accuracy: 0.8789 - val_loss: 0.4573 - val_accuracy: 0.9375\n",
      "Epoch 20/100\n",
      "2/2 [==============================] - 0s 108ms/step - loss: 0.4622 - accuracy: 0.8750 - val_loss: 0.4544 - val_accuracy: 0.9375\n",
      "Epoch 21/100\n",
      "2/2 [==============================] - 0s 122ms/step - loss: 0.4598 - accuracy: 0.8750 - val_loss: 0.4514 - val_accuracy: 0.9375\n",
      "Epoch 22/100\n",
      "2/2 [==============================] - 0s 97ms/step - loss: 0.4575 - accuracy: 0.8750 - val_loss: 0.4486 - val_accuracy: 0.9375\n",
      "Epoch 23/100\n",
      "2/2 [==============================] - 0s 107ms/step - loss: 0.4551 - accuracy: 0.8750 - val_loss: 0.4457 - val_accuracy: 0.9375\n",
      "Epoch 24/100\n",
      "2/2 [==============================] - 0s 83ms/step - loss: 0.4529 - accuracy: 0.8789 - val_loss: 0.4427 - val_accuracy: 0.9375\n",
      "Epoch 25/100\n",
      "2/2 [==============================] - 0s 82ms/step - loss: 0.4504 - accuracy: 0.8789 - val_loss: 0.4397 - val_accuracy: 0.9375\n",
      "Epoch 26/100\n",
      "2/2 [==============================] - 0s 88ms/step - loss: 0.4480 - accuracy: 0.8789 - val_loss: 0.4367 - val_accuracy: 0.9375\n",
      "Epoch 27/100\n",
      "2/2 [==============================] - 0s 100ms/step - loss: 0.4457 - accuracy: 0.8789 - val_loss: 0.4339 - val_accuracy: 0.9375\n",
      "Epoch 28/100\n",
      "2/2 [==============================] - 0s 104ms/step - loss: 0.4438 - accuracy: 0.8789 - val_loss: 0.4310 - val_accuracy: 0.9375\n",
      "Epoch 29/100\n",
      "2/2 [==============================] - 0s 92ms/step - loss: 0.4412 - accuracy: 0.8789 - val_loss: 0.4282 - val_accuracy: 0.9375\n",
      "Epoch 30/100\n",
      "2/2 [==============================] - 0s 104ms/step - loss: 0.4389 - accuracy: 0.8828 - val_loss: 0.4254 - val_accuracy: 0.9375\n",
      "Epoch 31/100\n",
      "2/2 [==============================] - 0s 98ms/step - loss: 0.4371 - accuracy: 0.8828 - val_loss: 0.4224 - val_accuracy: 0.9375\n",
      "Epoch 32/100\n",
      "2/2 [==============================] - 0s 119ms/step - loss: 0.4345 - accuracy: 0.8828 - val_loss: 0.4197 - val_accuracy: 0.9375\n",
      "Epoch 33/100\n",
      "2/2 [==============================] - 0s 148ms/step - loss: 0.4324 - accuracy: 0.8828 - val_loss: 0.4171 - val_accuracy: 0.9375\n",
      "Epoch 34/100\n",
      "2/2 [==============================] - 0s 102ms/step - loss: 0.4300 - accuracy: 0.8828 - val_loss: 0.4142 - val_accuracy: 0.9375\n",
      "Epoch 35/100\n",
      "2/2 [==============================] - 0s 109ms/step - loss: 0.4278 - accuracy: 0.8789 - val_loss: 0.4113 - val_accuracy: 0.9375\n",
      "Epoch 36/100\n",
      "2/2 [==============================] - 0s 83ms/step - loss: 0.4257 - accuracy: 0.8789 - val_loss: 0.4086 - val_accuracy: 0.9375\n",
      "Epoch 37/100\n",
      "2/2 [==============================] - 0s 94ms/step - loss: 0.4235 - accuracy: 0.8789 - val_loss: 0.4058 - val_accuracy: 0.9375\n",
      "Epoch 38/100\n",
      "2/2 [==============================] - 0s 103ms/step - loss: 0.4212 - accuracy: 0.8789 - val_loss: 0.4028 - val_accuracy: 0.9375\n",
      "Epoch 39/100\n",
      "2/2 [==============================] - 0s 113ms/step - loss: 0.4189 - accuracy: 0.8789 - val_loss: 0.4000 - val_accuracy: 0.9219\n",
      "Epoch 40/100\n",
      "2/2 [==============================] - 0s 126ms/step - loss: 0.4167 - accuracy: 0.8789 - val_loss: 0.3972 - val_accuracy: 0.9219\n",
      "Epoch 41/100\n",
      "2/2 [==============================] - 0s 108ms/step - loss: 0.4145 - accuracy: 0.8789 - val_loss: 0.3944 - val_accuracy: 0.9219\n",
      "Epoch 42/100\n",
      "2/2 [==============================] - 0s 97ms/step - loss: 0.4124 - accuracy: 0.8789 - val_loss: 0.3915 - val_accuracy: 0.9219\n",
      "Epoch 43/100\n",
      "2/2 [==============================] - 0s 95ms/step - loss: 0.4101 - accuracy: 0.8789 - val_loss: 0.3888 - val_accuracy: 0.9219\n",
      "Epoch 44/100\n",
      "2/2 [==============================] - 0s 108ms/step - loss: 0.4078 - accuracy: 0.8789 - val_loss: 0.3860 - val_accuracy: 0.9219\n",
      "Epoch 45/100\n",
      "2/2 [==============================] - 0s 143ms/step - loss: 0.4058 - accuracy: 0.8789 - val_loss: 0.3832 - val_accuracy: 0.9219\n",
      "Epoch 46/100\n",
      "2/2 [==============================] - 0s 116ms/step - loss: 0.4035 - accuracy: 0.8789 - val_loss: 0.3804 - val_accuracy: 0.9219\n",
      "Epoch 47/100\n",
      "2/2 [==============================] - 0s 108ms/step - loss: 0.4013 - accuracy: 0.8789 - val_loss: 0.3775 - val_accuracy: 0.9219\n",
      "Epoch 48/100\n",
      "2/2 [==============================] - 0s 106ms/step - loss: 0.3992 - accuracy: 0.8789 - val_loss: 0.3752 - val_accuracy: 0.9219\n",
      "Epoch 49/100\n",
      "2/2 [==============================] - 0s 99ms/step - loss: 0.3971 - accuracy: 0.8789 - val_loss: 0.3725 - val_accuracy: 0.9219\n",
      "Epoch 50/100\n",
      "2/2 [==============================] - 0s 101ms/step - loss: 0.3956 - accuracy: 0.8789 - val_loss: 0.3696 - val_accuracy: 0.9219\n",
      "Epoch 51/100\n",
      "2/2 [==============================] - 0s 85ms/step - loss: 0.3928 - accuracy: 0.8789 - val_loss: 0.3671 - val_accuracy: 0.9219\n",
      "Epoch 52/100\n",
      "2/2 [==============================] - 0s 128ms/step - loss: 0.3908 - accuracy: 0.8789 - val_loss: 0.3643 - val_accuracy: 0.9219\n",
      "Epoch 53/100\n",
      "2/2 [==============================] - 0s 102ms/step - loss: 0.3887 - accuracy: 0.8789 - val_loss: 0.3619 - val_accuracy: 0.9219\n",
      "Epoch 54/100\n",
      "2/2 [==============================] - 0s 90ms/step - loss: 0.3865 - accuracy: 0.8789 - val_loss: 0.3594 - val_accuracy: 0.9219\n",
      "Epoch 55/100\n",
      "2/2 [==============================] - 0s 107ms/step - loss: 0.3846 - accuracy: 0.8789 - val_loss: 0.3567 - val_accuracy: 0.9219\n",
      "Epoch 56/100\n",
      "2/2 [==============================] - 0s 76ms/step - loss: 0.3825 - accuracy: 0.8750 - val_loss: 0.3540 - val_accuracy: 0.9219\n",
      "Epoch 57/100\n",
      "2/2 [==============================] - 0s 89ms/step - loss: 0.3806 - accuracy: 0.8750 - val_loss: 0.3517 - val_accuracy: 0.9219\n",
      "Epoch 58/100\n",
      "2/2 [==============================] - 0s 89ms/step - loss: 0.3787 - accuracy: 0.8750 - val_loss: 0.3496 - val_accuracy: 0.9219\n"
     ]
    },
    {
     "name": "stdout",
     "output_type": "stream",
     "text": [
      "Epoch 59/100\n",
      "2/2 [==============================] - 0s 97ms/step - loss: 0.3766 - accuracy: 0.8750 - val_loss: 0.3472 - val_accuracy: 0.9219\n",
      "Epoch 60/100\n",
      "2/2 [==============================] - 0s 86ms/step - loss: 0.3747 - accuracy: 0.8750 - val_loss: 0.3448 - val_accuracy: 0.9219\n",
      "Epoch 61/100\n",
      "2/2 [==============================] - 0s 82ms/step - loss: 0.3729 - accuracy: 0.8750 - val_loss: 0.3424 - val_accuracy: 0.9219\n",
      "Epoch 62/100\n",
      "2/2 [==============================] - 0s 84ms/step - loss: 0.3710 - accuracy: 0.8750 - val_loss: 0.3400 - val_accuracy: 0.9219\n",
      "Epoch 63/100\n",
      "2/2 [==============================] - 0s 83ms/step - loss: 0.3689 - accuracy: 0.8789 - val_loss: 0.3378 - val_accuracy: 0.9219\n",
      "Epoch 64/100\n",
      "2/2 [==============================] - 0s 91ms/step - loss: 0.3670 - accuracy: 0.8828 - val_loss: 0.3353 - val_accuracy: 0.9219\n",
      "Epoch 65/100\n",
      "2/2 [==============================] - 0s 83ms/step - loss: 0.3651 - accuracy: 0.8789 - val_loss: 0.3331 - val_accuracy: 0.9219\n",
      "Epoch 66/100\n",
      "2/2 [==============================] - 0s 75ms/step - loss: 0.3632 - accuracy: 0.8789 - val_loss: 0.3307 - val_accuracy: 0.9219\n",
      "Epoch 67/100\n",
      "2/2 [==============================] - 0s 74ms/step - loss: 0.3612 - accuracy: 0.8789 - val_loss: 0.3285 - val_accuracy: 0.9219\n",
      "Epoch 68/100\n",
      "2/2 [==============================] - 0s 76ms/step - loss: 0.3596 - accuracy: 0.8789 - val_loss: 0.3265 - val_accuracy: 0.9219\n",
      "Epoch 69/100\n",
      "2/2 [==============================] - 0s 74ms/step - loss: 0.3576 - accuracy: 0.8789 - val_loss: 0.3243 - val_accuracy: 0.9219\n",
      "Epoch 70/100\n",
      "2/2 [==============================] - 0s 76ms/step - loss: 0.3558 - accuracy: 0.8789 - val_loss: 0.3221 - val_accuracy: 0.9375\n",
      "Epoch 71/100\n",
      "2/2 [==============================] - 0s 73ms/step - loss: 0.3540 - accuracy: 0.8789 - val_loss: 0.3198 - val_accuracy: 0.9375\n",
      "Epoch 72/100\n",
      "2/2 [==============================] - 0s 92ms/step - loss: 0.3528 - accuracy: 0.8828 - val_loss: 0.3174 - val_accuracy: 0.9219\n",
      "Epoch 73/100\n",
      "2/2 [==============================] - 0s 67ms/step - loss: 0.3504 - accuracy: 0.8828 - val_loss: 0.3156 - val_accuracy: 0.9375\n",
      "Epoch 74/100\n",
      "2/2 [==============================] - 0s 71ms/step - loss: 0.3486 - accuracy: 0.8828 - val_loss: 0.3135 - val_accuracy: 0.9375\n",
      "Epoch 75/100\n",
      "2/2 [==============================] - 0s 72ms/step - loss: 0.3468 - accuracy: 0.8867 - val_loss: 0.3114 - val_accuracy: 0.9375\n",
      "Epoch 76/100\n",
      "2/2 [==============================] - 0s 72ms/step - loss: 0.3452 - accuracy: 0.8828 - val_loss: 0.3096 - val_accuracy: 0.9375\n",
      "Epoch 77/100\n",
      "2/2 [==============================] - 0s 86ms/step - loss: 0.3436 - accuracy: 0.8867 - val_loss: 0.3078 - val_accuracy: 0.9375\n",
      "Epoch 78/100\n",
      "2/2 [==============================] - 0s 71ms/step - loss: 0.3419 - accuracy: 0.8867 - val_loss: 0.3056 - val_accuracy: 0.9375\n",
      "Epoch 79/100\n",
      "2/2 [==============================] - 0s 91ms/step - loss: 0.3403 - accuracy: 0.8867 - val_loss: 0.3036 - val_accuracy: 0.9375\n",
      "Epoch 80/100\n",
      "2/2 [==============================] - 0s 90ms/step - loss: 0.3385 - accuracy: 0.8867 - val_loss: 0.3017 - val_accuracy: 0.9375\n",
      "Epoch 81/100\n",
      "2/2 [==============================] - 0s 113ms/step - loss: 0.3370 - accuracy: 0.8867 - val_loss: 0.2996 - val_accuracy: 0.9375\n",
      "Epoch 82/100\n",
      "2/2 [==============================] - 0s 99ms/step - loss: 0.3353 - accuracy: 0.8867 - val_loss: 0.2976 - val_accuracy: 0.9375\n",
      "Epoch 83/100\n",
      "2/2 [==============================] - 0s 114ms/step - loss: 0.3339 - accuracy: 0.8867 - val_loss: 0.2955 - val_accuracy: 0.9375\n",
      "Epoch 84/100\n",
      "2/2 [==============================] - 0s 105ms/step - loss: 0.3322 - accuracy: 0.8867 - val_loss: 0.2936 - val_accuracy: 0.9375\n",
      "Epoch 85/100\n",
      "2/2 [==============================] - 0s 121ms/step - loss: 0.3307 - accuracy: 0.8867 - val_loss: 0.2919 - val_accuracy: 0.9375\n",
      "Epoch 86/100\n",
      "2/2 [==============================] - 0s 114ms/step - loss: 0.3292 - accuracy: 0.8867 - val_loss: 0.2902 - val_accuracy: 0.9375\n",
      "Epoch 87/100\n",
      "2/2 [==============================] - 0s 160ms/step - loss: 0.3277 - accuracy: 0.8867 - val_loss: 0.2884 - val_accuracy: 0.9375\n",
      "Epoch 88/100\n",
      "2/2 [==============================] - 0s 166ms/step - loss: 0.3263 - accuracy: 0.8867 - val_loss: 0.2866 - val_accuracy: 0.9375\n",
      "Epoch 89/100\n",
      "2/2 [==============================] - 0s 158ms/step - loss: 0.3248 - accuracy: 0.8867 - val_loss: 0.2851 - val_accuracy: 0.9375\n",
      "Epoch 90/100\n",
      "2/2 [==============================] - 0s 173ms/step - loss: 0.3235 - accuracy: 0.8867 - val_loss: 0.2835 - val_accuracy: 0.9375\n",
      "Epoch 91/100\n",
      "2/2 [==============================] - 0s 95ms/step - loss: 0.3222 - accuracy: 0.8867 - val_loss: 0.2816 - val_accuracy: 0.9375\n",
      "Epoch 92/100\n",
      "2/2 [==============================] - 0s 88ms/step - loss: 0.3205 - accuracy: 0.8906 - val_loss: 0.2800 - val_accuracy: 0.9375\n",
      "Epoch 93/100\n",
      "2/2 [==============================] - 0s 93ms/step - loss: 0.3194 - accuracy: 0.8906 - val_loss: 0.2787 - val_accuracy: 0.9375\n",
      "Epoch 94/100\n",
      "2/2 [==============================] - 0s 93ms/step - loss: 0.3178 - accuracy: 0.8906 - val_loss: 0.2773 - val_accuracy: 0.9375\n",
      "Epoch 95/100\n",
      "2/2 [==============================] - 0s 130ms/step - loss: 0.3167 - accuracy: 0.8906 - val_loss: 0.2759 - val_accuracy: 0.9375\n",
      "Epoch 96/100\n",
      "2/2 [==============================] - 0s 104ms/step - loss: 0.3155 - accuracy: 0.8906 - val_loss: 0.2743 - val_accuracy: 0.9375\n",
      "Epoch 97/100\n",
      "2/2 [==============================] - 0s 99ms/step - loss: 0.3140 - accuracy: 0.8906 - val_loss: 0.2728 - val_accuracy: 0.9375\n",
      "Epoch 98/100\n",
      "2/2 [==============================] - 0s 98ms/step - loss: 0.3127 - accuracy: 0.8906 - val_loss: 0.2713 - val_accuracy: 0.9375\n",
      "Epoch 99/100\n",
      "2/2 [==============================] - 0s 98ms/step - loss: 0.3114 - accuracy: 0.8906 - val_loss: 0.2699 - val_accuracy: 0.9375\n",
      "Epoch 100/100\n",
      "2/2 [==============================] - 0s 118ms/step - loss: 0.3102 - accuracy: 0.8906 - val_loss: 0.2684 - val_accuracy: 0.9375\n"
     ]
    }
   ],
   "source": [
    "mb.compile(loss='binary_crossentropy',metrics=['accuracy'])\n",
    "history = mb.fit(x_train,y_train,epochs=100,batch_size=150,validation_split=0.2)"
   ]
  },
  {
   "cell_type": "code",
   "execution_count": 42,
   "id": "cc6921f6",
   "metadata": {},
   "outputs": [
    {
     "data": {
      "text/plain": [
       "[<matplotlib.lines.Line2D at 0x20e619b8d30>]"
      ]
     },
     "execution_count": 42,
     "metadata": {},
     "output_type": "execute_result"
    },
    {
     "data": {
      "image/png": "[encoded data removed]",
      "text/plain": [
       "<Figure size 640x480 with 1 Axes>"
      ]
     },
     "metadata": {},
     "output_type": "display_data"
    }
   ],
   "source": [
    "import matplotlib.pyplot as plt\n",
    "plt.plot(history.history['loss'])"
   ]
  },
  {
   "cell_type": "code",
   "execution_count": 43,
   "id": "0d64dc27",
   "metadata": {},
   "outputs": [
    {
     "name": "stdout",
     "output_type": "stream",
     "text": [
      "3/3 [==============================] - 0s 8ms/step - loss: 0.2996 - accuracy: 0.9125\n"
     ]
    },
    {
     "data": {
      "text/plain": [
       "[0.29957297444343567, 0.9125000238418579]"
      ]
     },
     "execution_count": 43,
     "metadata": {},
     "output_type": "execute_result"
    }
   ],
   "source": [
    "mb.evaluate(x_test,y_test)"
   ]
  },
  {
   "cell_type": "code",
   "execution_count": 44,
   "id": "3f4e7f49",
   "metadata": {},
   "outputs": [
    {
     "name": "stdout",
     "output_type": "stream",
     "text": [
      "3/3 [==============================] - 0s 6ms/step\n"
     ]
    }
   ],
   "source": [
    "y_pred=mb.predict(x_test)"
   ]
  },
  {
   "cell_type": "code",
   "execution_count": 45,
   "id": "3607f75b",
   "metadata": {},
   "outputs": [
    {
     "data": {
      "text/plain": [
       "array([[0],\n",
       "       [0],\n",
       "       [0],\n",
       "       [1],\n",
       "       [0],\n",
       "       [0],\n",
       "       [1],\n",
       "       [0],\n",
       "       [1],\n",
       "       [0],\n",
       "       [0],\n",
       "       [0],\n",
       "       [0],\n",
       "       [0],\n",
       "       [0],\n",
       "       [0],\n",
       "       [0],\n",
       "       [1],\n",
       "       [1],\n",
       "       [1],\n",
       "       [0],\n",
       "       [1],\n",
       "       [0],\n",
       "       [0],\n",
       "       [0],\n",
       "       [1],\n",
       "       [0],\n",
       "       [0],\n",
       "       [0],\n",
       "       [0],\n",
       "       [1],\n",
       "       [0],\n",
       "       [1],\n",
       "       [1],\n",
       "       [1],\n",
       "       [0],\n",
       "       [0],\n",
       "       [0],\n",
       "       [1],\n",
       "       [0],\n",
       "       [0],\n",
       "       [0],\n",
       "       [0],\n",
       "       [0],\n",
       "       [0],\n",
       "       [0],\n",
       "       [0],\n",
       "       [0],\n",
       "       [1],\n",
       "       [0],\n",
       "       [1],\n",
       "       [1],\n",
       "       [1],\n",
       "       [0],\n",
       "       [0],\n",
       "       [0],\n",
       "       [0],\n",
       "       [0],\n",
       "       [0],\n",
       "       [1],\n",
       "       [0],\n",
       "       [0],\n",
       "       [0],\n",
       "       [0],\n",
       "       [0],\n",
       "       [1],\n",
       "       [0],\n",
       "       [0],\n",
       "       [0],\n",
       "       [1],\n",
       "       [0],\n",
       "       [1],\n",
       "       [0],\n",
       "       [0],\n",
       "       [1],\n",
       "       [0],\n",
       "       [0],\n",
       "       [1],\n",
       "       [0],\n",
       "       [0]])"
      ]
     },
     "execution_count": 45,
     "metadata": {},
     "output_type": "execute_result"
    }
   ],
   "source": [
    "y_pred=np.where(y_pred>0.5,1,0)\n",
    "y_pred\n"
   ]
  },
  {
   "cell_type": "code",
   "execution_count": 46,
   "id": "bae6eb40",
   "metadata": {},
   "outputs": [
    {
     "data": {
      "text/plain": [
       "<tf.Tensor: shape=(2, 2), dtype=int32, numpy=\n",
       "array([[52,  2],\n",
       "       [ 5, 21]])>"
      ]
     },
     "execution_count": 46,
     "metadata": {},
     "output_type": "execute_result"
    }
   ],
   "source": [
    "cm=tf.math.confusion_matrix(labels=y_test,predictions=y_pred)\n",
    "cm"
   ]
  },
  {
   "cell_type": "code",
   "execution_count": 47,
   "id": "76d9f631",
   "metadata": {},
   "outputs": [
    {
     "data": {
      "text/plain": [
       "Text(95.72222222222221, 0.5, 'Truth')"
      ]
     },
     "execution_count": 47,
     "metadata": {},
     "output_type": "execute_result"
    },
    {
     "data": {
      "image/png": "[encoded data removed]",
      "text/plain": [
       "<Figure size 1000x700 with 2 Axes>"
      ]
     },
     "metadata": {},
     "output_type": "display_data"
    }
   ],
   "source": [
    "import seaborn as sns\n",
    "plt.figure(figsize = (10,7))\n",
    "sns.heatmap(cm, annot=True, fmt='d')\n",
    "plt.xlabel('Predicted')\n",
    "plt.ylabel('Truth')"
   ]
  },
  {
   "cell_type": "raw",
   "id": "ea0940c7",
   "metadata": {},
   "source": [
    "Conclusion from observations of optimizers:\n",
    "    1) Fast\n",
    "        BGD > MBGD > SGD\n",
    "    2) Accuracy\n",
    "        SGD > MBGD > BGD\n",
    "    3) Convergence\n",
    "        SGD > MBGD > BGD\n",
    "    "
   ]
  }
 ],
 "metadata": {
  "kernelspec": {
   "display_name": "Python 3 (ipykernel)",
   "language": "python",
   "name": "python3"
  },
  "language_info": {
   "codemirror_mode": {
    "name": "ipython",
    "version": 3
   },
   "file_extension": ".py",
   "mimetype": "text/x-python",
   "name": "python",
   "nbconvert_exporter": "python",
   "pygments_lexer": "ipython3",
   "version": "3.9.13"
  }
 },
 "nbformat": 4,
 "nbformat_minor": 5
}
