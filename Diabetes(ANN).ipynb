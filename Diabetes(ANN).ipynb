{
 "cells": [
  {
   "cell_type": "markdown",
   "id": "5dba2d2f",
   "metadata": {},
   "source": [
    "#### Import Libraries"
   ]
  },
  {
   "cell_type": "code",
   "execution_count": 1,
   "id": "068692cb",
   "metadata": {},
   "outputs": [],
   "source": [
    "import numpy as np\n",
    "import pandas as pd\n",
    "import matplotlib.pyplot as plt\n",
    "import seaborn as sns\n",
    "import tensorflow\n",
    "from tensorflow import keras\n",
    "from tensorflow.keras import Sequential\n",
    "from tensorflow.keras.layers import Dense"
   ]
  },
  {
   "cell_type": "code",
   "execution_count": 2,
   "id": "980be1ee",
   "metadata": {},
   "outputs": [],
   "source": [
    "# load data"
   ]
  },
  {
   "cell_type": "code",
   "execution_count": 3,
   "id": "1538a485",
   "metadata": {},
   "outputs": [],
   "source": [
    "data=pd.read_csv(\"E:\\Datasets\\diabetes.csv\")"
   ]
  },
  {
   "cell_type": "code",
   "execution_count": 4,
   "id": "58e4734c",
   "metadata": {},
   "outputs": [
    {
     "data": {
      "text/html": [
       "<div>\n",
       "<style scoped>\n",
       "    .dataframe tbody tr th:only-of-type {\n",
       "        vertical-align: middle;\n",
       "    }\n",
       "\n",
       "    .dataframe tbody tr th {\n",
       "        vertical-align: top;\n",
       "    }\n",
       "\n",
       "    .dataframe thead th {\n",
       "        text-align: right;\n",
       "    }\n",
       "</style>\n",
       "<table border=\"1\" class=\"dataframe\">\n",
       "  <thead>\n",
       "    <tr style=\"text-align: right;\">\n",
       "      <th></th>\n",
       "      <th>Pregnancies</th>\n",
       "      <th>Glucose</th>\n",
       "      <th>BloodPressure</th>\n",
       "      <th>SkinThickness</th>\n",
       "      <th>Insulin</th>\n",
       "      <th>BMI</th>\n",
       "      <th>DiabetesPedigreeFunction</th>\n",
       "      <th>Age</th>\n",
       "      <th>Outcome</th>\n",
       "    </tr>\n",
       "  </thead>\n",
       "  <tbody>\n",
       "    <tr>\n",
       "      <th>0</th>\n",
       "      <td>6</td>\n",
       "      <td>148</td>\n",
       "      <td>72</td>\n",
       "      <td>35</td>\n",
       "      <td>0</td>\n",
       "      <td>33.6</td>\n",
       "      <td>0.627</td>\n",
       "      <td>50</td>\n",
       "      <td>1</td>\n",
       "    </tr>\n",
       "    <tr>\n",
       "      <th>1</th>\n",
       "      <td>1</td>\n",
       "      <td>85</td>\n",
       "      <td>66</td>\n",
       "      <td>29</td>\n",
       "      <td>0</td>\n",
       "      <td>26.6</td>\n",
       "      <td>0.351</td>\n",
       "      <td>31</td>\n",
       "      <td>0</td>\n",
       "    </tr>\n",
       "    <tr>\n",
       "      <th>2</th>\n",
       "      <td>8</td>\n",
       "      <td>183</td>\n",
       "      <td>64</td>\n",
       "      <td>0</td>\n",
       "      <td>0</td>\n",
       "      <td>23.3</td>\n",
       "      <td>0.672</td>\n",
       "      <td>32</td>\n",
       "      <td>1</td>\n",
       "    </tr>\n",
       "    <tr>\n",
       "      <th>3</th>\n",
       "      <td>1</td>\n",
       "      <td>89</td>\n",
       "      <td>66</td>\n",
       "      <td>23</td>\n",
       "      <td>94</td>\n",
       "      <td>28.1</td>\n",
       "      <td>0.167</td>\n",
       "      <td>21</td>\n",
       "      <td>0</td>\n",
       "    </tr>\n",
       "    <tr>\n",
       "      <th>4</th>\n",
       "      <td>0</td>\n",
       "      <td>137</td>\n",
       "      <td>40</td>\n",
       "      <td>35</td>\n",
       "      <td>168</td>\n",
       "      <td>43.1</td>\n",
       "      <td>2.288</td>\n",
       "      <td>33</td>\n",
       "      <td>1</td>\n",
       "    </tr>\n",
       "  </tbody>\n",
       "</table>\n",
       "</div>"
      ],
      "text/plain": [
       "   Pregnancies  Glucose  BloodPressure  SkinThickness  Insulin   BMI  \\\n",
       "0            6      148             72             35        0  33.6   \n",
       "1            1       85             66             29        0  26.6   \n",
       "2            8      183             64              0        0  23.3   \n",
       "3            1       89             66             23       94  28.1   \n",
       "4            0      137             40             35      168  43.1   \n",
       "\n",
       "   DiabetesPedigreeFunction  Age  Outcome  \n",
       "0                     0.627   50        1  \n",
       "1                     0.351   31        0  \n",
       "2                     0.672   32        1  \n",
       "3                     0.167   21        0  \n",
       "4                     2.288   33        1  "
      ]
     },
     "execution_count": 4,
     "metadata": {},
     "output_type": "execute_result"
    }
   ],
   "source": [
    "data.head()"
   ]
  },
  {
   "cell_type": "markdown",
   "id": "9c69c645",
   "metadata": {},
   "source": [
    "#### Data preprocessing"
   ]
  },
  {
   "cell_type": "code",
   "execution_count": 5,
   "id": "ecc61b96",
   "metadata": {},
   "outputs": [
    {
     "data": {
      "text/plain": [
       "Pregnancies                 0\n",
       "Glucose                     0\n",
       "BloodPressure               0\n",
       "SkinThickness               0\n",
       "Insulin                     0\n",
       "BMI                         0\n",
       "DiabetesPedigreeFunction    0\n",
       "Age                         0\n",
       "Outcome                     0\n",
       "dtype: int64"
      ]
     },
     "execution_count": 5,
     "metadata": {},
     "output_type": "execute_result"
    }
   ],
   "source": [
    "data.isnull().sum()"
   ]
  },
  {
   "cell_type": "code",
   "execution_count": 6,
   "id": "1d0a08d7",
   "metadata": {},
   "outputs": [
    {
     "data": {
      "text/plain": [
       "0      374\n",
       "105     11\n",
       "130      9\n",
       "140      9\n",
       "120      8\n",
       "      ... \n",
       "73       1\n",
       "171      1\n",
       "255      1\n",
       "52       1\n",
       "112      1\n",
       "Name: Insulin, Length: 186, dtype: int64"
      ]
     },
     "execution_count": 6,
     "metadata": {},
     "output_type": "execute_result"
    }
   ],
   "source": [
    "data.Insulin.value_counts()"
   ]
  },
  {
   "cell_type": "code",
   "execution_count": 7,
   "id": "818cc548",
   "metadata": {},
   "outputs": [],
   "source": [
    "# Replace insuline by mean where 0\n",
    "data['Insulin'].replace(to_replace=0, value=data['Insulin'].median(),inplace=True)"
   ]
  },
  {
   "cell_type": "code",
   "execution_count": 8,
   "id": "0e48b79b",
   "metadata": {},
   "outputs": [
    {
     "data": {
      "text/html": [
       "<div>\n",
       "<style scoped>\n",
       "    .dataframe tbody tr th:only-of-type {\n",
       "        vertical-align: middle;\n",
       "    }\n",
       "\n",
       "    .dataframe tbody tr th {\n",
       "        vertical-align: top;\n",
       "    }\n",
       "\n",
       "    .dataframe thead th {\n",
       "        text-align: right;\n",
       "    }\n",
       "</style>\n",
       "<table border=\"1\" class=\"dataframe\">\n",
       "  <thead>\n",
       "    <tr style=\"text-align: right;\">\n",
       "      <th></th>\n",
       "      <th>Pregnancies</th>\n",
       "      <th>Glucose</th>\n",
       "      <th>BloodPressure</th>\n",
       "      <th>SkinThickness</th>\n",
       "      <th>Insulin</th>\n",
       "      <th>BMI</th>\n",
       "      <th>DiabetesPedigreeFunction</th>\n",
       "      <th>Age</th>\n",
       "      <th>Outcome</th>\n",
       "    </tr>\n",
       "  </thead>\n",
       "  <tbody>\n",
       "    <tr>\n",
       "      <th>0</th>\n",
       "      <td>6</td>\n",
       "      <td>148</td>\n",
       "      <td>72</td>\n",
       "      <td>35</td>\n",
       "      <td>30.5</td>\n",
       "      <td>33.6</td>\n",
       "      <td>0.627</td>\n",
       "      <td>50</td>\n",
       "      <td>1</td>\n",
       "    </tr>\n",
       "    <tr>\n",
       "      <th>1</th>\n",
       "      <td>1</td>\n",
       "      <td>85</td>\n",
       "      <td>66</td>\n",
       "      <td>29</td>\n",
       "      <td>30.5</td>\n",
       "      <td>26.6</td>\n",
       "      <td>0.351</td>\n",
       "      <td>31</td>\n",
       "      <td>0</td>\n",
       "    </tr>\n",
       "    <tr>\n",
       "      <th>2</th>\n",
       "      <td>8</td>\n",
       "      <td>183</td>\n",
       "      <td>64</td>\n",
       "      <td>0</td>\n",
       "      <td>30.5</td>\n",
       "      <td>23.3</td>\n",
       "      <td>0.672</td>\n",
       "      <td>32</td>\n",
       "      <td>1</td>\n",
       "    </tr>\n",
       "    <tr>\n",
       "      <th>3</th>\n",
       "      <td>1</td>\n",
       "      <td>89</td>\n",
       "      <td>66</td>\n",
       "      <td>23</td>\n",
       "      <td>94.0</td>\n",
       "      <td>28.1</td>\n",
       "      <td>0.167</td>\n",
       "      <td>21</td>\n",
       "      <td>0</td>\n",
       "    </tr>\n",
       "    <tr>\n",
       "      <th>4</th>\n",
       "      <td>0</td>\n",
       "      <td>137</td>\n",
       "      <td>40</td>\n",
       "      <td>35</td>\n",
       "      <td>168.0</td>\n",
       "      <td>43.1</td>\n",
       "      <td>2.288</td>\n",
       "      <td>33</td>\n",
       "      <td>1</td>\n",
       "    </tr>\n",
       "  </tbody>\n",
       "</table>\n",
       "</div>"
      ],
      "text/plain": [
       "   Pregnancies  Glucose  BloodPressure  SkinThickness  Insulin   BMI  \\\n",
       "0            6      148             72             35     30.5  33.6   \n",
       "1            1       85             66             29     30.5  26.6   \n",
       "2            8      183             64              0     30.5  23.3   \n",
       "3            1       89             66             23     94.0  28.1   \n",
       "4            0      137             40             35    168.0  43.1   \n",
       "\n",
       "   DiabetesPedigreeFunction  Age  Outcome  \n",
       "0                     0.627   50        1  \n",
       "1                     0.351   31        0  \n",
       "2                     0.672   32        1  \n",
       "3                     0.167   21        0  \n",
       "4                     2.288   33        1  "
      ]
     },
     "execution_count": 8,
     "metadata": {},
     "output_type": "execute_result"
    }
   ],
   "source": [
    "data.head()"
   ]
  },
  {
   "cell_type": "code",
   "execution_count": 9,
   "id": "d276c8ae",
   "metadata": {},
   "outputs": [
    {
     "data": {
      "text/plain": [
       "(768, 9)"
      ]
     },
     "execution_count": 9,
     "metadata": {},
     "output_type": "execute_result"
    }
   ],
   "source": [
    "data.shape"
   ]
  },
  {
   "cell_type": "code",
   "execution_count": 10,
   "id": "68d3b75a",
   "metadata": {},
   "outputs": [
    {
     "data": {
      "text/plain": [
       "Index(['Pregnancies', 'Glucose', 'BloodPressure', 'SkinThickness', 'Insulin',\n",
       "       'BMI', 'DiabetesPedigreeFunction', 'Age', 'Outcome'],\n",
       "      dtype='object')"
      ]
     },
     "execution_count": 10,
     "metadata": {},
     "output_type": "execute_result"
    }
   ],
   "source": [
    "data.columns"
   ]
  },
  {
   "cell_type": "code",
   "execution_count": 11,
   "id": "78d6bee5",
   "metadata": {},
   "outputs": [
    {
     "data": {
      "text/plain": [
       "0    500\n",
       "1    268\n",
       "Name: Outcome, dtype: int64"
      ]
     },
     "execution_count": 11,
     "metadata": {},
     "output_type": "execute_result"
    }
   ],
   "source": [
    "data.Outcome.value_counts()"
   ]
  },
  {
   "cell_type": "markdown",
   "id": "a919bbfa",
   "metadata": {},
   "source": [
    "#### Data imbalancing"
   ]
  },
  {
   "cell_type": "code",
   "execution_count": 12,
   "id": "29ca2fb5",
   "metadata": {},
   "outputs": [
    {
     "data": {
      "text/plain": [
       "array([1, 0, 1, 0, 1, 0, 1, 0, 1, 1, 0, 1, 0, 1, 1, 1, 1, 1, 0, 1, 0, 0,\n",
       "       1, 1, 1, 1, 1, 0, 0, 0, 0, 1, 0, 0, 0, 0, 0, 1, 1, 1, 0, 0, 0, 1,\n",
       "       0, 1, 0, 0, 1, 0, 0, 0, 0, 1, 0, 0, 1, 0, 0, 0, 0, 1, 0, 0, 1, 0,\n",
       "       1, 0, 0, 0, 1, 0, 1, 0, 0, 0, 0, 0, 1, 0, 0, 0, 0, 0, 1, 0, 0, 0,\n",
       "       1, 0, 0, 0, 0, 1, 0, 0, 0, 0, 0, 1, 1, 0, 0, 0, 0, 0, 0, 0, 0, 1,\n",
       "       1, 1, 0, 0, 1, 1, 1, 0, 0, 0, 1, 0, 0, 0, 1, 1, 0, 0, 1, 1, 1, 1,\n",
       "       1, 0, 0, 0, 0, 0, 0, 0, 0, 0, 0, 1, 0, 0, 0, 0, 0, 0, 0, 0, 1, 0,\n",
       "       1, 1, 0, 0, 0, 1, 0, 0, 0, 0, 1, 1, 0, 0, 0, 0, 1, 1, 0, 0, 0, 1,\n",
       "       0, 1, 0, 1, 0, 0, 0, 0, 0, 1, 1, 1, 1, 1, 0, 0, 1, 1, 0, 1, 0, 1,\n",
       "       1, 1, 0, 0, 0, 0, 0, 0, 1, 1, 0, 1, 0, 0, 0, 1, 1, 1, 1, 0, 1, 1,\n",
       "       1, 1, 0, 0, 0, 0, 0, 1, 0, 0, 1, 1, 0, 0, 0, 1, 1, 1, 1, 0, 0, 0,\n",
       "       1, 1, 0, 1, 0, 0, 0, 0, 0, 0, 0, 0, 1, 1, 0, 0, 0, 1, 0, 1, 0, 0,\n",
       "       1, 0, 1, 0, 0, 1, 1, 0, 0, 0, 0, 0, 1, 0, 0, 0, 1, 0, 0, 1, 1, 0,\n",
       "       0, 1, 0, 0, 0, 1, 1, 1, 0, 0, 1, 0, 1, 0, 1, 1, 0, 1, 0, 0, 1, 0,\n",
       "       1, 1, 0, 0, 1, 0, 1, 0, 0, 1, 0, 1, 0, 1, 1, 1, 0, 0, 1, 0, 1, 0,\n",
       "       0, 0, 1, 0, 0, 0, 0, 1, 1, 1, 0, 0, 0, 0, 0, 0, 0, 0, 0, 1, 0, 0,\n",
       "       0, 0, 0, 1, 1, 1, 0, 1, 1, 0, 0, 1, 0, 0, 1, 0, 0, 1, 1, 0, 0, 0,\n",
       "       0, 1, 0, 0, 1, 0, 0, 0, 0, 0, 0, 0, 1, 1, 1, 0, 0, 1, 0, 0, 1, 0,\n",
       "       0, 1, 0, 1, 1, 0, 1, 0, 1, 0, 1, 0, 1, 1, 0, 0, 0, 0, 1, 1, 0, 1,\n",
       "       0, 1, 0, 0, 0, 0, 1, 1, 0, 1, 0, 1, 0, 0, 0, 0, 0, 1, 0, 0, 0, 0,\n",
       "       1, 0, 0, 1, 1, 1, 0, 0, 1, 0, 0, 1, 0, 0, 0, 1, 0, 0, 1, 0, 0, 0,\n",
       "       0, 0, 0, 0, 0, 0, 1, 0, 0, 0, 0, 0, 0, 0, 1, 0, 0, 0, 1, 0, 0, 0,\n",
       "       1, 1, 0, 0, 0, 0, 0, 0, 0, 1, 0, 0, 0, 0, 1, 0, 0, 0, 1, 0, 0, 0,\n",
       "       1, 0, 0, 0, 1, 0, 0, 0, 0, 1, 1, 0, 0, 0, 0, 0, 0, 1, 0, 0, 0, 0,\n",
       "       0, 0, 0, 0, 0, 0, 0, 1, 0, 0, 0, 1, 1, 1, 1, 0, 0, 1, 1, 0, 0, 0,\n",
       "       0, 0, 0, 0, 0, 0, 0, 0, 0, 0, 1, 1, 0, 0, 0, 0, 0, 0, 0, 1, 0, 0,\n",
       "       0, 0, 0, 0, 0, 1, 0, 1, 1, 0, 0, 0, 1, 0, 1, 0, 1, 0, 1, 0, 1, 0,\n",
       "       0, 1, 0, 0, 1, 0, 0, 0, 0, 1, 1, 0, 1, 0, 0, 0, 0, 1, 1, 0, 1, 0,\n",
       "       0, 0, 1, 1, 0, 0, 0, 0, 0, 0, 0, 0, 0, 0, 1, 0, 0, 0, 0, 1, 0, 0,\n",
       "       1, 0, 0, 0, 1, 0, 0, 0, 1, 1, 1, 0, 0, 0, 0, 0, 0, 1, 0, 0, 0, 1,\n",
       "       0, 1, 1, 1, 1, 0, 1, 1, 0, 0, 0, 0, 0, 0, 0, 1, 1, 0, 1, 0, 0, 1,\n",
       "       0, 1, 0, 0, 0, 0, 0, 1, 0, 1, 0, 1, 0, 1, 1, 0, 0, 0, 0, 1, 1, 0,\n",
       "       0, 0, 1, 0, 1, 1, 0, 0, 1, 0, 0, 1, 1, 0, 0, 1, 0, 0, 1, 0, 0, 0,\n",
       "       0, 0, 0, 0, 1, 1, 1, 0, 0, 0, 0, 0, 0, 1, 1, 0, 0, 1, 0, 0, 1, 0,\n",
       "       1, 1, 1, 0, 0, 1, 1, 1, 0, 1, 0, 1, 0, 1, 0, 0, 0, 0, 1, 0],\n",
       "      dtype=int64)"
      ]
     },
     "execution_count": 12,
     "metadata": {},
     "output_type": "execute_result"
    }
   ],
   "source": [
    "x=data.iloc[:,:-1].values\n",
    "y=data.iloc[:,-1].values\n",
    "y"
   ]
  },
  {
   "cell_type": "code",
   "execution_count": 13,
   "id": "26053754",
   "metadata": {},
   "outputs": [],
   "source": [
    "from imblearn.over_sampling import SMOTE\n",
    "s=SMOTE()\n",
    "x_data,y_data=s.fit_resample(x,y)"
   ]
  },
  {
   "cell_type": "code",
   "execution_count": null,
   "id": "2205d52b",
   "metadata": {},
   "outputs": [],
   "source": []
  },
  {
   "cell_type": "code",
   "execution_count": 14,
   "id": "657bd11e",
   "metadata": {},
   "outputs": [],
   "source": [
    "from sklearn.model_selection import train_test_split\n",
    "x_train,x_test,y_train,y_test=train_test_split(x_data,y_data,test_size=0.2,random_state=50)"
   ]
  },
  {
   "cell_type": "markdown",
   "id": "953d9aeb",
   "metadata": {},
   "source": [
    "#### Normalize the data within a particular range."
   ]
  },
  {
   "cell_type": "code",
   "execution_count": 15,
   "id": "fb79e9a3",
   "metadata": {},
   "outputs": [],
   "source": [
    "from sklearn.preprocessing import StandardScaler\n",
    "ss=StandardScaler()\n",
    "X_train=ss.fit_transform(x_train)\n",
    "X_test=ss.transform(x_test)"
   ]
  },
  {
   "cell_type": "markdown",
   "id": "1e9efa7a",
   "metadata": {},
   "source": [
    "###  Build Artificial Neural Network"
   ]
  },
  {
   "cell_type": "markdown",
   "id": "61472363",
   "metadata": {},
   "source": [
    " #### Initialize the Artificial Neural Network"
   ]
  },
  {
   "cell_type": "code",
   "execution_count": 16,
   "id": "377aff5e",
   "metadata": {},
   "outputs": [],
   "source": [
    "model=Sequential()\n"
   ]
  },
  {
   "cell_type": "markdown",
   "id": "0e964529",
   "metadata": {},
   "source": [
    "#### Add the input layer and the first hidden layer"
   ]
  },
  {
   "cell_type": "code",
   "execution_count": 17,
   "id": "79ce387b",
   "metadata": {},
   "outputs": [],
   "source": [
    "model.add(Dense(units=6,activation='relu',input_dim=8))  #Input layers"
   ]
  },
  {
   "cell_type": "markdown",
   "id": "961b5769",
   "metadata": {},
   "source": [
    "#### Add the second hidden layer"
   ]
  },
  {
   "cell_type": "code",
   "execution_count": 18,
   "id": "081c08b5",
   "metadata": {},
   "outputs": [],
   "source": [
    "model.add(Dense(units=6,activation='relu'))    # Hidden layers"
   ]
  },
  {
   "cell_type": "markdown",
   "id": "ce9149d5",
   "metadata": {},
   "source": [
    "#### Add the output layer"
   ]
  },
  {
   "cell_type": "code",
   "execution_count": 19,
   "id": "dffc59ef",
   "metadata": {},
   "outputs": [],
   "source": [
    "model.add(Dense(units=1,activation='sigmoid'))  # Output layer"
   ]
  },
  {
   "cell_type": "markdown",
   "id": "f2b76c1b",
   "metadata": {},
   "source": [
    "### Train the ANN"
   ]
  },
  {
   "cell_type": "markdown",
   "id": "e73461c8",
   "metadata": {},
   "source": [
    "#### Compile the ANN Model"
   ]
  },
  {
   "cell_type": "code",
   "execution_count": 20,
   "id": "2e85902d",
   "metadata": {},
   "outputs": [],
   "source": [
    "model.compile(optimizer='Adam',loss='binary_crossentropy',metrics=['accuracy'])"
   ]
  },
  {
   "cell_type": "code",
   "execution_count": 21,
   "id": "bb6da920",
   "metadata": {},
   "outputs": [
    {
     "name": "stdout",
     "output_type": "stream",
     "text": [
      "Model: \"sequential\"\n",
      "_________________________________________________________________\n",
      " Layer (type)                Output Shape              Param #   \n",
      "=================================================================\n",
      " dense (Dense)               (None, 6)                 54        \n",
      "                                                                 \n",
      " dense_1 (Dense)             (None, 6)                 42        \n",
      "                                                                 \n",
      " dense_2 (Dense)             (None, 1)                 7         \n",
      "                                                                 \n",
      "=================================================================\n",
      "Total params: 103\n",
      "Trainable params: 103\n",
      "Non-trainable params: 0\n",
      "_________________________________________________________________\n"
     ]
    }
   ],
   "source": [
    "model.summary()"
   ]
  },
  {
   "cell_type": "markdown",
   "id": "aa3e1e83",
   "metadata": {},
   "source": [
    "#### Fit the ANN to the Training set"
   ]
  },
  {
   "cell_type": "code",
   "execution_count": 22,
   "id": "fb70f788",
   "metadata": {},
   "outputs": [
    {
     "name": "stdout",
     "output_type": "stream",
     "text": [
      "Epoch 1/100\n",
      "20/20 [==============================] - 4s 49ms/step - loss: 0.7212 - accuracy: 0.4313 - val_loss: 0.7147 - val_accuracy: 0.5188\n",
      "Epoch 2/100\n",
      "20/20 [==============================] - 0s 16ms/step - loss: 0.6961 - accuracy: 0.4953 - val_loss: 0.6862 - val_accuracy: 0.5250\n",
      "Epoch 3/100\n",
      "20/20 [==============================] - 0s 17ms/step - loss: 0.6781 - accuracy: 0.5234 - val_loss: 0.6634 - val_accuracy: 0.5750\n",
      "Epoch 4/100\n",
      "20/20 [==============================] - 0s 17ms/step - loss: 0.6652 - accuracy: 0.5375 - val_loss: 0.6438 - val_accuracy: 0.6125\n",
      "Epoch 5/100\n",
      "20/20 [==============================] - 0s 25ms/step - loss: 0.6528 - accuracy: 0.5703 - val_loss: 0.6310 - val_accuracy: 0.6438\n",
      "Epoch 6/100\n",
      "20/20 [==============================] - 0s 17ms/step - loss: 0.6426 - accuracy: 0.6094 - val_loss: 0.6194 - val_accuracy: 0.6687\n",
      "Epoch 7/100\n",
      "20/20 [==============================] - 0s 22ms/step - loss: 0.6323 - accuracy: 0.6328 - val_loss: 0.6081 - val_accuracy: 0.6687\n",
      "Epoch 8/100\n",
      "20/20 [==============================] - 0s 21ms/step - loss: 0.6210 - accuracy: 0.6672 - val_loss: 0.5996 - val_accuracy: 0.6938\n",
      "Epoch 9/100\n",
      "20/20 [==============================] - 0s 24ms/step - loss: 0.6107 - accuracy: 0.7016 - val_loss: 0.5903 - val_accuracy: 0.7063\n",
      "Epoch 10/100\n",
      "20/20 [==============================] - 0s 24ms/step - loss: 0.5994 - accuracy: 0.7219 - val_loss: 0.5817 - val_accuracy: 0.7125\n",
      "Epoch 11/100\n",
      "20/20 [==============================] - 0s 23ms/step - loss: 0.5889 - accuracy: 0.7312 - val_loss: 0.5735 - val_accuracy: 0.7125\n",
      "Epoch 12/100\n",
      "20/20 [==============================] - 0s 17ms/step - loss: 0.5775 - accuracy: 0.7484 - val_loss: 0.5672 - val_accuracy: 0.7125\n",
      "Epoch 13/100\n",
      "20/20 [==============================] - 0s 16ms/step - loss: 0.5667 - accuracy: 0.7437 - val_loss: 0.5616 - val_accuracy: 0.6938\n",
      "Epoch 14/100\n",
      "20/20 [==============================] - 0s 17ms/step - loss: 0.5551 - accuracy: 0.7516 - val_loss: 0.5541 - val_accuracy: 0.7125\n",
      "Epoch 15/100\n",
      "20/20 [==============================] - 0s 16ms/step - loss: 0.5448 - accuracy: 0.7531 - val_loss: 0.5479 - val_accuracy: 0.7063\n",
      "Epoch 16/100\n",
      "20/20 [==============================] - 0s 15ms/step - loss: 0.5342 - accuracy: 0.7563 - val_loss: 0.5452 - val_accuracy: 0.7063\n",
      "Epoch 17/100\n",
      "20/20 [==============================] - 0s 19ms/step - loss: 0.5242 - accuracy: 0.7625 - val_loss: 0.5416 - val_accuracy: 0.7250\n",
      "Epoch 18/100\n",
      "20/20 [==============================] - 0s 17ms/step - loss: 0.5156 - accuracy: 0.7625 - val_loss: 0.5388 - val_accuracy: 0.7250\n",
      "Epoch 19/100\n",
      "20/20 [==============================] - 0s 16ms/step - loss: 0.5080 - accuracy: 0.7578 - val_loss: 0.5367 - val_accuracy: 0.7312\n",
      "Epoch 20/100\n",
      "20/20 [==============================] - 0s 17ms/step - loss: 0.5011 - accuracy: 0.7547 - val_loss: 0.5383 - val_accuracy: 0.7312\n",
      "Epoch 21/100\n",
      "20/20 [==============================] - 1s 33ms/step - loss: 0.4950 - accuracy: 0.7516 - val_loss: 0.5375 - val_accuracy: 0.7312\n",
      "Epoch 22/100\n",
      "20/20 [==============================] - 1s 57ms/step - loss: 0.4902 - accuracy: 0.7500 - val_loss: 0.5376 - val_accuracy: 0.7250\n",
      "Epoch 23/100\n",
      "20/20 [==============================] - 1s 27ms/step - loss: 0.4854 - accuracy: 0.7500 - val_loss: 0.5365 - val_accuracy: 0.7250\n",
      "Epoch 24/100\n",
      "20/20 [==============================] - 0s 19ms/step - loss: 0.4821 - accuracy: 0.7516 - val_loss: 0.5368 - val_accuracy: 0.7188\n",
      "Epoch 25/100\n",
      "20/20 [==============================] - 0s 17ms/step - loss: 0.4789 - accuracy: 0.7531 - val_loss: 0.5364 - val_accuracy: 0.7188\n",
      "Epoch 26/100\n",
      "20/20 [==============================] - 0s 17ms/step - loss: 0.4759 - accuracy: 0.7563 - val_loss: 0.5388 - val_accuracy: 0.7188\n",
      "Epoch 27/100\n",
      "20/20 [==============================] - 0s 20ms/step - loss: 0.4727 - accuracy: 0.7563 - val_loss: 0.5381 - val_accuracy: 0.7188\n",
      "Epoch 28/100\n",
      "20/20 [==============================] - 1s 33ms/step - loss: 0.4704 - accuracy: 0.7594 - val_loss: 0.5375 - val_accuracy: 0.7125\n",
      "Epoch 29/100\n",
      "20/20 [==============================] - 0s 19ms/step - loss: 0.4682 - accuracy: 0.7594 - val_loss: 0.5385 - val_accuracy: 0.7125\n",
      "Epoch 30/100\n",
      "20/20 [==============================] - 0s 17ms/step - loss: 0.4661 - accuracy: 0.7625 - val_loss: 0.5387 - val_accuracy: 0.7125\n",
      "Epoch 31/100\n",
      "20/20 [==============================] - 1s 36ms/step - loss: 0.4643 - accuracy: 0.7625 - val_loss: 0.5387 - val_accuracy: 0.7125\n",
      "Epoch 32/100\n",
      "20/20 [==============================] - 1s 56ms/step - loss: 0.4629 - accuracy: 0.7625 - val_loss: 0.5411 - val_accuracy: 0.7063\n",
      "Epoch 33/100\n",
      "20/20 [==============================] - 1s 35ms/step - loss: 0.4608 - accuracy: 0.7656 - val_loss: 0.5391 - val_accuracy: 0.7125\n",
      "Epoch 34/100\n",
      "20/20 [==============================] - 0s 18ms/step - loss: 0.4602 - accuracy: 0.7719 - val_loss: 0.5369 - val_accuracy: 0.7125\n",
      "Epoch 35/100\n",
      "20/20 [==============================] - 0s 18ms/step - loss: 0.4582 - accuracy: 0.7703 - val_loss: 0.5387 - val_accuracy: 0.7063\n",
      "Epoch 36/100\n",
      "20/20 [==============================] - 0s 19ms/step - loss: 0.4569 - accuracy: 0.7688 - val_loss: 0.5395 - val_accuracy: 0.7063\n",
      "Epoch 37/100\n",
      "20/20 [==============================] - 0s 15ms/step - loss: 0.4557 - accuracy: 0.7719 - val_loss: 0.5397 - val_accuracy: 0.7063\n",
      "Epoch 38/100\n",
      "20/20 [==============================] - 0s 15ms/step - loss: 0.4544 - accuracy: 0.7719 - val_loss: 0.5398 - val_accuracy: 0.7063\n",
      "Epoch 39/100\n",
      "20/20 [==============================] - 0s 16ms/step - loss: 0.4532 - accuracy: 0.7734 - val_loss: 0.5402 - val_accuracy: 0.7063\n",
      "Epoch 40/100\n",
      "20/20 [==============================] - 0s 13ms/step - loss: 0.4525 - accuracy: 0.7734 - val_loss: 0.5386 - val_accuracy: 0.7063\n",
      "Epoch 41/100\n",
      "20/20 [==============================] - 0s 17ms/step - loss: 0.4516 - accuracy: 0.7734 - val_loss: 0.5407 - val_accuracy: 0.7063\n",
      "Epoch 42/100\n",
      "20/20 [==============================] - 0s 25ms/step - loss: 0.4507 - accuracy: 0.7750 - val_loss: 0.5411 - val_accuracy: 0.7063\n",
      "Epoch 43/100\n",
      "20/20 [==============================] - 1s 51ms/step - loss: 0.4502 - accuracy: 0.7734 - val_loss: 0.5411 - val_accuracy: 0.7000\n",
      "Epoch 44/100\n",
      "20/20 [==============================] - 1s 29ms/step - loss: 0.4495 - accuracy: 0.7766 - val_loss: 0.5399 - val_accuracy: 0.7063\n",
      "Epoch 45/100\n",
      "20/20 [==============================] - 0s 19ms/step - loss: 0.4485 - accuracy: 0.7766 - val_loss: 0.5415 - val_accuracy: 0.7125\n",
      "Epoch 46/100\n",
      "20/20 [==============================] - 0s 16ms/step - loss: 0.4478 - accuracy: 0.7781 - val_loss: 0.5411 - val_accuracy: 0.7063\n",
      "Epoch 47/100\n",
      "20/20 [==============================] - 0s 16ms/step - loss: 0.4474 - accuracy: 0.7781 - val_loss: 0.5412 - val_accuracy: 0.7250\n",
      "Epoch 48/100\n",
      "20/20 [==============================] - 0s 16ms/step - loss: 0.4465 - accuracy: 0.7766 - val_loss: 0.5421 - val_accuracy: 0.7125\n",
      "Epoch 49/100\n",
      "20/20 [==============================] - 0s 15ms/step - loss: 0.4461 - accuracy: 0.7750 - val_loss: 0.5398 - val_accuracy: 0.7188\n",
      "Epoch 50/100\n",
      "20/20 [==============================] - 0s 16ms/step - loss: 0.4454 - accuracy: 0.7797 - val_loss: 0.5418 - val_accuracy: 0.7125\n",
      "Epoch 51/100\n",
      "20/20 [==============================] - 0s 16ms/step - loss: 0.4449 - accuracy: 0.7766 - val_loss: 0.5432 - val_accuracy: 0.7188\n",
      "Epoch 52/100\n",
      "20/20 [==============================] - 0s 15ms/step - loss: 0.4439 - accuracy: 0.7781 - val_loss: 0.5426 - val_accuracy: 0.7188\n",
      "Epoch 53/100\n",
      "20/20 [==============================] - 0s 16ms/step - loss: 0.4432 - accuracy: 0.7797 - val_loss: 0.5417 - val_accuracy: 0.7125\n",
      "Epoch 54/100\n",
      "20/20 [==============================] - 0s 16ms/step - loss: 0.4427 - accuracy: 0.7797 - val_loss: 0.5415 - val_accuracy: 0.7125\n",
      "Epoch 55/100\n",
      "20/20 [==============================] - 0s 17ms/step - loss: 0.4421 - accuracy: 0.7812 - val_loss: 0.5405 - val_accuracy: 0.7125\n",
      "Epoch 56/100\n",
      "20/20 [==============================] - 1s 34ms/step - loss: 0.4416 - accuracy: 0.7781 - val_loss: 0.5405 - val_accuracy: 0.7063\n",
      "Epoch 57/100\n",
      "20/20 [==============================] - 1s 51ms/step - loss: 0.4409 - accuracy: 0.7828 - val_loss: 0.5433 - val_accuracy: 0.7125\n",
      "Epoch 58/100\n"
     ]
    },
    {
     "name": "stdout",
     "output_type": "stream",
     "text": [
      "20/20 [==============================] - 0s 20ms/step - loss: 0.4404 - accuracy: 0.7781 - val_loss: 0.5432 - val_accuracy: 0.7063\n",
      "Epoch 59/100\n",
      "20/20 [==============================] - 0s 21ms/step - loss: 0.4394 - accuracy: 0.7859 - val_loss: 0.5404 - val_accuracy: 0.7063\n",
      "Epoch 60/100\n",
      "20/20 [==============================] - 0s 16ms/step - loss: 0.4386 - accuracy: 0.7844 - val_loss: 0.5399 - val_accuracy: 0.7063\n",
      "Epoch 61/100\n",
      "20/20 [==============================] - 0s 23ms/step - loss: 0.4386 - accuracy: 0.7828 - val_loss: 0.5435 - val_accuracy: 0.7125\n",
      "Epoch 62/100\n",
      "20/20 [==============================] - 0s 23ms/step - loss: 0.4376 - accuracy: 0.7844 - val_loss: 0.5391 - val_accuracy: 0.7125\n",
      "Epoch 63/100\n",
      "20/20 [==============================] - 0s 16ms/step - loss: 0.4364 - accuracy: 0.7844 - val_loss: 0.5405 - val_accuracy: 0.7063\n",
      "Epoch 64/100\n",
      "20/20 [==============================] - 1s 30ms/step - loss: 0.4359 - accuracy: 0.7844 - val_loss: 0.5419 - val_accuracy: 0.7000\n",
      "Epoch 65/100\n",
      "20/20 [==============================] - 1s 36ms/step - loss: 0.4354 - accuracy: 0.7844 - val_loss: 0.5419 - val_accuracy: 0.7000\n",
      "Epoch 66/100\n",
      "20/20 [==============================] - 1s 68ms/step - loss: 0.4347 - accuracy: 0.7859 - val_loss: 0.5431 - val_accuracy: 0.7000\n",
      "Epoch 67/100\n",
      "20/20 [==============================] - 1s 30ms/step - loss: 0.4340 - accuracy: 0.7875 - val_loss: 0.5422 - val_accuracy: 0.7063\n",
      "Epoch 68/100\n",
      "20/20 [==============================] - 0s 19ms/step - loss: 0.4341 - accuracy: 0.7859 - val_loss: 0.5417 - val_accuracy: 0.7063\n",
      "Epoch 69/100\n",
      "20/20 [==============================] - 0s 17ms/step - loss: 0.4330 - accuracy: 0.7859 - val_loss: 0.5430 - val_accuracy: 0.7063\n",
      "Epoch 70/100\n",
      "20/20 [==============================] - 0s 15ms/step - loss: 0.4327 - accuracy: 0.7875 - val_loss: 0.5447 - val_accuracy: 0.7000\n",
      "Epoch 71/100\n",
      "20/20 [==============================] - 0s 13ms/step - loss: 0.4319 - accuracy: 0.7906 - val_loss: 0.5433 - val_accuracy: 0.7000\n",
      "Epoch 72/100\n",
      "20/20 [==============================] - 0s 14ms/step - loss: 0.4321 - accuracy: 0.7875 - val_loss: 0.5445 - val_accuracy: 0.7000\n",
      "Epoch 73/100\n",
      "20/20 [==============================] - 0s 18ms/step - loss: 0.4311 - accuracy: 0.7891 - val_loss: 0.5424 - val_accuracy: 0.7000\n",
      "Epoch 74/100\n",
      "20/20 [==============================] - 1s 26ms/step - loss: 0.4305 - accuracy: 0.7891 - val_loss: 0.5425 - val_accuracy: 0.7000\n",
      "Epoch 75/100\n",
      "20/20 [==============================] - 0s 22ms/step - loss: 0.4301 - accuracy: 0.7891 - val_loss: 0.5429 - val_accuracy: 0.7063\n",
      "Epoch 76/100\n",
      "20/20 [==============================] - 0s 20ms/step - loss: 0.4295 - accuracy: 0.7906 - val_loss: 0.5440 - val_accuracy: 0.7000\n",
      "Epoch 77/100\n",
      "20/20 [==============================] - 1s 26ms/step - loss: 0.4291 - accuracy: 0.7875 - val_loss: 0.5438 - val_accuracy: 0.7000\n",
      "Epoch 78/100\n",
      "20/20 [==============================] - 1s 66ms/step - loss: 0.4285 - accuracy: 0.7891 - val_loss: 0.5433 - val_accuracy: 0.7000\n",
      "Epoch 79/100\n",
      "20/20 [==============================] - 1s 31ms/step - loss: 0.4280 - accuracy: 0.7922 - val_loss: 0.5436 - val_accuracy: 0.7000\n",
      "Epoch 80/100\n",
      "20/20 [==============================] - 0s 17ms/step - loss: 0.4276 - accuracy: 0.7937 - val_loss: 0.5440 - val_accuracy: 0.7063\n",
      "Epoch 81/100\n",
      "20/20 [==============================] - 1s 31ms/step - loss: 0.4277 - accuracy: 0.7937 - val_loss: 0.5444 - val_accuracy: 0.7000\n",
      "Epoch 82/100\n",
      "20/20 [==============================] - 0s 15ms/step - loss: 0.4268 - accuracy: 0.7953 - val_loss: 0.5423 - val_accuracy: 0.7063\n",
      "Epoch 83/100\n",
      "20/20 [==============================] - 0s 23ms/step - loss: 0.4266 - accuracy: 0.7953 - val_loss: 0.5456 - val_accuracy: 0.7000\n",
      "Epoch 84/100\n",
      "20/20 [==============================] - 1s 35ms/step - loss: 0.4258 - accuracy: 0.7937 - val_loss: 0.5443 - val_accuracy: 0.7063\n",
      "Epoch 85/100\n",
      "20/20 [==============================] - 0s 18ms/step - loss: 0.4252 - accuracy: 0.7937 - val_loss: 0.5428 - val_accuracy: 0.7063\n",
      "Epoch 86/100\n",
      "20/20 [==============================] - 2s 95ms/step - loss: 0.4250 - accuracy: 0.7969 - val_loss: 0.5415 - val_accuracy: 0.7000\n",
      "Epoch 87/100\n",
      "20/20 [==============================] - 1s 45ms/step - loss: 0.4243 - accuracy: 0.7953 - val_loss: 0.5437 - val_accuracy: 0.7000\n",
      "Epoch 88/100\n",
      "20/20 [==============================] - 0s 24ms/step - loss: 0.4240 - accuracy: 0.7953 - val_loss: 0.5445 - val_accuracy: 0.7000\n",
      "Epoch 89/100\n",
      "20/20 [==============================] - 0s 17ms/step - loss: 0.4237 - accuracy: 0.7984 - val_loss: 0.5428 - val_accuracy: 0.7000\n",
      "Epoch 90/100\n",
      "20/20 [==============================] - 1s 28ms/step - loss: 0.4235 - accuracy: 0.8000 - val_loss: 0.5431 - val_accuracy: 0.7000\n",
      "Epoch 91/100\n",
      "20/20 [==============================] - 0s 24ms/step - loss: 0.4230 - accuracy: 0.7969 - val_loss: 0.5457 - val_accuracy: 0.6938\n",
      "Epoch 92/100\n",
      "20/20 [==============================] - 0s 22ms/step - loss: 0.4226 - accuracy: 0.7969 - val_loss: 0.5443 - val_accuracy: 0.6938\n",
      "Epoch 93/100\n",
      "20/20 [==============================] - 0s 15ms/step - loss: 0.4224 - accuracy: 0.7969 - val_loss: 0.5437 - val_accuracy: 0.7000\n",
      "Epoch 94/100\n",
      "20/20 [==============================] - 2s 105ms/step - loss: 0.4221 - accuracy: 0.7969 - val_loss: 0.5450 - val_accuracy: 0.6938\n",
      "Epoch 95/100\n",
      "20/20 [==============================] - 2s 125ms/step - loss: 0.4213 - accuracy: 0.7969 - val_loss: 0.5445 - val_accuracy: 0.6938\n",
      "Epoch 96/100\n",
      "20/20 [==============================] - 2s 83ms/step - loss: 0.4214 - accuracy: 0.7984 - val_loss: 0.5435 - val_accuracy: 0.6938\n",
      "Epoch 97/100\n",
      "20/20 [==============================] - 2s 97ms/step - loss: 0.4210 - accuracy: 0.8000 - val_loss: 0.5446 - val_accuracy: 0.6938\n",
      "Epoch 98/100\n",
      "20/20 [==============================] - 1s 43ms/step - loss: 0.4204 - accuracy: 0.7984 - val_loss: 0.5447 - val_accuracy: 0.6938\n",
      "Epoch 99/100\n",
      "20/20 [==============================] - 1s 34ms/step - loss: 0.4201 - accuracy: 0.8000 - val_loss: 0.5452 - val_accuracy: 0.7000\n",
      "Epoch 100/100\n",
      "20/20 [==============================] - 3s 152ms/step - loss: 0.4199 - accuracy: 0.8016 - val_loss: 0.5439 - val_accuracy: 0.7000\n"
     ]
    }
   ],
   "source": [
    "history=model.fit(X_train,y_train,batch_size=32,epochs=100,validation_split=0.2)"
   ]
  },
  {
   "cell_type": "code",
   "execution_count": 23,
   "id": "4f8f9cc5",
   "metadata": {},
   "outputs": [
    {
     "data": {
      "text/plain": [
       "[array([[-0.46024317, -0.33272067,  0.09518574, -0.15987259,  0.17013432,\n",
       "          0.47488472],\n",
       "        [-0.16610661,  0.49410176,  0.8359415 , -0.13227367, -0.08175691,\n",
       "          0.09747897],\n",
       "        [ 0.7008136 , -0.22251976, -0.55278385, -0.64568734,  1.0871071 ,\n",
       "         -0.10126143],\n",
       "        [ 0.19033283,  0.5110952 ,  0.32675698, -0.42400673, -0.4287008 ,\n",
       "          0.9616722 ],\n",
       "        [-0.32175592, -0.05039536,  0.6551702 , -0.2778074 , -0.25017098,\n",
       "          0.5371695 ],\n",
       "        [ 0.54838055,  0.6550826 , -0.15380344, -0.26351997,  0.6833864 ,\n",
       "         -0.47569886]], dtype=float32),\n",
       " array([ 0.07293697, -0.02798826, -0.08281552,  0.        ,  0.10754106,\n",
       "         0.2759445 ], dtype=float32)]"
      ]
     },
     "execution_count": 23,
     "metadata": {},
     "output_type": "execute_result"
    }
   ],
   "source": [
    "model.layers[1].get_weights()"
   ]
  },
  {
   "cell_type": "markdown",
   "id": "307468e0",
   "metadata": {},
   "source": [
    "#### Predict the Test Set Results"
   ]
  },
  {
   "cell_type": "code",
   "execution_count": 24,
   "id": "83f2f8c6",
   "metadata": {},
   "outputs": [
    {
     "name": "stdout",
     "output_type": "stream",
     "text": [
      "7/7 [==============================] - 2s 68ms/step\n"
     ]
    },
    {
     "data": {
      "text/plain": [
       "array([[0.032184  ],\n",
       "       [0.31566644],\n",
       "       [0.7795339 ],\n",
       "       [0.9577703 ],\n",
       "       [0.4559138 ],\n",
       "       [0.14844027],\n",
       "       [0.8701003 ],\n",
       "       [0.15493515],\n",
       "       [0.49880078],\n",
       "       [0.44734395],\n",
       "       [0.07729223],\n",
       "       [0.07589876],\n",
       "       [0.10288133],\n",
       "       [0.02937631],\n",
       "       [0.9306769 ],\n",
       "       [0.5835937 ],\n",
       "       [0.09196672],\n",
       "       [0.6160128 ],\n",
       "       [0.20179786],\n",
       "       [0.335112  ],\n",
       "       [0.3967673 ],\n",
       "       [0.66849625],\n",
       "       [0.42853504],\n",
       "       [0.4248037 ],\n",
       "       [0.34018388],\n",
       "       [0.79910874],\n",
       "       [0.915988  ],\n",
       "       [0.67361414],\n",
       "       [0.8834785 ],\n",
       "       [0.02780008],\n",
       "       [0.8788825 ],\n",
       "       [0.59350896],\n",
       "       [0.19614187],\n",
       "       [0.89732945],\n",
       "       [0.73833174],\n",
       "       [0.27304965],\n",
       "       [0.08130913],\n",
       "       [0.4920517 ],\n",
       "       [0.3224179 ],\n",
       "       [0.47227037],\n",
       "       [0.02564496],\n",
       "       [0.6476505 ],\n",
       "       [0.8173205 ],\n",
       "       [0.74972713],\n",
       "       [0.51674086],\n",
       "       [0.9541156 ],\n",
       "       [0.04743074],\n",
       "       [0.9270612 ],\n",
       "       [0.5997396 ],\n",
       "       [0.26767042],\n",
       "       [0.91283005],\n",
       "       [0.27041438],\n",
       "       [0.12777635],\n",
       "       [0.71542096],\n",
       "       [0.1135249 ],\n",
       "       [0.53234154],\n",
       "       [0.0886786 ],\n",
       "       [0.00755443],\n",
       "       [0.6472199 ],\n",
       "       [0.8063429 ],\n",
       "       [0.8604183 ],\n",
       "       [0.4843992 ],\n",
       "       [0.929218  ],\n",
       "       [0.06118586],\n",
       "       [0.49339953],\n",
       "       [0.6765585 ],\n",
       "       [0.5260552 ],\n",
       "       [0.04131196],\n",
       "       [0.4393422 ],\n",
       "       [0.9122396 ],\n",
       "       [0.86881214],\n",
       "       [0.9359173 ],\n",
       "       [0.4935521 ],\n",
       "       [0.7100782 ],\n",
       "       [0.19557753],\n",
       "       [0.89799637],\n",
       "       [0.81288105],\n",
       "       [0.8032764 ],\n",
       "       [0.88905716],\n",
       "       [0.01077369],\n",
       "       [0.4688172 ],\n",
       "       [0.35570624],\n",
       "       [0.645419  ],\n",
       "       [0.91132694],\n",
       "       [0.22715823],\n",
       "       [0.80687785],\n",
       "       [0.77643603],\n",
       "       [0.6360744 ],\n",
       "       [0.01537993],\n",
       "       [0.5666001 ],\n",
       "       [0.20924747],\n",
       "       [0.935993  ],\n",
       "       [0.04107554],\n",
       "       [0.6714727 ],\n",
       "       [0.09733152],\n",
       "       [0.576258  ],\n",
       "       [0.04937656],\n",
       "       [0.738506  ],\n",
       "       [0.11033415],\n",
       "       [0.5545875 ],\n",
       "       [0.09420587],\n",
       "       [0.45261207],\n",
       "       [0.0994637 ],\n",
       "       [0.74550474],\n",
       "       [0.04197726],\n",
       "       [0.9768122 ],\n",
       "       [0.367218  ],\n",
       "       [0.9371097 ],\n",
       "       [0.30916882],\n",
       "       [0.03599238],\n",
       "       [0.50035405],\n",
       "       [0.48209888],\n",
       "       [0.74150383],\n",
       "       [0.9705269 ],\n",
       "       [0.96726567],\n",
       "       [0.09549935],\n",
       "       [0.6069748 ],\n",
       "       [0.14972036],\n",
       "       [0.7752413 ],\n",
       "       [0.00971363],\n",
       "       [0.01726191],\n",
       "       [0.8543032 ],\n",
       "       [0.22463936],\n",
       "       [0.9269806 ],\n",
       "       [0.03273547],\n",
       "       [0.61098117],\n",
       "       [0.5892833 ],\n",
       "       [0.09776227],\n",
       "       [0.28630462],\n",
       "       [0.22960602],\n",
       "       [0.78627896],\n",
       "       [0.6822491 ],\n",
       "       [0.01720744],\n",
       "       [0.81235415],\n",
       "       [0.63786405],\n",
       "       [0.5759046 ],\n",
       "       [0.26271123],\n",
       "       [0.03075043],\n",
       "       [0.90435994],\n",
       "       [0.7896001 ],\n",
       "       [0.02629159],\n",
       "       [0.23820446],\n",
       "       [0.1375584 ],\n",
       "       [0.36103752],\n",
       "       [0.01669016],\n",
       "       [0.54840964],\n",
       "       [0.68583924],\n",
       "       [0.852139  ],\n",
       "       [0.3018202 ],\n",
       "       [0.37295493],\n",
       "       [0.60043603],\n",
       "       [0.92430145],\n",
       "       [0.76837075],\n",
       "       [0.93364555],\n",
       "       [0.06179965],\n",
       "       [0.08905046],\n",
       "       [0.2446836 ],\n",
       "       [0.91332024],\n",
       "       [0.5341192 ],\n",
       "       [0.36112064],\n",
       "       [0.5680831 ],\n",
       "       [0.6417227 ],\n",
       "       [0.9311542 ],\n",
       "       [0.13720123],\n",
       "       [0.7797562 ],\n",
       "       [0.05554248],\n",
       "       [0.12325481],\n",
       "       [0.8704791 ],\n",
       "       [0.92902106],\n",
       "       [0.01471514],\n",
       "       [0.8980498 ],\n",
       "       [0.6445066 ],\n",
       "       [0.24361503],\n",
       "       [0.28094172],\n",
       "       [0.03930039],\n",
       "       [0.39480007],\n",
       "       [0.75630987],\n",
       "       [0.6928899 ],\n",
       "       [0.93010396],\n",
       "       [0.45480475],\n",
       "       [0.06517299],\n",
       "       [0.04699998],\n",
       "       [0.2873276 ],\n",
       "       [0.0465934 ],\n",
       "       [0.12545718],\n",
       "       [0.8475806 ],\n",
       "       [0.8914262 ],\n",
       "       [0.08014498],\n",
       "       [0.6003794 ],\n",
       "       [0.9804589 ],\n",
       "       [0.9637733 ],\n",
       "       [0.37313938],\n",
       "       [0.02648358],\n",
       "       [0.21054642],\n",
       "       [0.4822796 ],\n",
       "       [0.6796754 ],\n",
       "       [0.9598181 ],\n",
       "       [0.13748184],\n",
       "       [0.20527266],\n",
       "       [0.03595192]], dtype=float32)"
      ]
     },
     "execution_count": 24,
     "metadata": {},
     "output_type": "execute_result"
    }
   ],
   "source": [
    "y_pred=model.predict(X_test)\n",
    "y_pred"
   ]
  },
  {
   "cell_type": "code",
   "execution_count": 25,
   "id": "3915a875",
   "metadata": {},
   "outputs": [
    {
     "data": {
      "text/plain": [
       "array([[0],\n",
       "       [0],\n",
       "       [1],\n",
       "       [1],\n",
       "       [0],\n",
       "       [0],\n",
       "       [1],\n",
       "       [0],\n",
       "       [0],\n",
       "       [0],\n",
       "       [0],\n",
       "       [0],\n",
       "       [0],\n",
       "       [0],\n",
       "       [1],\n",
       "       [1],\n",
       "       [0],\n",
       "       [1],\n",
       "       [0],\n",
       "       [0],\n",
       "       [0],\n",
       "       [1],\n",
       "       [0],\n",
       "       [0],\n",
       "       [0],\n",
       "       [1],\n",
       "       [1],\n",
       "       [1],\n",
       "       [1],\n",
       "       [0],\n",
       "       [1],\n",
       "       [1],\n",
       "       [0],\n",
       "       [1],\n",
       "       [1],\n",
       "       [0],\n",
       "       [0],\n",
       "       [0],\n",
       "       [0],\n",
       "       [0],\n",
       "       [0],\n",
       "       [1],\n",
       "       [1],\n",
       "       [1],\n",
       "       [1],\n",
       "       [1],\n",
       "       [0],\n",
       "       [1],\n",
       "       [1],\n",
       "       [0],\n",
       "       [1],\n",
       "       [0],\n",
       "       [0],\n",
       "       [1],\n",
       "       [0],\n",
       "       [1],\n",
       "       [0],\n",
       "       [0],\n",
       "       [1],\n",
       "       [1],\n",
       "       [1],\n",
       "       [0],\n",
       "       [1],\n",
       "       [0],\n",
       "       [0],\n",
       "       [1],\n",
       "       [1],\n",
       "       [0],\n",
       "       [0],\n",
       "       [1],\n",
       "       [1],\n",
       "       [1],\n",
       "       [0],\n",
       "       [1],\n",
       "       [0],\n",
       "       [1],\n",
       "       [1],\n",
       "       [1],\n",
       "       [1],\n",
       "       [0],\n",
       "       [0],\n",
       "       [0],\n",
       "       [1],\n",
       "       [1],\n",
       "       [0],\n",
       "       [1],\n",
       "       [1],\n",
       "       [1],\n",
       "       [0],\n",
       "       [1],\n",
       "       [0],\n",
       "       [1],\n",
       "       [0],\n",
       "       [1],\n",
       "       [0],\n",
       "       [1],\n",
       "       [0],\n",
       "       [1],\n",
       "       [0],\n",
       "       [1],\n",
       "       [0],\n",
       "       [0],\n",
       "       [0],\n",
       "       [1],\n",
       "       [0],\n",
       "       [1],\n",
       "       [0],\n",
       "       [1],\n",
       "       [0],\n",
       "       [0],\n",
       "       [1],\n",
       "       [0],\n",
       "       [1],\n",
       "       [1],\n",
       "       [1],\n",
       "       [0],\n",
       "       [1],\n",
       "       [0],\n",
       "       [1],\n",
       "       [0],\n",
       "       [0],\n",
       "       [1],\n",
       "       [0],\n",
       "       [1],\n",
       "       [0],\n",
       "       [1],\n",
       "       [1],\n",
       "       [0],\n",
       "       [0],\n",
       "       [0],\n",
       "       [1],\n",
       "       [1],\n",
       "       [0],\n",
       "       [1],\n",
       "       [1],\n",
       "       [1],\n",
       "       [0],\n",
       "       [0],\n",
       "       [1],\n",
       "       [1],\n",
       "       [0],\n",
       "       [0],\n",
       "       [0],\n",
       "       [0],\n",
       "       [0],\n",
       "       [1],\n",
       "       [1],\n",
       "       [1],\n",
       "       [0],\n",
       "       [0],\n",
       "       [1],\n",
       "       [1],\n",
       "       [1],\n",
       "       [1],\n",
       "       [0],\n",
       "       [0],\n",
       "       [0],\n",
       "       [1],\n",
       "       [1],\n",
       "       [0],\n",
       "       [1],\n",
       "       [1],\n",
       "       [1],\n",
       "       [0],\n",
       "       [1],\n",
       "       [0],\n",
       "       [0],\n",
       "       [1],\n",
       "       [1],\n",
       "       [0],\n",
       "       [1],\n",
       "       [1],\n",
       "       [0],\n",
       "       [0],\n",
       "       [0],\n",
       "       [0],\n",
       "       [1],\n",
       "       [1],\n",
       "       [1],\n",
       "       [0],\n",
       "       [0],\n",
       "       [0],\n",
       "       [0],\n",
       "       [0],\n",
       "       [0],\n",
       "       [1],\n",
       "       [1],\n",
       "       [0],\n",
       "       [1],\n",
       "       [1],\n",
       "       [1],\n",
       "       [0],\n",
       "       [0],\n",
       "       [0],\n",
       "       [0],\n",
       "       [1],\n",
       "       [1],\n",
       "       [0],\n",
       "       [0],\n",
       "       [0]])"
      ]
     },
     "execution_count": 25,
     "metadata": {},
     "output_type": "execute_result"
    }
   ],
   "source": [
    "y_pred=np.where(y_pred>0.5,1,0)\n",
    "y_pred"
   ]
  },
  {
   "cell_type": "code",
   "execution_count": 26,
   "id": "22e43bef",
   "metadata": {},
   "outputs": [
    {
     "data": {
      "text/plain": [
       "0.755"
      ]
     },
     "execution_count": 26,
     "metadata": {},
     "output_type": "execute_result"
    }
   ],
   "source": [
    "from sklearn.metrics import accuracy_score\n",
    "accuracy_score(y_test,y_pred)"
   ]
  },
  {
   "cell_type": "code",
   "execution_count": 27,
   "id": "a732f094",
   "metadata": {},
   "outputs": [
    {
     "name": "stdout",
     "output_type": "stream",
     "text": [
      "[[81 27]\n",
      " [22 70]]\n"
     ]
    },
    {
     "data": {
      "text/plain": [
       "0.755"
      ]
     },
     "execution_count": 27,
     "metadata": {},
     "output_type": "execute_result"
    }
   ],
   "source": [
    "from sklearn.metrics import confusion_matrix, accuracy_score\n",
    "cm = confusion_matrix(y_test, y_pred)\n",
    "print(cm)\n",
    "accuracy_score(y_test,y_pred)"
   ]
  },
  {
   "cell_type": "code",
   "execution_count": 28,
   "id": "3be04780",
   "metadata": {},
   "outputs": [
    {
     "data": {
      "image/png": "[encoded data removed]",
      "text/plain": [
       "<Figure size 500x300 with 2 Axes>"
      ]
     },
     "metadata": {},
     "output_type": "display_data"
    }
   ],
   "source": [
    "import seaborn as sns\n",
    "plt.figure(figsize=(5,3))\n",
    "ax = sns.heatmap(cm, annot=True, cmap='Blues')\n",
    "\n",
    "ax.set_title('Seaborn Confusion Matrix with labels\\n\\n');\n",
    "ax.set_xlabel('\\nPredicted Values')\n",
    "ax.set_ylabel('Actual Values ');\n",
    "\n",
    "## Ticket labels - List must be in alphabetical order\n",
    "ax.xaxis.set_ticklabels(['False','True'])\n",
    "ax.yaxis.set_ticklabels(['False','True'])\n",
    "\n",
    "## Display the visualization of the Confusion Matrix.\n",
    "plt.show()"
   ]
  },
  {
   "cell_type": "code",
   "execution_count": 29,
   "id": "367291f1",
   "metadata": {},
   "outputs": [],
   "source": [
    "# Loss and Validatation loss Plot"
   ]
  },
  {
   "cell_type": "code",
   "execution_count": 30,
   "id": "7f51fc6a",
   "metadata": {},
   "outputs": [
    {
     "data": {
      "text/plain": [
       "[<matplotlib.lines.Line2D at 0x18b4360f4f0>]"
      ]
     },
     "execution_count": 30,
     "metadata": {},
     "output_type": "execute_result"
    },
    {
     "data": {
      "image/png": "[encoded data removed]",
      "text/plain": [
       "<Figure size 640x480 with 1 Axes>"
      ]
     },
     "metadata": {},
     "output_type": "display_data"
    }
   ],
   "source": [
    "plt.plot(history.history['loss'])\n",
    "plt.plot(history.history['val_loss'])"
   ]
  },
  {
   "cell_type": "code",
   "execution_count": 31,
   "id": "98a23f7f",
   "metadata": {},
   "outputs": [
    {
     "data": {
      "text/plain": [
       "[<matplotlib.lines.Line2D at 0x18b43631fa0>]"
      ]
     },
     "execution_count": 31,
     "metadata": {},
     "output_type": "execute_result"
    },
    {
     "data": {
      "image/png": "[encoded data removed]",
      "text/plain": [
       "<Figure size 640x480 with 1 Axes>"
      ]
     },
     "metadata": {},
     "output_type": "display_data"
    }
   ],
   "source": [
    "plt.plot(history.history['accuracy'])\n",
    "plt.plot(history.history['val_accuracy'])"
   ]
  },
  {
   "cell_type": "code",
   "execution_count": null,
   "id": "51cdf458",
   "metadata": {},
   "outputs": [],
   "source": []
  },
  {
   "cell_type": "code",
   "execution_count": null,
   "id": "c6541492",
   "metadata": {},
   "outputs": [],
   "source": []
  },
  {
   "cell_type": "code",
   "execution_count": null,
   "id": "c5e44e1d",
   "metadata": {},
   "outputs": [],
   "source": []
  },
  {
   "cell_type": "code",
   "execution_count": null,
   "id": "530cdeb6",
   "metadata": {},
   "outputs": [],
   "source": []
  }
 ],
 "metadata": {
  "kernelspec": {
   "display_name": "Python 3 (ipykernel)",
   "language": "python",
   "name": "python3"
  },
  "language_info": {
   "codemirror_mode": {
    "name": "ipython",
    "version": 3
   },
   "file_extension": ".py",
   "mimetype": "text/x-python",
   "name": "python",
   "nbconvert_exporter": "python",
   "pygments_lexer": "ipython3",
   "version": "3.9.13"
  }
 },
 "nbformat": 4,
 "nbformat_minor": 5
}
