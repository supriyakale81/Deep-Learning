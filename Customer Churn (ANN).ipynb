{
 "cells": [
  {
   "cell_type": "code",
   "execution_count": 1,
   "id": "7718fff4",
   "metadata": {},
   "outputs": [],
   "source": [
    "import numpy as np\n",
    "import pandas as pd"
   ]
  },
  {
   "cell_type": "code",
   "execution_count": 2,
   "id": "e125e0e4",
   "metadata": {},
   "outputs": [],
   "source": [
    "df=pd.read_csv(\"E:\\Datasets\\Churn_Modelling.csv\")"
   ]
  },
  {
   "cell_type": "code",
   "execution_count": 3,
   "id": "cedea78b",
   "metadata": {},
   "outputs": [
    {
     "data": {
      "text/html": [
       "<div>\n",
       "<style scoped>\n",
       "    .dataframe tbody tr th:only-of-type {\n",
       "        vertical-align: middle;\n",
       "    }\n",
       "\n",
       "    .dataframe tbody tr th {\n",
       "        vertical-align: top;\n",
       "    }\n",
       "\n",
       "    .dataframe thead th {\n",
       "        text-align: right;\n",
       "    }\n",
       "</style>\n",
       "<table border=\"1\" class=\"dataframe\">\n",
       "  <thead>\n",
       "    <tr style=\"text-align: right;\">\n",
       "      <th></th>\n",
       "      <th>RowNumber</th>\n",
       "      <th>CustomerId</th>\n",
       "      <th>Surname</th>\n",
       "      <th>CreditScore</th>\n",
       "      <th>Geography</th>\n",
       "      <th>Gender</th>\n",
       "      <th>Age</th>\n",
       "      <th>Tenure</th>\n",
       "      <th>Balance</th>\n",
       "      <th>NumOfProducts</th>\n",
       "      <th>HasCrCard</th>\n",
       "      <th>IsActiveMember</th>\n",
       "      <th>EstimatedSalary</th>\n",
       "      <th>Exited</th>\n",
       "    </tr>\n",
       "  </thead>\n",
       "  <tbody>\n",
       "    <tr>\n",
       "      <th>0</th>\n",
       "      <td>1</td>\n",
       "      <td>15634602</td>\n",
       "      <td>Hargrave</td>\n",
       "      <td>619</td>\n",
       "      <td>France</td>\n",
       "      <td>Female</td>\n",
       "      <td>42</td>\n",
       "      <td>2</td>\n",
       "      <td>0.00</td>\n",
       "      <td>1</td>\n",
       "      <td>1</td>\n",
       "      <td>1</td>\n",
       "      <td>101348.88</td>\n",
       "      <td>1</td>\n",
       "    </tr>\n",
       "    <tr>\n",
       "      <th>1</th>\n",
       "      <td>2</td>\n",
       "      <td>15647311</td>\n",
       "      <td>Hill</td>\n",
       "      <td>608</td>\n",
       "      <td>Spain</td>\n",
       "      <td>Female</td>\n",
       "      <td>41</td>\n",
       "      <td>1</td>\n",
       "      <td>83807.86</td>\n",
       "      <td>1</td>\n",
       "      <td>0</td>\n",
       "      <td>1</td>\n",
       "      <td>112542.58</td>\n",
       "      <td>0</td>\n",
       "    </tr>\n",
       "    <tr>\n",
       "      <th>2</th>\n",
       "      <td>3</td>\n",
       "      <td>15619304</td>\n",
       "      <td>Onio</td>\n",
       "      <td>502</td>\n",
       "      <td>France</td>\n",
       "      <td>Female</td>\n",
       "      <td>42</td>\n",
       "      <td>8</td>\n",
       "      <td>159660.80</td>\n",
       "      <td>3</td>\n",
       "      <td>1</td>\n",
       "      <td>0</td>\n",
       "      <td>113931.57</td>\n",
       "      <td>1</td>\n",
       "    </tr>\n",
       "    <tr>\n",
       "      <th>3</th>\n",
       "      <td>4</td>\n",
       "      <td>15701354</td>\n",
       "      <td>Boni</td>\n",
       "      <td>699</td>\n",
       "      <td>France</td>\n",
       "      <td>Female</td>\n",
       "      <td>39</td>\n",
       "      <td>1</td>\n",
       "      <td>0.00</td>\n",
       "      <td>2</td>\n",
       "      <td>0</td>\n",
       "      <td>0</td>\n",
       "      <td>93826.63</td>\n",
       "      <td>0</td>\n",
       "    </tr>\n",
       "    <tr>\n",
       "      <th>4</th>\n",
       "      <td>5</td>\n",
       "      <td>15737888</td>\n",
       "      <td>Mitchell</td>\n",
       "      <td>850</td>\n",
       "      <td>Spain</td>\n",
       "      <td>Female</td>\n",
       "      <td>43</td>\n",
       "      <td>2</td>\n",
       "      <td>125510.82</td>\n",
       "      <td>1</td>\n",
       "      <td>1</td>\n",
       "      <td>1</td>\n",
       "      <td>79084.10</td>\n",
       "      <td>0</td>\n",
       "    </tr>\n",
       "    <tr>\n",
       "      <th>...</th>\n",
       "      <td>...</td>\n",
       "      <td>...</td>\n",
       "      <td>...</td>\n",
       "      <td>...</td>\n",
       "      <td>...</td>\n",
       "      <td>...</td>\n",
       "      <td>...</td>\n",
       "      <td>...</td>\n",
       "      <td>...</td>\n",
       "      <td>...</td>\n",
       "      <td>...</td>\n",
       "      <td>...</td>\n",
       "      <td>...</td>\n",
       "      <td>...</td>\n",
       "    </tr>\n",
       "    <tr>\n",
       "      <th>9995</th>\n",
       "      <td>9996</td>\n",
       "      <td>15606229</td>\n",
       "      <td>Obijiaku</td>\n",
       "      <td>771</td>\n",
       "      <td>France</td>\n",
       "      <td>Male</td>\n",
       "      <td>39</td>\n",
       "      <td>5</td>\n",
       "      <td>0.00</td>\n",
       "      <td>2</td>\n",
       "      <td>1</td>\n",
       "      <td>0</td>\n",
       "      <td>96270.64</td>\n",
       "      <td>0</td>\n",
       "    </tr>\n",
       "    <tr>\n",
       "      <th>9996</th>\n",
       "      <td>9997</td>\n",
       "      <td>15569892</td>\n",
       "      <td>Johnstone</td>\n",
       "      <td>516</td>\n",
       "      <td>France</td>\n",
       "      <td>Male</td>\n",
       "      <td>35</td>\n",
       "      <td>10</td>\n",
       "      <td>57369.61</td>\n",
       "      <td>1</td>\n",
       "      <td>1</td>\n",
       "      <td>1</td>\n",
       "      <td>101699.77</td>\n",
       "      <td>0</td>\n",
       "    </tr>\n",
       "    <tr>\n",
       "      <th>9997</th>\n",
       "      <td>9998</td>\n",
       "      <td>15584532</td>\n",
       "      <td>Liu</td>\n",
       "      <td>709</td>\n",
       "      <td>France</td>\n",
       "      <td>Female</td>\n",
       "      <td>36</td>\n",
       "      <td>7</td>\n",
       "      <td>0.00</td>\n",
       "      <td>1</td>\n",
       "      <td>0</td>\n",
       "      <td>1</td>\n",
       "      <td>42085.58</td>\n",
       "      <td>1</td>\n",
       "    </tr>\n",
       "    <tr>\n",
       "      <th>9998</th>\n",
       "      <td>9999</td>\n",
       "      <td>15682355</td>\n",
       "      <td>Sabbatini</td>\n",
       "      <td>772</td>\n",
       "      <td>Germany</td>\n",
       "      <td>Male</td>\n",
       "      <td>42</td>\n",
       "      <td>3</td>\n",
       "      <td>75075.31</td>\n",
       "      <td>2</td>\n",
       "      <td>1</td>\n",
       "      <td>0</td>\n",
       "      <td>92888.52</td>\n",
       "      <td>1</td>\n",
       "    </tr>\n",
       "    <tr>\n",
       "      <th>9999</th>\n",
       "      <td>10000</td>\n",
       "      <td>15628319</td>\n",
       "      <td>Walker</td>\n",
       "      <td>792</td>\n",
       "      <td>France</td>\n",
       "      <td>Female</td>\n",
       "      <td>28</td>\n",
       "      <td>4</td>\n",
       "      <td>130142.79</td>\n",
       "      <td>1</td>\n",
       "      <td>1</td>\n",
       "      <td>0</td>\n",
       "      <td>38190.78</td>\n",
       "      <td>0</td>\n",
       "    </tr>\n",
       "  </tbody>\n",
       "</table>\n",
       "<p>10000 rows × 14 columns</p>\n",
       "</div>"
      ],
      "text/plain": [
       "      RowNumber  CustomerId    Surname  CreditScore Geography  Gender  Age  \\\n",
       "0             1    15634602   Hargrave          619    France  Female   42   \n",
       "1             2    15647311       Hill          608     Spain  Female   41   \n",
       "2             3    15619304       Onio          502    France  Female   42   \n",
       "3             4    15701354       Boni          699    France  Female   39   \n",
       "4             5    15737888   Mitchell          850     Spain  Female   43   \n",
       "...         ...         ...        ...          ...       ...     ...  ...   \n",
       "9995       9996    15606229   Obijiaku          771    France    Male   39   \n",
       "9996       9997    15569892  Johnstone          516    France    Male   35   \n",
       "9997       9998    15584532        Liu          709    France  Female   36   \n",
       "9998       9999    15682355  Sabbatini          772   Germany    Male   42   \n",
       "9999      10000    15628319     Walker          792    France  Female   28   \n",
       "\n",
       "      Tenure    Balance  NumOfProducts  HasCrCard  IsActiveMember  \\\n",
       "0          2       0.00              1          1               1   \n",
       "1          1   83807.86              1          0               1   \n",
       "2          8  159660.80              3          1               0   \n",
       "3          1       0.00              2          0               0   \n",
       "4          2  125510.82              1          1               1   \n",
       "...      ...        ...            ...        ...             ...   \n",
       "9995       5       0.00              2          1               0   \n",
       "9996      10   57369.61              1          1               1   \n",
       "9997       7       0.00              1          0               1   \n",
       "9998       3   75075.31              2          1               0   \n",
       "9999       4  130142.79              1          1               0   \n",
       "\n",
       "      EstimatedSalary  Exited  \n",
       "0           101348.88       1  \n",
       "1           112542.58       0  \n",
       "2           113931.57       1  \n",
       "3            93826.63       0  \n",
       "4            79084.10       0  \n",
       "...               ...     ...  \n",
       "9995         96270.64       0  \n",
       "9996        101699.77       0  \n",
       "9997         42085.58       1  \n",
       "9998         92888.52       1  \n",
       "9999         38190.78       0  \n",
       "\n",
       "[10000 rows x 14 columns]"
      ]
     },
     "execution_count": 3,
     "metadata": {},
     "output_type": "execute_result"
    }
   ],
   "source": [
    "df"
   ]
  },
  {
   "cell_type": "code",
   "execution_count": 4,
   "id": "191699bd",
   "metadata": {},
   "outputs": [
    {
     "data": {
      "text/plain": [
       "(10000, 14)"
      ]
     },
     "execution_count": 4,
     "metadata": {},
     "output_type": "execute_result"
    }
   ],
   "source": [
    "df.shape"
   ]
  },
  {
   "cell_type": "code",
   "execution_count": 5,
   "id": "2f7bb820",
   "metadata": {},
   "outputs": [
    {
     "name": "stdout",
     "output_type": "stream",
     "text": [
      "<class 'pandas.core.frame.DataFrame'>\n",
      "RangeIndex: 10000 entries, 0 to 9999\n",
      "Data columns (total 14 columns):\n",
      " #   Column           Non-Null Count  Dtype  \n",
      "---  ------           --------------  -----  \n",
      " 0   RowNumber        10000 non-null  int64  \n",
      " 1   CustomerId       10000 non-null  int64  \n",
      " 2   Surname          10000 non-null  object \n",
      " 3   CreditScore      10000 non-null  int64  \n",
      " 4   Geography        10000 non-null  object \n",
      " 5   Gender           10000 non-null  object \n",
      " 6   Age              10000 non-null  int64  \n",
      " 7   Tenure           10000 non-null  int64  \n",
      " 8   Balance          10000 non-null  float64\n",
      " 9   NumOfProducts    10000 non-null  int64  \n",
      " 10  HasCrCard        10000 non-null  int64  \n",
      " 11  IsActiveMember   10000 non-null  int64  \n",
      " 12  EstimatedSalary  10000 non-null  float64\n",
      " 13  Exited           10000 non-null  int64  \n",
      "dtypes: float64(2), int64(9), object(3)\n",
      "memory usage: 1.1+ MB\n"
     ]
    }
   ],
   "source": [
    "df.info()"
   ]
  },
  {
   "cell_type": "code",
   "execution_count": 6,
   "id": "28c2d27a",
   "metadata": {},
   "outputs": [
    {
     "data": {
      "text/plain": [
       "RowNumber          0\n",
       "CustomerId         0\n",
       "Surname            0\n",
       "CreditScore        0\n",
       "Geography          0\n",
       "Gender             0\n",
       "Age                0\n",
       "Tenure             0\n",
       "Balance            0\n",
       "NumOfProducts      0\n",
       "HasCrCard          0\n",
       "IsActiveMember     0\n",
       "EstimatedSalary    0\n",
       "Exited             0\n",
       "dtype: int64"
      ]
     },
     "execution_count": 6,
     "metadata": {},
     "output_type": "execute_result"
    }
   ],
   "source": [
    "df.isna().sum()"
   ]
  },
  {
   "cell_type": "code",
   "execution_count": 7,
   "id": "153c4ebb",
   "metadata": {},
   "outputs": [
    {
     "data": {
      "text/plain": [
       "0"
      ]
     },
     "execution_count": 7,
     "metadata": {},
     "output_type": "execute_result"
    }
   ],
   "source": [
    "df.duplicated().sum()"
   ]
  },
  {
   "cell_type": "code",
   "execution_count": 8,
   "id": "4e0a1839",
   "metadata": {},
   "outputs": [
    {
     "data": {
      "text/plain": [
       "0    7963\n",
       "1    2037\n",
       "Name: Exited, dtype: int64"
      ]
     },
     "execution_count": 8,
     "metadata": {},
     "output_type": "execute_result"
    }
   ],
   "source": [
    "df.Exited.value_counts()"
   ]
  },
  {
   "cell_type": "code",
   "execution_count": 9,
   "id": "e19dc209",
   "metadata": {},
   "outputs": [
    {
     "data": {
      "text/plain": [
       "France     5014\n",
       "Germany    2509\n",
       "Spain      2477\n",
       "Name: Geography, dtype: int64"
      ]
     },
     "execution_count": 9,
     "metadata": {},
     "output_type": "execute_result"
    }
   ],
   "source": [
    "df.Geography.value_counts()"
   ]
  },
  {
   "cell_type": "code",
   "execution_count": 10,
   "id": "19f3ace2",
   "metadata": {},
   "outputs": [],
   "source": [
    "df.drop(columns=['RowNumber','CustomerId','Surname'],inplace=True)"
   ]
  },
  {
   "cell_type": "code",
   "execution_count": 11,
   "id": "55d1ff78",
   "metadata": {},
   "outputs": [
    {
     "data": {
      "text/html": [
       "<div>\n",
       "<style scoped>\n",
       "    .dataframe tbody tr th:only-of-type {\n",
       "        vertical-align: middle;\n",
       "    }\n",
       "\n",
       "    .dataframe tbody tr th {\n",
       "        vertical-align: top;\n",
       "    }\n",
       "\n",
       "    .dataframe thead th {\n",
       "        text-align: right;\n",
       "    }\n",
       "</style>\n",
       "<table border=\"1\" class=\"dataframe\">\n",
       "  <thead>\n",
       "    <tr style=\"text-align: right;\">\n",
       "      <th></th>\n",
       "      <th>CreditScore</th>\n",
       "      <th>Geography</th>\n",
       "      <th>Gender</th>\n",
       "      <th>Age</th>\n",
       "      <th>Tenure</th>\n",
       "      <th>Balance</th>\n",
       "      <th>NumOfProducts</th>\n",
       "      <th>HasCrCard</th>\n",
       "      <th>IsActiveMember</th>\n",
       "      <th>EstimatedSalary</th>\n",
       "      <th>Exited</th>\n",
       "    </tr>\n",
       "  </thead>\n",
       "  <tbody>\n",
       "    <tr>\n",
       "      <th>0</th>\n",
       "      <td>619</td>\n",
       "      <td>France</td>\n",
       "      <td>Female</td>\n",
       "      <td>42</td>\n",
       "      <td>2</td>\n",
       "      <td>0.00</td>\n",
       "      <td>1</td>\n",
       "      <td>1</td>\n",
       "      <td>1</td>\n",
       "      <td>101348.88</td>\n",
       "      <td>1</td>\n",
       "    </tr>\n",
       "    <tr>\n",
       "      <th>1</th>\n",
       "      <td>608</td>\n",
       "      <td>Spain</td>\n",
       "      <td>Female</td>\n",
       "      <td>41</td>\n",
       "      <td>1</td>\n",
       "      <td>83807.86</td>\n",
       "      <td>1</td>\n",
       "      <td>0</td>\n",
       "      <td>1</td>\n",
       "      <td>112542.58</td>\n",
       "      <td>0</td>\n",
       "    </tr>\n",
       "    <tr>\n",
       "      <th>2</th>\n",
       "      <td>502</td>\n",
       "      <td>France</td>\n",
       "      <td>Female</td>\n",
       "      <td>42</td>\n",
       "      <td>8</td>\n",
       "      <td>159660.80</td>\n",
       "      <td>3</td>\n",
       "      <td>1</td>\n",
       "      <td>0</td>\n",
       "      <td>113931.57</td>\n",
       "      <td>1</td>\n",
       "    </tr>\n",
       "    <tr>\n",
       "      <th>3</th>\n",
       "      <td>699</td>\n",
       "      <td>France</td>\n",
       "      <td>Female</td>\n",
       "      <td>39</td>\n",
       "      <td>1</td>\n",
       "      <td>0.00</td>\n",
       "      <td>2</td>\n",
       "      <td>0</td>\n",
       "      <td>0</td>\n",
       "      <td>93826.63</td>\n",
       "      <td>0</td>\n",
       "    </tr>\n",
       "    <tr>\n",
       "      <th>4</th>\n",
       "      <td>850</td>\n",
       "      <td>Spain</td>\n",
       "      <td>Female</td>\n",
       "      <td>43</td>\n",
       "      <td>2</td>\n",
       "      <td>125510.82</td>\n",
       "      <td>1</td>\n",
       "      <td>1</td>\n",
       "      <td>1</td>\n",
       "      <td>79084.10</td>\n",
       "      <td>0</td>\n",
       "    </tr>\n",
       "  </tbody>\n",
       "</table>\n",
       "</div>"
      ],
      "text/plain": [
       "   CreditScore Geography  Gender  Age  Tenure    Balance  NumOfProducts  \\\n",
       "0          619    France  Female   42       2       0.00              1   \n",
       "1          608     Spain  Female   41       1   83807.86              1   \n",
       "2          502    France  Female   42       8  159660.80              3   \n",
       "3          699    France  Female   39       1       0.00              2   \n",
       "4          850     Spain  Female   43       2  125510.82              1   \n",
       "\n",
       "   HasCrCard  IsActiveMember  EstimatedSalary  Exited  \n",
       "0          1               1        101348.88       1  \n",
       "1          0               1        112542.58       0  \n",
       "2          1               0        113931.57       1  \n",
       "3          0               0         93826.63       0  \n",
       "4          1               1         79084.10       0  "
      ]
     },
     "execution_count": 11,
     "metadata": {},
     "output_type": "execute_result"
    }
   ],
   "source": [
    "df.head()"
   ]
  },
  {
   "cell_type": "code",
   "execution_count": 12,
   "id": "4c157d83",
   "metadata": {},
   "outputs": [],
   "source": [
    "df=pd.get_dummies(df,columns=['Geography','Gender'],drop_first=True)"
   ]
  },
  {
   "cell_type": "code",
   "execution_count": 13,
   "id": "fe2a1f32",
   "metadata": {},
   "outputs": [
    {
     "data": {
      "text/html": [
       "<div>\n",
       "<style scoped>\n",
       "    .dataframe tbody tr th:only-of-type {\n",
       "        vertical-align: middle;\n",
       "    }\n",
       "\n",
       "    .dataframe tbody tr th {\n",
       "        vertical-align: top;\n",
       "    }\n",
       "\n",
       "    .dataframe thead th {\n",
       "        text-align: right;\n",
       "    }\n",
       "</style>\n",
       "<table border=\"1\" class=\"dataframe\">\n",
       "  <thead>\n",
       "    <tr style=\"text-align: right;\">\n",
       "      <th></th>\n",
       "      <th>CreditScore</th>\n",
       "      <th>Age</th>\n",
       "      <th>Tenure</th>\n",
       "      <th>Balance</th>\n",
       "      <th>NumOfProducts</th>\n",
       "      <th>HasCrCard</th>\n",
       "      <th>IsActiveMember</th>\n",
       "      <th>EstimatedSalary</th>\n",
       "      <th>Exited</th>\n",
       "      <th>Geography_Germany</th>\n",
       "      <th>Geography_Spain</th>\n",
       "      <th>Gender_Male</th>\n",
       "    </tr>\n",
       "  </thead>\n",
       "  <tbody>\n",
       "    <tr>\n",
       "      <th>0</th>\n",
       "      <td>619</td>\n",
       "      <td>42</td>\n",
       "      <td>2</td>\n",
       "      <td>0.00</td>\n",
       "      <td>1</td>\n",
       "      <td>1</td>\n",
       "      <td>1</td>\n",
       "      <td>101348.88</td>\n",
       "      <td>1</td>\n",
       "      <td>0</td>\n",
       "      <td>0</td>\n",
       "      <td>0</td>\n",
       "    </tr>\n",
       "    <tr>\n",
       "      <th>1</th>\n",
       "      <td>608</td>\n",
       "      <td>41</td>\n",
       "      <td>1</td>\n",
       "      <td>83807.86</td>\n",
       "      <td>1</td>\n",
       "      <td>0</td>\n",
       "      <td>1</td>\n",
       "      <td>112542.58</td>\n",
       "      <td>0</td>\n",
       "      <td>0</td>\n",
       "      <td>1</td>\n",
       "      <td>0</td>\n",
       "    </tr>\n",
       "    <tr>\n",
       "      <th>2</th>\n",
       "      <td>502</td>\n",
       "      <td>42</td>\n",
       "      <td>8</td>\n",
       "      <td>159660.80</td>\n",
       "      <td>3</td>\n",
       "      <td>1</td>\n",
       "      <td>0</td>\n",
       "      <td>113931.57</td>\n",
       "      <td>1</td>\n",
       "      <td>0</td>\n",
       "      <td>0</td>\n",
       "      <td>0</td>\n",
       "    </tr>\n",
       "    <tr>\n",
       "      <th>3</th>\n",
       "      <td>699</td>\n",
       "      <td>39</td>\n",
       "      <td>1</td>\n",
       "      <td>0.00</td>\n",
       "      <td>2</td>\n",
       "      <td>0</td>\n",
       "      <td>0</td>\n",
       "      <td>93826.63</td>\n",
       "      <td>0</td>\n",
       "      <td>0</td>\n",
       "      <td>0</td>\n",
       "      <td>0</td>\n",
       "    </tr>\n",
       "    <tr>\n",
       "      <th>4</th>\n",
       "      <td>850</td>\n",
       "      <td>43</td>\n",
       "      <td>2</td>\n",
       "      <td>125510.82</td>\n",
       "      <td>1</td>\n",
       "      <td>1</td>\n",
       "      <td>1</td>\n",
       "      <td>79084.10</td>\n",
       "      <td>0</td>\n",
       "      <td>0</td>\n",
       "      <td>1</td>\n",
       "      <td>0</td>\n",
       "    </tr>\n",
       "  </tbody>\n",
       "</table>\n",
       "</div>"
      ],
      "text/plain": [
       "   CreditScore  Age  Tenure    Balance  NumOfProducts  HasCrCard  \\\n",
       "0          619   42       2       0.00              1          1   \n",
       "1          608   41       1   83807.86              1          0   \n",
       "2          502   42       8  159660.80              3          1   \n",
       "3          699   39       1       0.00              2          0   \n",
       "4          850   43       2  125510.82              1          1   \n",
       "\n",
       "   IsActiveMember  EstimatedSalary  Exited  Geography_Germany  \\\n",
       "0               1        101348.88       1                  0   \n",
       "1               1        112542.58       0                  0   \n",
       "2               0        113931.57       1                  0   \n",
       "3               0         93826.63       0                  0   \n",
       "4               1         79084.10       0                  0   \n",
       "\n",
       "   Geography_Spain  Gender_Male  \n",
       "0                0            0  \n",
       "1                1            0  \n",
       "2                0            0  \n",
       "3                0            0  \n",
       "4                1            0  "
      ]
     },
     "execution_count": 13,
     "metadata": {},
     "output_type": "execute_result"
    }
   ],
   "source": [
    "df.head()"
   ]
  },
  {
   "cell_type": "code",
   "execution_count": 14,
   "id": "3943db00",
   "metadata": {},
   "outputs": [],
   "source": [
    "x=df.drop(columns=['Exited']).values\n",
    "y=df['Exited'].values"
   ]
  },
  {
   "cell_type": "code",
   "execution_count": 15,
   "id": "8a757a4a",
   "metadata": {},
   "outputs": [],
   "source": [
    "from sklearn.model_selection import train_test_split\n",
    "x_train,x_test,y_train,y_test=train_test_split(x,y,test_size=0.2,random_state=50)"
   ]
  },
  {
   "cell_type": "code",
   "execution_count": 16,
   "id": "f0457490",
   "metadata": {},
   "outputs": [],
   "source": [
    "from sklearn.preprocessing import StandardScaler\n",
    "ss=StandardScaler()\n",
    "X_train=ss.fit_transform(x_train)\n",
    "X_test=ss.transform(x_test)"
   ]
  },
  {
   "cell_type": "code",
   "execution_count": 17,
   "id": "d9bdbe17",
   "metadata": {},
   "outputs": [],
   "source": [
    "import tensorflow\n",
    "from tensorflow import keras\n",
    "from tensorflow.keras import Sequential\n",
    "from tensorflow.keras.layers import Dense"
   ]
  },
  {
   "cell_type": "markdown",
   "id": "0fe5d109",
   "metadata": {},
   "source": [
    "### Activation function Sigmoid"
   ]
  },
  {
   "cell_type": "code",
   "execution_count": 18,
   "id": "03e8ebcc",
   "metadata": {},
   "outputs": [],
   "source": [
    "model=Sequential()\n",
    "model.add(Dense(units=11,activation='sigmoid',input_dim=11))  #Input layers\n",
    "# model.add(Dense(11,activation='sigmoid')  # Hidden layers\n",
    "model.add(Dense(units=1,activation='sigmoid'))  # Output layer"
   ]
  },
  {
   "cell_type": "code",
   "execution_count": 19,
   "id": "6c1e6742",
   "metadata": {},
   "outputs": [
    {
     "name": "stdout",
     "output_type": "stream",
     "text": [
      "Model: \"sequential\"\n",
      "_________________________________________________________________\n",
      " Layer (type)                Output Shape              Param #   \n",
      "=================================================================\n",
      " dense (Dense)               (None, 11)                132       \n",
      "                                                                 \n",
      " dense_1 (Dense)             (None, 1)                 12        \n",
      "                                                                 \n",
      "=================================================================\n",
      "Total params: 144\n",
      "Trainable params: 144\n",
      "Non-trainable params: 0\n",
      "_________________________________________________________________\n"
     ]
    }
   ],
   "source": [
    "model.summary()"
   ]
  },
  {
   "cell_type": "code",
   "execution_count": 20,
   "id": "c9d1ff51",
   "metadata": {},
   "outputs": [],
   "source": [
    "X_train = tensorflow.expand_dims(X_train, axis=-1)"
   ]
  },
  {
   "cell_type": "code",
   "execution_count": 21,
   "id": "cace578e",
   "metadata": {},
   "outputs": [],
   "source": [
    "model.compile(optimizer='Adam',loss='binary_crossentropy',metrics=['accuracy'])"
   ]
  },
  {
   "cell_type": "code",
   "execution_count": 22,
   "id": "dc78e5be",
   "metadata": {},
   "outputs": [
    {
     "name": "stdout",
     "output_type": "stream",
     "text": [
      "Epoch 1/10\n",
      "250/250 [==============================] - 3s 5ms/step - loss: 0.7722 - accuracy: 0.4646\n",
      "Epoch 2/10\n",
      "250/250 [==============================] - 1s 4ms/step - loss: 0.4989 - accuracy: 0.7955\n",
      "Epoch 3/10\n",
      "250/250 [==============================] - 1s 5ms/step - loss: 0.4504 - accuracy: 0.7981\n",
      "Epoch 4/10\n",
      "250/250 [==============================] - 1s 4ms/step - loss: 0.4358 - accuracy: 0.8041\n",
      "Epoch 5/10\n",
      "250/250 [==============================] - 1s 4ms/step - loss: 0.4287 - accuracy: 0.8083\n",
      "Epoch 6/10\n",
      "250/250 [==============================] - 1s 4ms/step - loss: 0.4248 - accuracy: 0.8100\n",
      "Epoch 7/10\n",
      "250/250 [==============================] - 1s 5ms/step - loss: 0.4223 - accuracy: 0.8124\n",
      "Epoch 8/10\n",
      "250/250 [==============================] - 1s 5ms/step - loss: 0.4199 - accuracy: 0.8108\n",
      "Epoch 9/10\n",
      "250/250 [==============================] - 1s 4ms/step - loss: 0.4177 - accuracy: 0.8148\n",
      "Epoch 10/10\n",
      "250/250 [==============================] - 1s 5ms/step - loss: 0.4152 - accuracy: 0.8138\n"
     ]
    },
    {
     "data": {
      "text/plain": [
       "<keras.callbacks.History at 0x18352a52d90>"
      ]
     },
     "execution_count": 22,
     "metadata": {},
     "output_type": "execute_result"
    }
   ],
   "source": [
    "model.fit(X_train,y_train,epochs=10)"
   ]
  },
  {
   "cell_type": "code",
   "execution_count": 23,
   "id": "7a99e19e",
   "metadata": {},
   "outputs": [
    {
     "data": {
      "text/plain": [
       "[array([[-0.41539344],\n",
       "        [ 0.44398344],\n",
       "        [ 0.35974374],\n",
       "        [ 0.4379931 ],\n",
       "        [-0.42239985],\n",
       "        [-1.0143925 ],\n",
       "        [ 0.21776026],\n",
       "        [-0.55154127],\n",
       "        [-1.0484303 ],\n",
       "        [ 0.61298174],\n",
       "        [-0.5657608 ]], dtype=float32),\n",
       " array([-0.32059953], dtype=float32)]"
      ]
     },
     "execution_count": 23,
     "metadata": {},
     "output_type": "execute_result"
    }
   ],
   "source": [
    "model.layers[1].get_weights()"
   ]
  },
  {
   "cell_type": "code",
   "execution_count": 24,
   "id": "c3a1b01b",
   "metadata": {},
   "outputs": [
    {
     "name": "stdout",
     "output_type": "stream",
     "text": [
      "63/63 [==============================] - 0s 3ms/step\n"
     ]
    }
   ],
   "source": [
    "y_log=model.predict(X_test)"
   ]
  },
  {
   "cell_type": "code",
   "execution_count": 25,
   "id": "ded26697",
   "metadata": {},
   "outputs": [],
   "source": [
    "y_pred=np.where(y_log>0.5,1,0)"
   ]
  },
  {
   "cell_type": "code",
   "execution_count": 26,
   "id": "c8648979",
   "metadata": {},
   "outputs": [
    {
     "data": {
      "text/plain": [
       "0.8185"
      ]
     },
     "execution_count": 26,
     "metadata": {},
     "output_type": "execute_result"
    }
   ],
   "source": [
    "from sklearn.metrics import accuracy_score\n",
    "accuracy_score(y_test,y_pred)"
   ]
  },
  {
   "cell_type": "markdown",
   "id": "67c7983c",
   "metadata": {},
   "source": [
    "### Activation function RELU"
   ]
  },
  {
   "cell_type": "code",
   "execution_count": 27,
   "id": "ce51dd16",
   "metadata": {},
   "outputs": [],
   "source": [
    "model=Sequential()\n",
    "model.add(Dense(units=11,activation='relu',input_dim=11))  #Input layers\n",
    "model.add(Dense(11,activation='relu'))  #Input layers\n",
    "model.add(Dense(units=1,activation='sigmoid'))  # Output layer"
   ]
  },
  {
   "cell_type": "code",
   "execution_count": 28,
   "id": "9758ea7a",
   "metadata": {},
   "outputs": [
    {
     "name": "stdout",
     "output_type": "stream",
     "text": [
      "Model: \"sequential_1\"\n",
      "_________________________________________________________________\n",
      " Layer (type)                Output Shape              Param #   \n",
      "=================================================================\n",
      " dense_2 (Dense)             (None, 11)                132       \n",
      "                                                                 \n",
      " dense_3 (Dense)             (None, 11)                132       \n",
      "                                                                 \n",
      " dense_4 (Dense)             (None, 1)                 12        \n",
      "                                                                 \n",
      "=================================================================\n",
      "Total params: 276\n",
      "Trainable params: 276\n",
      "Non-trainable params: 0\n",
      "_________________________________________________________________\n"
     ]
    }
   ],
   "source": [
    "model.summary()"
   ]
  },
  {
   "cell_type": "code",
   "execution_count": 29,
   "id": "b9da0685",
   "metadata": {},
   "outputs": [
    {
     "name": "stdout",
     "output_type": "stream",
     "text": [
      "Epoch 1/100\n",
      "200/200 [==============================] - 3s 8ms/step - loss: 0.5493 - accuracy: 0.7517 - val_loss: 0.4809 - val_accuracy: 0.7900\n",
      "Epoch 2/100\n",
      "200/200 [==============================] - 1s 5ms/step - loss: 0.4541 - accuracy: 0.7983 - val_loss: 0.4490 - val_accuracy: 0.7975\n",
      "Epoch 3/100\n",
      "200/200 [==============================] - 1s 6ms/step - loss: 0.4318 - accuracy: 0.8036 - val_loss: 0.4363 - val_accuracy: 0.8094\n",
      "Epoch 4/100\n",
      "200/200 [==============================] - 1s 5ms/step - loss: 0.4193 - accuracy: 0.8111 - val_loss: 0.4260 - val_accuracy: 0.8138\n",
      "Epoch 5/100\n",
      "200/200 [==============================] - 1s 6ms/step - loss: 0.4071 - accuracy: 0.8261 - val_loss: 0.4149 - val_accuracy: 0.8250\n",
      "Epoch 6/100\n",
      "200/200 [==============================] - 1s 6ms/step - loss: 0.3945 - accuracy: 0.8309 - val_loss: 0.4040 - val_accuracy: 0.8275\n",
      "Epoch 7/100\n",
      "200/200 [==============================] - 1s 6ms/step - loss: 0.3820 - accuracy: 0.8395 - val_loss: 0.3949 - val_accuracy: 0.8300\n",
      "Epoch 8/100\n",
      "200/200 [==============================] - 1s 5ms/step - loss: 0.3721 - accuracy: 0.8450 - val_loss: 0.3879 - val_accuracy: 0.8369\n",
      "Epoch 9/100\n",
      "200/200 [==============================] - 1s 5ms/step - loss: 0.3623 - accuracy: 0.8500 - val_loss: 0.3807 - val_accuracy: 0.8369\n",
      "Epoch 10/100\n",
      "200/200 [==============================] - 2s 8ms/step - loss: 0.3554 - accuracy: 0.8522 - val_loss: 0.3751 - val_accuracy: 0.8444\n",
      "Epoch 11/100\n",
      "200/200 [==============================] - 1s 5ms/step - loss: 0.3479 - accuracy: 0.8573 - val_loss: 0.3710 - val_accuracy: 0.8469\n",
      "Epoch 12/100\n",
      "200/200 [==============================] - 1s 6ms/step - loss: 0.3419 - accuracy: 0.8587 - val_loss: 0.3676 - val_accuracy: 0.8512\n",
      "Epoch 13/100\n",
      "200/200 [==============================] - 1s 7ms/step - loss: 0.3379 - accuracy: 0.8608 - val_loss: 0.3652 - val_accuracy: 0.8500\n",
      "Epoch 14/100\n",
      "200/200 [==============================] - 1s 7ms/step - loss: 0.3329 - accuracy: 0.8661 - val_loss: 0.3693 - val_accuracy: 0.8512\n",
      "Epoch 15/100\n",
      "200/200 [==============================] - 1s 6ms/step - loss: 0.3310 - accuracy: 0.8645 - val_loss: 0.3616 - val_accuracy: 0.8500\n",
      "Epoch 16/100\n",
      "200/200 [==============================] - 1s 6ms/step - loss: 0.3281 - accuracy: 0.8677 - val_loss: 0.3607 - val_accuracy: 0.8531\n",
      "Epoch 17/100\n",
      "200/200 [==============================] - 1s 6ms/step - loss: 0.3268 - accuracy: 0.8691 - val_loss: 0.3617 - val_accuracy: 0.8544\n",
      "Epoch 18/100\n",
      "200/200 [==============================] - 1s 6ms/step - loss: 0.3255 - accuracy: 0.8681 - val_loss: 0.3594 - val_accuracy: 0.8494\n",
      "Epoch 19/100\n",
      "200/200 [==============================] - 1s 5ms/step - loss: 0.3246 - accuracy: 0.8691 - val_loss: 0.3586 - val_accuracy: 0.8537\n",
      "Epoch 20/100\n",
      "200/200 [==============================] - 1s 7ms/step - loss: 0.3238 - accuracy: 0.8677 - val_loss: 0.3594 - val_accuracy: 0.8506\n",
      "Epoch 21/100\n",
      "200/200 [==============================] - 1s 6ms/step - loss: 0.3230 - accuracy: 0.8697 - val_loss: 0.3599 - val_accuracy: 0.8487\n",
      "Epoch 22/100\n",
      "200/200 [==============================] - 1s 6ms/step - loss: 0.3218 - accuracy: 0.8692 - val_loss: 0.3594 - val_accuracy: 0.8494\n",
      "Epoch 23/100\n",
      "200/200 [==============================] - 1s 7ms/step - loss: 0.3218 - accuracy: 0.8678 - val_loss: 0.3591 - val_accuracy: 0.8525\n",
      "Epoch 24/100\n",
      "200/200 [==============================] - 1s 6ms/step - loss: 0.3209 - accuracy: 0.8697 - val_loss: 0.3596 - val_accuracy: 0.8575\n",
      "Epoch 25/100\n",
      "200/200 [==============================] - 1s 6ms/step - loss: 0.3207 - accuracy: 0.8697 - val_loss: 0.3581 - val_accuracy: 0.8531\n",
      "Epoch 26/100\n",
      "200/200 [==============================] - 1s 7ms/step - loss: 0.3204 - accuracy: 0.8694 - val_loss: 0.3581 - val_accuracy: 0.8531\n",
      "Epoch 27/100\n",
      "200/200 [==============================] - 2s 9ms/step - loss: 0.3195 - accuracy: 0.8697 - val_loss: 0.3586 - val_accuracy: 0.8525\n",
      "Epoch 28/100\n",
      "200/200 [==============================] - 1s 6ms/step - loss: 0.3191 - accuracy: 0.8694 - val_loss: 0.3580 - val_accuracy: 0.8531\n",
      "Epoch 29/100\n",
      "200/200 [==============================] - 2s 8ms/step - loss: 0.3194 - accuracy: 0.8691 - val_loss: 0.3599 - val_accuracy: 0.8519\n",
      "Epoch 30/100\n",
      "200/200 [==============================] - 2s 8ms/step - loss: 0.3187 - accuracy: 0.8691 - val_loss: 0.3596 - val_accuracy: 0.8519\n",
      "Epoch 31/100\n",
      "200/200 [==============================] - 2s 9ms/step - loss: 0.3191 - accuracy: 0.8691 - val_loss: 0.3582 - val_accuracy: 0.8512\n",
      "Epoch 32/100\n",
      "200/200 [==============================] - 2s 10ms/step - loss: 0.3185 - accuracy: 0.8711 - val_loss: 0.3595 - val_accuracy: 0.8481\n",
      "Epoch 33/100\n",
      "200/200 [==============================] - 2s 8ms/step - loss: 0.3181 - accuracy: 0.8694 - val_loss: 0.3583 - val_accuracy: 0.8531\n",
      "Epoch 34/100\n",
      "200/200 [==============================] - 1s 6ms/step - loss: 0.3186 - accuracy: 0.8698 - val_loss: 0.3581 - val_accuracy: 0.8506\n",
      "Epoch 35/100\n",
      "200/200 [==============================] - 1s 6ms/step - loss: 0.3180 - accuracy: 0.8692 - val_loss: 0.3579 - val_accuracy: 0.8537\n",
      "Epoch 36/100\n",
      "200/200 [==============================] - 1s 6ms/step - loss: 0.3173 - accuracy: 0.8695 - val_loss: 0.3580 - val_accuracy: 0.8525\n",
      "Epoch 37/100\n",
      "200/200 [==============================] - 1s 6ms/step - loss: 0.3165 - accuracy: 0.8681 - val_loss: 0.3597 - val_accuracy: 0.8512\n",
      "Epoch 38/100\n",
      "200/200 [==============================] - 1s 7ms/step - loss: 0.3161 - accuracy: 0.8695 - val_loss: 0.3622 - val_accuracy: 0.8506\n",
      "Epoch 39/100\n",
      "200/200 [==============================] - 1s 6ms/step - loss: 0.3166 - accuracy: 0.8698 - val_loss: 0.3590 - val_accuracy: 0.8531\n",
      "Epoch 40/100\n",
      "200/200 [==============================] - 1s 6ms/step - loss: 0.3163 - accuracy: 0.8698 - val_loss: 0.3598 - val_accuracy: 0.8519\n",
      "Epoch 41/100\n",
      "200/200 [==============================] - 1s 7ms/step - loss: 0.3167 - accuracy: 0.8684 - val_loss: 0.3591 - val_accuracy: 0.8544\n",
      "Epoch 42/100\n",
      "200/200 [==============================] - 1s 6ms/step - loss: 0.3157 - accuracy: 0.8709 - val_loss: 0.3595 - val_accuracy: 0.8531\n",
      "Epoch 43/100\n",
      "200/200 [==============================] - 1s 6ms/step - loss: 0.3157 - accuracy: 0.8717 - val_loss: 0.3588 - val_accuracy: 0.8525\n",
      "Epoch 44/100\n",
      "200/200 [==============================] - 1s 6ms/step - loss: 0.3157 - accuracy: 0.8717 - val_loss: 0.3587 - val_accuracy: 0.8531\n",
      "Epoch 45/100\n",
      "200/200 [==============================] - 1s 6ms/step - loss: 0.3147 - accuracy: 0.8712 - val_loss: 0.3602 - val_accuracy: 0.8512\n",
      "Epoch 46/100\n",
      "200/200 [==============================] - 2s 8ms/step - loss: 0.3154 - accuracy: 0.8706 - val_loss: 0.3599 - val_accuracy: 0.8512\n",
      "Epoch 47/100\n",
      "200/200 [==============================] - 1s 6ms/step - loss: 0.3152 - accuracy: 0.8708 - val_loss: 0.3600 - val_accuracy: 0.8506\n",
      "Epoch 48/100\n",
      "200/200 [==============================] - 1s 7ms/step - loss: 0.3146 - accuracy: 0.8694 - val_loss: 0.3613 - val_accuracy: 0.8512\n",
      "Epoch 49/100\n",
      "200/200 [==============================] - 1s 6ms/step - loss: 0.3149 - accuracy: 0.8698 - val_loss: 0.3604 - val_accuracy: 0.8537\n",
      "Epoch 50/100\n",
      "200/200 [==============================] - 2s 9ms/step - loss: 0.3151 - accuracy: 0.8686 - val_loss: 0.3595 - val_accuracy: 0.8506\n",
      "Epoch 51/100\n",
      "200/200 [==============================] - 1s 7ms/step - loss: 0.3144 - accuracy: 0.8705 - val_loss: 0.3606 - val_accuracy: 0.8531\n",
      "Epoch 52/100\n",
      "200/200 [==============================] - 2s 7ms/step - loss: 0.3141 - accuracy: 0.8687 - val_loss: 0.3610 - val_accuracy: 0.8531\n",
      "Epoch 53/100\n",
      "200/200 [==============================] - 2s 8ms/step - loss: 0.3139 - accuracy: 0.8700 - val_loss: 0.3591 - val_accuracy: 0.8544\n",
      "Epoch 54/100\n",
      "200/200 [==============================] - 1s 7ms/step - loss: 0.3131 - accuracy: 0.8702 - val_loss: 0.3603 - val_accuracy: 0.8512\n",
      "Epoch 55/100\n",
      "200/200 [==============================] - 1s 6ms/step - loss: 0.3136 - accuracy: 0.8692 - val_loss: 0.3612 - val_accuracy: 0.8544\n",
      "Epoch 56/100\n",
      "200/200 [==============================] - 1s 6ms/step - loss: 0.3137 - accuracy: 0.8716 - val_loss: 0.3601 - val_accuracy: 0.8512\n",
      "Epoch 57/100\n",
      "200/200 [==============================] - 2s 9ms/step - loss: 0.3129 - accuracy: 0.8686 - val_loss: 0.3608 - val_accuracy: 0.8544\n"
     ]
    },
    {
     "name": "stdout",
     "output_type": "stream",
     "text": [
      "Epoch 58/100\n",
      "200/200 [==============================] - 1s 6ms/step - loss: 0.3127 - accuracy: 0.8706 - val_loss: 0.3622 - val_accuracy: 0.8531\n",
      "Epoch 59/100\n",
      "200/200 [==============================] - 1s 6ms/step - loss: 0.3123 - accuracy: 0.8703 - val_loss: 0.3621 - val_accuracy: 0.8537\n",
      "Epoch 60/100\n",
      "200/200 [==============================] - 1s 7ms/step - loss: 0.3133 - accuracy: 0.8714 - val_loss: 0.3608 - val_accuracy: 0.8544\n",
      "Epoch 61/100\n",
      "200/200 [==============================] - 1s 6ms/step - loss: 0.3127 - accuracy: 0.8719 - val_loss: 0.3607 - val_accuracy: 0.8525\n",
      "Epoch 62/100\n",
      "200/200 [==============================] - 1s 6ms/step - loss: 0.3126 - accuracy: 0.8700 - val_loss: 0.3604 - val_accuracy: 0.8537\n",
      "Epoch 63/100\n",
      "200/200 [==============================] - 1s 7ms/step - loss: 0.3123 - accuracy: 0.8706 - val_loss: 0.3618 - val_accuracy: 0.8525\n",
      "Epoch 64/100\n",
      "200/200 [==============================] - 1s 7ms/step - loss: 0.3116 - accuracy: 0.8708 - val_loss: 0.3605 - val_accuracy: 0.8531\n",
      "Epoch 65/100\n",
      "200/200 [==============================] - 1s 7ms/step - loss: 0.3122 - accuracy: 0.8697 - val_loss: 0.3602 - val_accuracy: 0.8519\n",
      "Epoch 66/100\n",
      "200/200 [==============================] - 1s 7ms/step - loss: 0.3114 - accuracy: 0.8714 - val_loss: 0.3599 - val_accuracy: 0.8525\n",
      "Epoch 67/100\n",
      "200/200 [==============================] - 1s 6ms/step - loss: 0.3113 - accuracy: 0.8711 - val_loss: 0.3615 - val_accuracy: 0.8531\n",
      "Epoch 68/100\n",
      "200/200 [==============================] - 1s 6ms/step - loss: 0.3109 - accuracy: 0.8723 - val_loss: 0.3632 - val_accuracy: 0.8506\n",
      "Epoch 69/100\n",
      "200/200 [==============================] - 1s 7ms/step - loss: 0.3112 - accuracy: 0.8714 - val_loss: 0.3622 - val_accuracy: 0.8506\n",
      "Epoch 70/100\n",
      "200/200 [==============================] - 1s 7ms/step - loss: 0.3112 - accuracy: 0.8700 - val_loss: 0.3600 - val_accuracy: 0.8537\n",
      "Epoch 71/100\n",
      "200/200 [==============================] - 1s 6ms/step - loss: 0.3109 - accuracy: 0.8730 - val_loss: 0.3628 - val_accuracy: 0.8519\n",
      "Epoch 72/100\n",
      "200/200 [==============================] - 1s 7ms/step - loss: 0.3112 - accuracy: 0.8698 - val_loss: 0.3625 - val_accuracy: 0.8525\n",
      "Epoch 73/100\n",
      "200/200 [==============================] - 1s 7ms/step - loss: 0.3101 - accuracy: 0.8716 - val_loss: 0.3627 - val_accuracy: 0.8544\n",
      "Epoch 74/100\n",
      "200/200 [==============================] - 1s 6ms/step - loss: 0.3109 - accuracy: 0.8709 - val_loss: 0.3610 - val_accuracy: 0.8550\n",
      "Epoch 75/100\n",
      "200/200 [==============================] - 2s 8ms/step - loss: 0.3098 - accuracy: 0.8716 - val_loss: 0.3639 - val_accuracy: 0.8562\n",
      "Epoch 76/100\n",
      "200/200 [==============================] - 2s 8ms/step - loss: 0.3106 - accuracy: 0.8708 - val_loss: 0.3620 - val_accuracy: 0.8519\n",
      "Epoch 77/100\n",
      "200/200 [==============================] - 2s 11ms/step - loss: 0.3102 - accuracy: 0.8723 - val_loss: 0.3630 - val_accuracy: 0.8531\n",
      "Epoch 78/100\n",
      "200/200 [==============================] - 2s 11ms/step - loss: 0.3097 - accuracy: 0.8727 - val_loss: 0.3622 - val_accuracy: 0.8531\n",
      "Epoch 79/100\n",
      "200/200 [==============================] - 2s 11ms/step - loss: 0.3097 - accuracy: 0.8719 - val_loss: 0.3612 - val_accuracy: 0.8544\n",
      "Epoch 80/100\n",
      "200/200 [==============================] - 2s 8ms/step - loss: 0.3094 - accuracy: 0.8720 - val_loss: 0.3620 - val_accuracy: 0.8537\n",
      "Epoch 81/100\n",
      "200/200 [==============================] - 1s 7ms/step - loss: 0.3091 - accuracy: 0.8700 - val_loss: 0.3610 - val_accuracy: 0.8544\n",
      "Epoch 82/100\n",
      "200/200 [==============================] - 2s 8ms/step - loss: 0.3095 - accuracy: 0.8733 - val_loss: 0.3621 - val_accuracy: 0.8531\n",
      "Epoch 83/100\n",
      "200/200 [==============================] - 1s 6ms/step - loss: 0.3096 - accuracy: 0.8705 - val_loss: 0.3613 - val_accuracy: 0.8544\n",
      "Epoch 84/100\n",
      "200/200 [==============================] - 1s 6ms/step - loss: 0.3089 - accuracy: 0.8736 - val_loss: 0.3624 - val_accuracy: 0.8537\n",
      "Epoch 85/100\n",
      "200/200 [==============================] - 2s 8ms/step - loss: 0.3089 - accuracy: 0.8725 - val_loss: 0.3640 - val_accuracy: 0.8525\n",
      "Epoch 86/100\n",
      "200/200 [==============================] - 2s 8ms/step - loss: 0.3092 - accuracy: 0.8712 - val_loss: 0.3622 - val_accuracy: 0.8569\n",
      "Epoch 87/100\n",
      "200/200 [==============================] - 1s 6ms/step - loss: 0.3084 - accuracy: 0.8712 - val_loss: 0.3628 - val_accuracy: 0.8544\n",
      "Epoch 88/100\n",
      "200/200 [==============================] - 1s 7ms/step - loss: 0.3088 - accuracy: 0.8714 - val_loss: 0.3643 - val_accuracy: 0.8562\n",
      "Epoch 89/100\n",
      "200/200 [==============================] - 1s 7ms/step - loss: 0.3088 - accuracy: 0.8725 - val_loss: 0.3642 - val_accuracy: 0.8531\n",
      "Epoch 90/100\n",
      "200/200 [==============================] - 1s 7ms/step - loss: 0.3089 - accuracy: 0.8730 - val_loss: 0.3619 - val_accuracy: 0.8562\n",
      "Epoch 91/100\n",
      "200/200 [==============================] - 1s 7ms/step - loss: 0.3087 - accuracy: 0.8733 - val_loss: 0.3622 - val_accuracy: 0.8544\n",
      "Epoch 92/100\n",
      "200/200 [==============================] - 1s 6ms/step - loss: 0.3089 - accuracy: 0.8720 - val_loss: 0.3627 - val_accuracy: 0.8556\n",
      "Epoch 93/100\n",
      "200/200 [==============================] - 1s 6ms/step - loss: 0.3084 - accuracy: 0.8720 - val_loss: 0.3620 - val_accuracy: 0.8537\n",
      "Epoch 94/100\n",
      "200/200 [==============================] - 2s 10ms/step - loss: 0.3076 - accuracy: 0.8719 - val_loss: 0.3649 - val_accuracy: 0.8531\n",
      "Epoch 95/100\n",
      "200/200 [==============================] - 1s 7ms/step - loss: 0.3083 - accuracy: 0.8727 - val_loss: 0.3624 - val_accuracy: 0.8544\n",
      "Epoch 96/100\n",
      "200/200 [==============================] - 1s 6ms/step - loss: 0.3082 - accuracy: 0.8725 - val_loss: 0.3649 - val_accuracy: 0.8519\n",
      "Epoch 97/100\n",
      "200/200 [==============================] - 1s 7ms/step - loss: 0.3081 - accuracy: 0.8725 - val_loss: 0.3630 - val_accuracy: 0.8544\n",
      "Epoch 98/100\n",
      "200/200 [==============================] - 1s 7ms/step - loss: 0.3078 - accuracy: 0.8723 - val_loss: 0.3628 - val_accuracy: 0.8550\n",
      "Epoch 99/100\n",
      "200/200 [==============================] - 1s 6ms/step - loss: 0.3076 - accuracy: 0.8752 - val_loss: 0.3633 - val_accuracy: 0.8562\n",
      "Epoch 100/100\n",
      "200/200 [==============================] - 2s 8ms/step - loss: 0.3073 - accuracy: 0.8731 - val_loss: 0.3653 - val_accuracy: 0.8562\n"
     ]
    }
   ],
   "source": [
    "model.compile(optimizer='Adam',loss='binary_crossentropy',metrics=['accuracy'])\n",
    "history=model.fit(X_train,y_train,epochs=100,validation_split=0.2)"
   ]
  },
  {
   "cell_type": "code",
   "execution_count": 30,
   "id": "861db21b",
   "metadata": {},
   "outputs": [
    {
     "data": {
      "text/plain": [
       "[array([[ 0.252017  ,  0.3980697 ,  0.19471504,  0.00257842,  0.3447875 ,\n",
       "          0.42558843, -0.06584541,  0.30932298,  0.3872126 ,  0.76367694,\n",
       "          0.2746623 ],\n",
       "        [-0.38782394,  0.36207688, -0.37295443, -0.4377599 ,  0.13503422,\n",
       "          0.13307355,  0.01383227,  0.61993897,  0.18545738,  0.28340402,\n",
       "          0.38393286],\n",
       "        [ 0.5166969 ,  0.5128391 ,  0.42619306,  0.36765826, -0.28793508,\n",
       "         -0.10888518,  0.33695683, -0.5817379 , -0.66741765, -0.46502817,\n",
       "          0.2825875 ],\n",
       "        [ 0.4385945 ,  0.58335197, -0.17196341,  0.1468733 , -0.4435108 ,\n",
       "          0.27061322,  0.2156785 ,  0.0268234 ,  0.22321968, -0.22352612,\n",
       "         -0.5877417 ],\n",
       "        [ 0.62396425,  0.07407404, -0.93067753,  0.18116118,  0.32289612,\n",
       "         -0.04918017,  0.00268979, -0.3040808 ,  0.13446864, -0.14457938,\n",
       "          0.75921965],\n",
       "        [-0.33479485, -0.20239383,  0.5780166 ,  0.20972686,  0.25091457,\n",
       "          0.1909686 ,  0.6711407 , -0.5244547 , -0.04802798, -0.6226094 ,\n",
       "         -0.27342266],\n",
       "        [-0.02152001, -0.2572129 , -0.8931565 ,  0.40904394,  0.275575  ,\n",
       "          0.08902288,  0.3738794 ,  0.56349164,  0.29391447, -0.5484249 ,\n",
       "          0.17627749],\n",
       "        [-0.30490276, -0.48824304,  0.37608865, -0.22089708, -0.30089465,\n",
       "          0.5222577 , -0.3935766 , -0.03594453, -0.26694262,  0.48887148,\n",
       "          0.06454453],\n",
       "        [ 0.74541444,  0.983458  , -0.3917257 , -0.41399127,  0.96479857,\n",
       "         -0.01761672, -0.46808094, -0.2559398 , -0.29372427,  0.08481622,\n",
       "         -0.40509284],\n",
       "        [-0.02590125,  0.3376618 ,  0.5983661 , -0.03607383, -0.7413185 ,\n",
       "          0.14537813, -0.19556135,  0.38779214, -0.07486369, -0.02220357,\n",
       "          0.18882535],\n",
       "        [ 0.15722775,  0.5430646 , -0.0203486 , -0.80445814, -1.2628574 ,\n",
       "         -0.15951507,  0.45669445,  0.34391528,  0.45301288,  0.5164771 ,\n",
       "          0.4027014 ]], dtype=float32),\n",
       " array([-0.03764638, -0.16207261,  0.18917613,  0.00920529, -0.047488  ,\n",
       "         0.05706576,  0.00099307,  0.6128952 ,  0.72910607,  0.49396747,\n",
       "        -0.15840626], dtype=float32)]"
      ]
     },
     "execution_count": 30,
     "metadata": {},
     "output_type": "execute_result"
    }
   ],
   "source": [
    "model.layers[1].get_weights()  # weights"
   ]
  },
  {
   "cell_type": "code",
   "execution_count": 32,
   "id": "63bf968e",
   "metadata": {},
   "outputs": [
    {
     "name": "stdout",
     "output_type": "stream",
     "text": [
      "63/63 [==============================] - 0s 4ms/step\n"
     ]
    }
   ],
   "source": [
    "y_log=model.predict(X_test)"
   ]
  },
  {
   "cell_type": "code",
   "execution_count": 33,
   "id": "9fab3dca",
   "metadata": {},
   "outputs": [
    {
     "data": {
      "text/plain": [
       "0.8185"
      ]
     },
     "execution_count": 33,
     "metadata": {},
     "output_type": "execute_result"
    }
   ],
   "source": [
    "from sklearn.metrics import accuracy_score\n",
    "accuracy_score(y_test,y_pred)"
   ]
  },
  {
   "cell_type": "code",
   "execution_count": 34,
   "id": "ca1a4be9",
   "metadata": {},
   "outputs": [],
   "source": [
    "import matplotlib.pyplot as plt"
   ]
  },
  {
   "cell_type": "code",
   "execution_count": 35,
   "id": "9786e91b",
   "metadata": {},
   "outputs": [
    {
     "data": {
      "text/plain": [
       "[<matplotlib.lines.Line2D at 0x18355a1caf0>]"
      ]
     },
     "execution_count": 35,
     "metadata": {},
     "output_type": "execute_result"
    },
    {
     "data": {
      "image/png": "[encoded data removed]",
      "text/plain": [
       "<Figure size 640x480 with 1 Axes>"
      ]
     },
     "metadata": {},
     "output_type": "display_data"
    }
   ],
   "source": [
    "plt.plot(history.history['loss'])\n",
    "plt.plot(history.history['val_loss'])"
   ]
  },
  {
   "cell_type": "code",
   "execution_count": 36,
   "id": "494055f8",
   "metadata": {},
   "outputs": [
    {
     "data": {
      "text/plain": [
       "[<matplotlib.lines.Line2D at 0x18355a7beb0>]"
      ]
     },
     "execution_count": 36,
     "metadata": {},
     "output_type": "execute_result"
    },
    {
     "data": {
      "image/png": "[encoded data removed]",
      "text/plain": [
       "<Figure size 640x480 with 1 Axes>"
      ]
     },
     "metadata": {},
     "output_type": "display_data"
    }
   ],
   "source": [
    "plt.plot(history.history['accuracy'])\n",
    "plt.plot(history.history['val_accuracy'])"
   ]
  },
  {
   "cell_type": "code",
   "execution_count": null,
   "id": "c0a4d2d4",
   "metadata": {},
   "outputs": [],
   "source": []
  }
 ],
 "metadata": {
  "kernelspec": {
   "display_name": "Python 3 (ipykernel)",
   "language": "python",
   "name": "python3"
  },
  "language_info": {
   "codemirror_mode": {
    "name": "ipython",
    "version": 3
   },
   "file_extension": ".py",
   "mimetype": "text/x-python",
   "name": "python",
   "nbconvert_exporter": "python",
   "pygments_lexer": "ipython3",
   "version": "3.9.13"
  }
 },
 "nbformat": 4,
 "nbformat_minor": 5
}
